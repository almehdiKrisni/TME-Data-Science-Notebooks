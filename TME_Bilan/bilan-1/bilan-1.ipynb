{
 "cells": [
  {
   "cell_type": "markdown",
   "metadata": {},
   "source": [
    "IA & Data science (LU3IN0226) -- 2020-2021\n",
    "--------\n",
    "*&copy; Equipe pédagogique: Vincent Guigue, Christophe Marsala, Edoardo Sarti, Olivier Schwander.*\n"
   ]
  },
  {
   "cell_type": "markdown",
   "metadata": {},
   "source": [
    "# Premier bilan: classifieurs statistiques\n",
    "\n",
    "Le but de ce notebook est de faire le point sur les premiers classifieurs qui ont été vus depuis le début du semestre.\n",
    "\n",
    "\n",
    "**<font color=\"RED\">Remarque: dans ce notebook, les sorties attendues des boîtes ont été supprimées, vous pouvez vous y référer dans le fichier HTML fourni. </font>**\n",
    "\n",
    "\n",
    "\n",
    "## Travail à faire\n",
    "Ce notebook est divisé en 2 parties. \n",
    "1. la partie \"Mise en place\" : ce sont les premières boîtes de ce notebook, elles servent à vérifier que vos classifieurs fonctionnent.\n",
    "2. la partie \"Expérimentations\" : cette partie est libre, vous pouvez la compléter comme vous le souhaitez\n",
    "\n",
    "## Rendu et exposé en semaine 9\n",
    "Ce notebook est à rendre, sur Moodle, <font color=\"RED\">**le mardi 6 avril à 16h au plus tard**</font> quel que soit votre groupe. \n",
    "\n",
    "Ce qui est à rendre:\n",
    "1. ce notebook\n",
    "2. votre fichier `Classifiers.py`\n",
    "3. votre fichier `utils.py`\n",
    "\n",
    "Les 3 fichiers doivent être mis dans un fichier archive (zip ou tar.gz ou tgz) : cette archive est remise sur le site Moodle : une archive par binôme (un seul membre soumet pour les 2).\n",
    "\n",
    "Lors de la séance de TDTME de la semaine 9 de votre groupe, un exposé de 10mn sera fait par chaque binôme afin de présenter le travail réalisé.\n",
    "\n",
    "Ce travail (compte-rendu et exposé) sera noté sur 10 et comptera pour 10% de la note finale d'UE."
   ]
  },
  {
   "cell_type": "markdown",
   "metadata": {},
   "source": [
    "<font size=\"+1\" color=\"RED\">**[Q]**</font> **Indiquer dans la boîte ci-dessous vos noms et prénoms :**"
   ]
  },
  {
   "cell_type": "markdown",
   "metadata": {},
   "source": [
    "KRISNI Almehdi - 3800519"
   ]
  },
  {
   "cell_type": "markdown",
   "metadata": {},
   "source": [
    "<font color=\"RED\" size=\"+1\">**[Q]**</font> **Renommer ce fichier ipython**\n",
    "\n",
    "Tout en haut de cette page, cliquer sur <tt>bilan-1</tt> et rajouter à la suite de <tt>bilan-1</tt> les noms des membres du binômes séparés par un tiret.\n",
    "\n",
    "Par exemple, pour le binôme Luke Skywalker et Han Solo, le nom de fichier devient `bilan-1-Skywalker-Solo`\n",
    "\n",
    "Penser à sauvegarder fréquemment le fichier en cours de travail :\n",
    "- soit en cliquant sur l'icône \"disquette\"\n",
    "- soit par la combinaison de touches [Ctrl]-S"
   ]
  },
  {
   "cell_type": "code",
   "execution_count": 2,
   "metadata": {},
   "outputs": [],
   "source": [
    "# commande TRES utile pour recharger automatiquement le code que vous modifiez dans les modules\n",
    "%load_ext autoreload\n",
    "%autoreload 2"
   ]
  },
  {
   "cell_type": "code",
   "execution_count": 3,
   "metadata": {},
   "outputs": [],
   "source": [
    "# Importation des librairies standards:\n",
    "import numpy as np\n",
    "import pandas as pd\n",
    "import matplotlib.pyplot as plt\n",
    "from matplotlib import cm\n",
    "import pickle as pkl\n",
    "%matplotlib inline  "
   ]
  },
  {
   "cell_type": "code",
   "execution_count": 4,
   "metadata": {},
   "outputs": [],
   "source": [
    "# Importation de votre librairie iads:\n",
    "# La ligne suivante permet de préciser le chemin d'accès à la librairie iads\n",
    "import sys\n",
    "sys.path.append('../')   # iads doit être dans le répertoire frère du répertoire courant !\n",
    "\n",
    "# Importation de la librairie iads\n",
    "import iads as iads\n",
    "\n",
    "# importation de Classifiers\n",
    "from iads import Classifiers as classif\n",
    "\n",
    "# importation de utils\n",
    "from iads import utils as ut\n"
   ]
  },
  {
   "cell_type": "code",
   "execution_count": 5,
   "metadata": {},
   "outputs": [],
   "source": [
    "# Importation du package seaborn:\n",
    "import seaborn as sns"
   ]
  },
  {
   "cell_type": "code",
   "execution_count": 6,
   "metadata": {},
   "outputs": [],
   "source": [
    "# Graine pour les tirages aléatoires :\n",
    "np.random.seed(42)   # supprimer cette ligne une fois la mise au point terminée"
   ]
  },
  {
   "cell_type": "markdown",
   "metadata": {},
   "source": [
    "# 1. Mise en place"
   ]
  },
  {
   "cell_type": "markdown",
   "metadata": {},
   "source": [
    "## Données jouet\n",
    "\n",
    "Pour être sûr d'avoir un modèle assez constant, on prend un problème très simple, c'est-à-dire un problème où les distribution des classes des données d'apprentissage sont très bien séparées. Pour cela, il suffit de générer des données selon des gaussiennes très écartées."
   ]
  },
  {
   "cell_type": "code",
   "execution_count": 7,
   "metadata": {},
   "outputs": [
    {
     "data": {
      "image/png": "[encoded data removed]",
      "text/plain": [
       "<Figure size 432x288 with 1 Axes>"
      ]
     },
     "metadata": {
      "needs_background": "light"
     },
     "output_type": "display_data"
    }
   ],
   "source": [
    "# Exemple d'utilisation:\n",
    "np.random.seed(42)   # on prend 42 comme graine\n",
    "\n",
    "# générer des données gaussienne 2D\n",
    "\n",
    "N = 100\n",
    "X,Y =  ut.genere_dataset_gaussian([-2,-2],[[1,0],[0,1]], [2,2],[[1,0],[0,1]],N)\n",
    "\n",
    "ut.plot2DSet(X,Y)\n",
    "\n",
    "# remarque: dans votre fonction plot2DSet() rajouter la ligne suivante:\n",
    "# plt.grid(True)\n",
    "# afin d'avoir l'affichage d'une grille pour les valeurs des axes"
   ]
  },
  {
   "cell_type": "markdown",
   "metadata": {},
   "source": [
    "Pour vérifier que les valeurs sont les mêmes pour les 5 premiers exemples:"
   ]
  },
  {
   "cell_type": "code",
   "execution_count": 8,
   "metadata": {},
   "outputs": [
    {
     "data": {
      "text/plain": [
       "array([[-1.64221264, -1.43921547],\n",
       "       [-0.91694876, -0.94619795],\n",
       "       [-3.37766937, -2.93782504],\n",
       "       [-1.48496473, -1.48621405],\n",
       "       [-1.48495231,  1.85273149]])"
      ]
     },
     "execution_count": 8,
     "metadata": {},
     "output_type": "execute_result"
    }
   ],
   "source": [
    "# Exemples de la classe +1\n",
    "X[Y==+1][0:5,:]"
   ]
  },
  {
   "cell_type": "code",
   "execution_count": 9,
   "metadata": {},
   "outputs": [
    {
     "data": {
      "text/plain": [
       "array([[2.49671415, 1.8617357 ],\n",
       "       [2.64768854, 3.52302986],\n",
       "       [1.76584663, 1.76586304],\n",
       "       [3.57921282, 2.76743473],\n",
       "       [1.53052561, 2.54256004]])"
      ]
     },
     "execution_count": 9,
     "metadata": {},
     "output_type": "execute_result"
    }
   ],
   "source": [
    "# Exemples de la classe -1\n",
    "X[Y==-1][0:5,:]"
   ]
  },
  {
   "cell_type": "markdown",
   "metadata": {},
   "source": [
    "<font color=\"RED\" size=\"+1\">[Q]</font> Avant d'appliquer un classifieur, proposer une droite, passant par l'origine, et permettant de séparer les exemples des 2 classes.\n",
    "\n",
    "Une fois votre droite trouvée, comme elle passe par le point $(0,0)$, elle vérifie donc l'équation $w_1 x_1+w_2 x_2 =0$, calculer (à la main) les valeurs de $w_1$ et $w_2$ pour cette droite."
   ]
  },
  {
   "cell_type": "markdown",
   "metadata": {},
   "source": [
    "<font color=\"RED\" size=\"+1\">[Q]</font> Je propose l'utilisation de la droite passant par les points (0,0) et (1, -1) afin de séparer les exemples des 2 classes.\n",
    "\n",
    "De ce fait, on a x + y = 0 donc :\n",
    "x + y = (w1 * x1) + (w2 * x2) => w1 = 1 et w2 = -1.\n",
    "\n",
    "Il s'agit de la droite d'équation y = -x."
   ]
  },
  {
   "cell_type": "markdown",
   "metadata": {},
   "source": [
    "##  Algorithme des $k$ plus proches voisins\n"
   ]
  },
  {
   "cell_type": "code",
   "execution_count": 10,
   "metadata": {},
   "outputs": [
    {
     "name": "stdout",
     "output_type": "stream",
     "text": [
      "Accuracy pour k=1:  1.0\n"
     ]
    },
    {
     "data": {
      "image/png": "[encoded data removed]",
      "text/plain": [
       "<Figure size 432x288 with 1 Axes>"
      ]
     },
     "metadata": {
      "needs_background": "light"
     },
     "output_type": "display_data"
    }
   ],
   "source": [
    "# Création d'un knn avec k=1 et 2 dimensions pour les données\n",
    "classifierKNN = classif.ClassifierKNN(2,1)\n",
    "\n",
    "# Entraînement du classifier:\n",
    "classifierKNN.train(X,Y)\n",
    "\n",
    "# Affichage de la frontière de séparation des classes\n",
    "ut.plot_frontiere(X,Y,classifierKNN)\n",
    "ut.plot2DSet(X,Y)\n",
    "\n",
    "# Performance de ce classifieur:\n",
    "print(\"Accuracy pour k=1: \", classifierKNN.accuracy(X,Y))"
   ]
  },
  {
   "cell_type": "code",
   "execution_count": 11,
   "metadata": {},
   "outputs": [
    {
     "name": "stdout",
     "output_type": "stream",
     "text": [
      "Accuracy pour k=5:  0.995\n"
     ]
    },
    {
     "data": {
      "image/png": "[encoded data removed]",
      "text/plain": [
       "<Figure size 432x288 with 1 Axes>"
      ]
     },
     "metadata": {
      "needs_background": "light"
     },
     "output_type": "display_data"
    }
   ],
   "source": [
    "# Création d'un knn avec k=5 et 2 dimensions pour les données\n",
    "classifierKNN5 = classif.ClassifierKNN(2,5)\n",
    "\n",
    "# Entraînement du classifier:\n",
    "classifierKNN5.train(X,Y)\n",
    "\n",
    "# Affichage de la frontière de séparation des classes\n",
    "ut.plot_frontiere(X,Y,classifierKNN5)\n",
    "ut.plot2DSet(X,Y)\n",
    "\n",
    "# Performance de ce classifieur:\n",
    "print(\"Accuracy pour k=5: \",classifierKNN5.accuracy(X,Y))"
   ]
  },
  {
   "cell_type": "markdown",
   "metadata": {},
   "source": [
    "<font color=\"RED\" size=\"+1\">[Q]</font> Combien d'exemples sont mal classés par l'algorithme des kppv quand $k$ vaut 5? Pourquoi sont-ils mal classés ? Vérifiez \"à la main\" que le résultat est correct en ce qui les concerne."
   ]
  },
  {
   "cell_type": "markdown",
   "metadata": {},
   "source": [
    "<font color=\"RED\" size=\"+1\">[R]</font> Le nombre de points mal classés par l'algorithme des kppv quand k vaut 5 est de 1. Ce point est mal classé puisque parmi ses 5 plus proches points voisins, la majorité de ces points ne font pas partie de sa classe. Il s'agit du point bleu dans la partie rouge de la frontière dans l'affichage.\n",
    "\n",
    "On peut vérifier à la main grace au code en-dessous que le résultat est correct en qui concerne ce point en vérifiant le label de ses 5 plus proches voisins."
   ]
  },
  {
   "cell_type": "code",
   "execution_count": 12,
   "metadata": {},
   "outputs": [
    {
     "name": "stdout",
     "output_type": "stream",
     "text": [
      "Le label des 5 plus proches voisins du point mal classés sont :\n",
      " [-1 -1 -1 -1 -1]\n"
     ]
    }
   ],
   "source": [
    "# On cherche ce point (on vérifie si il est mal classé)\n",
    "x = None\n",
    "for p in range(len(classifierKNN5.desc_set)) :\n",
    "    if (classifierKNN5.score(classifierKNN5.desc_set[p]) != classifierKNN5.label_set[p]) :\n",
    "        x = classifierKNN5.desc_set[p]\n",
    "\n",
    "# On calcule les distance de x au reste des points\n",
    "distances_x = []\n",
    "index = []\n",
    "for k in range(len(classifierKNN5.desc_set)) :\n",
    "    distances_x.append(classifierKNN5.distance(x, classifierKNN5.desc_set[k]))\n",
    "    index.append(k)\n",
    "\n",
    "# On zip les listes\n",
    "new_tab = list(zip(distances_x, index))\n",
    "new_tab.sort(key = lambda i: i[0])\n",
    "\n",
    "# On affiche le label des 5 plus proches voisins de x\n",
    "ppv = []\n",
    "for i in range(1, 6) :\n",
    "    ppv.append(new_tab[i][1])\n",
    "print(\"Le label des 5 plus proches voisins du point mal classés sont :\\n\", classifierKNN5.label_set[ppv])"
   ]
  },
  {
   "cell_type": "markdown",
   "metadata": {},
   "source": [
    "##  Perceptron de Rosenblatt\n",
    "\n",
    "Information sur le perceptron implémenté qui a été utilisé par la suite dans ce notebook:\n",
    "- initialisation des poids : mis à 0\n",
    "- méthode train: un seul parcours de tous le training set en prenant les exemples dans un ordre aléatoire (généré par shuffle)\n",
    "- mise à jour des poids dans le train: à chaque mauvaise classification, version du TME3, une mauvaise classification se produit quand la prédiction n'est pas la classe de l'exemple.\n",
    "\n",
    "\n",
    "<font color=\"RED\" size=\"+1\">ATTENTION !</font> L'algorithme du perceptron que l'on a vu peut être implémenté de différentes manières, il se peut donc que vous ne trouviez pas **exactement** les mêmes valeurs que celles qui sont indiquées en résultat dans les boîtes qui suivent. Cela peut être normal !"
   ]
  },
  {
   "cell_type": "markdown",
   "metadata": {},
   "source": [
    "### Essai avec un learning rate faible"
   ]
  },
  {
   "cell_type": "markdown",
   "metadata": {},
   "source": [
    "<font color=\"RED\" size=\"+1\">[Q]</font> Avant de réaliser les expérimentations suivantes, rajouter dans la classe `ClassifieurPerceptron` un accesseur pour le vecteur de poids courant du classifieur:"
   ]
  },
  {
   "cell_type": "code",
   "execution_count": 13,
   "metadata": {},
   "outputs": [],
   "source": [
    "#  A RAJOUTER DANS LA CLASSE ClassifierPerceptron:\n",
    "\n",
    "def getW(self):\n",
    "    \"\"\" rend le vecteur de poids actuel du perceptron\n",
    "    \"\"\"\n",
    "    return self.w"
   ]
  },
  {
   "cell_type": "code",
   "execution_count": 14,
   "metadata": {
    "scrolled": false
   },
   "outputs": [
    {
     "name": "stdout",
     "output_type": "stream",
     "text": [
      "Accuracy du perceptron ( 0.001 ) après 1 train:  1.0\n",
      "Vecteur de poids trouvé:  [-0.00303844 -0.00100367]\n"
     ]
    },
    {
     "data": {
      "image/png": "[encoded data removed]",
      "text/plain": [
       "<Figure size 432x288 with 1 Axes>"
      ]
     },
     "metadata": {
      "needs_background": "light"
     },
     "output_type": "display_data"
    }
   ],
   "source": [
    "# Choix du learning rate\n",
    "learning_rate = 1e-3\n",
    "\n",
    "# Graine pour les tirages aléatoires :\n",
    "np.random.seed(42)  \n",
    "\n",
    "# Création d'un perceptron\n",
    "perceptronV0 = classif.ClassifierPerceptron(2, learning_rate)\n",
    "\n",
    "# Entraînement du classifier:\n",
    "perceptronV0.train(X,Y)\n",
    "\n",
    "# Affichage de la frontière de séparation des classes\n",
    "# On augmente la qualité du tracé en prenant un step élevé:\n",
    "ut.plot_frontiere(X,Y,perceptronV0,step=150)\n",
    "ut.plot2DSet(X,Y)\n",
    "\n",
    "# Performance de ce classifieur:\n",
    "print(\"Accuracy du perceptron (\", learning_rate,\") après 1 train: \",perceptronV0.accuracy(X,Y))\n",
    "print(\"Vecteur de poids trouvé: \", perceptronV0.getW())"
   ]
  },
  {
   "cell_type": "markdown",
   "metadata": {},
   "source": [
    "<font color=\"RED\" size=\"+1\">[Q]</font> Comparer le vecteur de poids trouvé par votre classifieur avec les poids de la droite que vous aviez proposés. Qu'en pensez-vous ?"
   ]
  },
  {
   "cell_type": "markdown",
   "metadata": {},
   "source": [
    "<font color=\"RED\" size=\"+1\">[R]</font> J'avais proposé la droite d'équation y = -x, soit x + y = 0.\n",
    "<br/>Je remarque que la droite que j'ai proposé correspond à peu près avec celle affichée lors de l'affichage de la frontière."
   ]
  },
  {
   "cell_type": "markdown",
   "metadata": {},
   "source": [
    "On décide de réaliser plusieurs fois l'apprentissage du perceptron:"
   ]
  },
  {
   "cell_type": "code",
   "execution_count": 15,
   "metadata": {},
   "outputs": [
    {
     "name": "stdout",
     "output_type": "stream",
     "text": [
      "Accuracy du perceptron ( 0.001 ) après les 11 train:  1.0\n",
      "Vecteur de poids trouvé:  [-0.00303844 -0.00100367]\n"
     ]
    },
    {
     "data": {
      "image/png": "[encoded data removed]",
      "text/plain": [
       "<Figure size 432x288 with 1 Axes>"
      ]
     },
     "metadata": {
      "needs_background": "light"
     },
     "output_type": "display_data"
    }
   ],
   "source": [
    "# Graine pour les tirages aléatoires :\n",
    "np.random.seed(42)   # supprimer cette ligne une fois la mise au point terminée\n",
    "\n",
    "# on rajoute 10 appels de train après le train de la boîte précédente\n",
    "for i in range(0,10):\n",
    "    perceptronV0.train(X,Y)\n",
    "    \n",
    "# Affichage de la frontière de séparation des classes\n",
    "ut.plot_frontiere(X,Y,perceptronV0,step=150)\n",
    "ut.plot2DSet(X,Y)\n",
    "\n",
    "# Performance de ce classifieur:\n",
    "print(\"Accuracy du perceptron (\", learning_rate,\") après les 11 train: \",perceptronV0.accuracy(X,Y))  \n",
    "print(\"Vecteur de poids trouvé: \", perceptronV0.getW())"
   ]
  },
  {
   "cell_type": "markdown",
   "metadata": {},
   "source": [
    "<font color=\"RED\" size=\"+1\">[Q]</font> Que constate-t-on sur le vecteur des poids ? Est-ce normal ? Expliquez."
   ]
  },
  {
   "cell_type": "markdown",
   "metadata": {},
   "source": [
    "<font color=\"RED\" size=\"+1\">[R]</font> On remarque les valeurs du vecteur des poids ne change pas puisque la forme de la frontière ne change pas (il y a une différence mais elle n'est pas flagrante).\n",
    "<br/>Cela s'explique du fait qu'après la première utilisation de train, la majorité, voire l'ensemble, des points se retrouvent bien classés, soit w * score(x) * y > 0, et qu'il n y a plus de mises à jour des poids."
   ]
  },
  {
   "cell_type": "markdown",
   "metadata": {},
   "source": [
    "## Affichage de l'évolution du coût (cf. TME4)\n"
   ]
  },
  {
   "cell_type": "code",
   "execution_count": 16,
   "metadata": {},
   "outputs": [
    {
     "name": "stdout",
     "output_type": "stream",
     "text": [
      "Accuracy du perceptron ( 0.001 ):  1.0\n",
      "Vecteur de poids final trouvé:  [-0.00303844 -0.00100367]\n"
     ]
    },
    {
     "data": {
      "image/png": "[encoded data removed]",
      "text/plain": [
       "<Figure size 432x288 with 1 Axes>"
      ]
     },
     "metadata": {
      "needs_background": "light"
     },
     "output_type": "display_data"
    }
   ],
   "source": [
    "# Choix du learning rate\n",
    "learning_rate = 1e-3\n",
    "\n",
    "# Graine pour les tirages aléatoires :\n",
    "np.random.seed(42)  \n",
    "\n",
    "# Création et entraînement du perceptron sur les données générées\n",
    "# On utilise la mémorisation de l'historique des poids comme vu en TME 4\n",
    "perceptronV1 = classif.ClassifierPerceptron(2, learning_rate, history=True)\n",
    "\n",
    "# on réalise 10 appels de train:\n",
    "for i in range(0,10):\n",
    "    perceptronV1.train(X,Y)\n",
    "\n",
    "# récupération de l'évolution des w au cours de l'apprentissage \n",
    "allw = np.array(perceptronV1.allw) # si allw est sous forme de liste\n",
    "\n",
    "# Tracé de l'évolution des w:\n",
    "plt.figure()\n",
    "plt.plot(allw[:,0]) # première coordonnée du vecteur poids: w1\n",
    "plt.plot(allw[:,1]) # deuxième coordonnée du vecteur poids: w2\n",
    "plt.title('Evolution des w au cours des itérations du perceptron')\n",
    "plt.xlabel('iterations')\n",
    "plt.legend(['w1','w2'])\n",
    "\n",
    "# Performance de ce classifieur:\n",
    "print(\"Accuracy du perceptron (\", learning_rate,\"): \",perceptronV1.accuracy(X,Y)) \n",
    "print(\"Vecteur de poids final trouvé: \", perceptronV1.getW())"
   ]
  },
  {
   "cell_type": "markdown",
   "metadata": {},
   "source": [
    "On va faire la même chose mais cette fois-ci, on utilise la version du Perceptron avec biais implémentée lors du TME 4 : c'est-à-dire une version où les points ne sont considérés bien classés que dans le cas où $f(\\mathbf x_i) y_i>1$ (cela influence donc sur la mise à jour des poids).\n"
   ]
  },
  {
   "cell_type": "code",
   "execution_count": 17,
   "metadata": {},
   "outputs": [
    {
     "name": "stdout",
     "output_type": "stream",
     "text": [
      "Accuracy du perceptron ( 0.001 ):  1.0\n",
      "Nombre de mises à jour des poids:  5029\n"
     ]
    },
    {
     "data": {
      "image/png": "[encoded data removed]",
      "text/plain": [
       "<Figure size 432x288 with 1 Axes>"
      ]
     },
     "metadata": {
      "needs_background": "light"
     },
     "output_type": "display_data"
    }
   ],
   "source": [
    "np.random.seed(42)   # on prend 42 comme graine\n",
    "\n",
    "learning_rate =1e-3\n",
    "\n",
    "# Création et entraînement du perceptron sur les données générées\n",
    "perceptronV2b = classif.ClassifierPerceptronBiais(2, learning_rate, history=True)\n",
    "\n",
    "# on rajoute 10 appels de train après le train de la boîte précédente:\n",
    "for i in range(0,5000):\n",
    "    perceptronV2b.train(X,Y)\n",
    "\n",
    "# récupération de l'évolution des w au cours de l'apprentissage \n",
    "# perceptron initialisé à 0\n",
    "allw = np.array(perceptronV2b.allw) # si allw est sous forme de liste\n",
    "\n",
    "# Tracé de l'évolution des w:\n",
    "plt.figure()\n",
    "plt.plot(allw[:,0]) # première coordonnée du vecteur poids: w1\n",
    "plt.plot(allw[:,1]) # deuxième coordonnée du vecteur poids: w2\n",
    "plt.title('Evolution des w au cours des itérations du perceptron')\n",
    "plt.xlabel('iterations')\n",
    "plt.legend(['w1','w2'])\n",
    "\n",
    "# Performance de ce classifieur:\n",
    "print(\"Accuracy du perceptron (\", learning_rate,\"): \",perceptronV2b.accuracy(X,Y))  \n",
    "print(\"Nombre de mises à jour des poids: \",len(allw))"
   ]
  },
  {
   "cell_type": "code",
   "execution_count": 18,
   "metadata": {},
   "outputs": [
    {
     "name": "stdout",
     "output_type": "stream",
     "text": [
      "Accuracy du perceptron ( 0.001 ) après 100 train:  0.995\n",
      "Vecteur de poids trouvé:  [-0.74174438 -0.68395539]\n"
     ]
    },
    {
     "data": {
      "image/png": "[encoded data removed]",
      "text/plain": [
       "<Figure size 432x288 with 1 Axes>"
      ]
     },
     "metadata": {
      "needs_background": "light"
     },
     "output_type": "display_data"
    }
   ],
   "source": [
    "# Changement du learning rate : on le prend très grand !\n",
    "learning_rate = 1e-3\n",
    "# Création d'un perceptron\n",
    "perceptronV2 = classif.ClassifierPerceptronBiais(2,learning_rate,history=True)\n",
    "\n",
    "# on rajoute 100 appels de train:\n",
    "t = 100\n",
    "for i in range(0, t):\n",
    "    perceptronV2.train(X,Y)\n",
    "    \n",
    "# Affichage de la frontière de séparation des classes\n",
    "ut.plot_frontiere(X,Y,perceptronV2,step=150)\n",
    "ut.plot2DSet(X,Y)\n",
    "\n",
    "# Performance de ce classifieur:\n",
    "print(\"Accuracy du perceptron (\", learning_rate,\") après\", t, \"train: \",perceptronV2.accuracy(X,Y))  \n",
    "print(\"Vecteur de poids trouvé: \", perceptronV2.getW())"
   ]
  },
  {
   "cell_type": "code",
   "execution_count": 19,
   "metadata": {},
   "outputs": [
    {
     "data": {
      "text/plain": [
       "<matplotlib.legend.Legend at 0x7fa8aadb1fa0>"
      ]
     },
     "execution_count": 19,
     "metadata": {},
     "output_type": "execute_result"
    },
    {
     "data": {
      "image/png": "[encoded data removed]",
      "text/plain": [
       "<Figure size 432x288 with 1 Axes>"
      ]
     },
     "metadata": {
      "needs_background": "light"
     },
     "output_type": "display_data"
    }
   ],
   "source": [
    "# récupération de l'évolution des w au cours de l'apprentissage \n",
    "allw = np.array(perceptronV2.allw) # si allw est sous forme de liste\n",
    "\n",
    "# Tracé de l'évolution des w:\n",
    "plt.figure()\n",
    "plt.plot(allw[:,0]) # première coordonnée du vecteur poids: w1\n",
    "plt.plot(allw[:,1]) # deuxième coordonnée du vecteur poids: w2\n",
    "plt.title('Evolution des w au cours des itérations du perceptron')\n",
    "plt.xlabel('iterations')\n",
    "plt.legend(['w1','w2'])\n"
   ]
  },
  {
   "cell_type": "markdown",
   "metadata": {},
   "source": [
    "## Cross-validation\n",
    "\n",
    "Si ce n'est pas déjà encore fait, pensez à rajouter les fonctions `crossval` et `crossval_strat` écrites au TME 4 dans le fichier `utils.py` de votre librairie `iads`.\n"
   ]
  },
  {
   "cell_type": "code",
   "execution_count": 20,
   "metadata": {},
   "outputs": [
    {
     "name": "stdout",
     "output_type": "stream",
     "text": [
      "Apprentissage  1 :\t  |Yapp|=  180  |Ytest|=  20 \tperf=  0.95\n",
      "Apprentissage  2 :\t  |Yapp|=  180  |Ytest|=  20 \tperf=  1.0\n",
      "Apprentissage  3 :\t  |Yapp|=  180  |Ytest|=  20 \tperf=  1.0\n",
      "Apprentissage  4 :\t  |Yapp|=  180  |Ytest|=  20 \tperf=  1.0\n",
      "Apprentissage  5 :\t  |Yapp|=  180  |Ytest|=  20 \tperf=  1.0\n",
      "Apprentissage  6 :\t  |Yapp|=  180  |Ytest|=  20 \tperf=  1.0\n",
      "Apprentissage  7 :\t  |Yapp|=  180  |Ytest|=  20 \tperf=  1.0\n",
      "Apprentissage  8 :\t  |Yapp|=  180  |Ytest|=  20 \tperf=  1.0\n",
      "Apprentissage  9 :\t  |Yapp|=  180  |Ytest|=  20 \tperf=  1.0\n",
      "Apprentissage  10 :\t  |Yapp|=  180  |Ytest|=  20 \tperf=  1.0\n",
      "\n",
      "Résultat global:\tmoyenne= 0.995\técart-type= 0.015\n"
     ]
    }
   ],
   "source": [
    "# Changement du learning rate : on le prend très grand !\n",
    "learning_rate = 1e-3\n",
    "\n",
    "# Graine pour les tirages aléatoires :\n",
    "np.random.seed(42)   # supprimer cette ligne une fois la mise au point terminée\n",
    "\n",
    "niter = 10 \n",
    "perf = []\n",
    "\n",
    "for i in range(niter):\n",
    "    Xapp,Yapp,Xtest,Ytest = ut.crossval_strat(X, Y, niter, i)\n",
    "    cl = classif.ClassifierPerceptronBiais(2,learning_rate)\n",
    "    for j in range(0,10):\n",
    "        cl.train(Xapp, Yapp)\n",
    "    perf.append(cl.accuracy(Xtest, Ytest))\n",
    "    print(\"Apprentissage \",i+1,\":\\t\",\" |Yapp|= \",len(Yapp),\" |Ytest|= \",len(Ytest),\"\\tperf= \",perf[-1])\n",
    "\n",
    "# On transforme la liste en array numpy pour avoir les fonctions statistiques:\n",
    "perf = np.array(perf)\n",
    "print(f'\\nRésultat global:\\tmoyenne= {perf.mean():.3f}\\técart-type= {perf.std():.3f}')"
   ]
  },
  {
   "cell_type": "markdown",
   "metadata": {},
   "source": [
    "## Données plus compliquées"
   ]
  },
  {
   "cell_type": "code",
   "execution_count": 21,
   "metadata": {},
   "outputs": [
    {
     "data": {
      "image/png": "[encoded data removed]",
      "text/plain": [
       "<Figure size 432x288 with 1 Axes>"
      ]
     },
     "metadata": {
      "needs_background": "light"
     },
     "output_type": "display_data"
    }
   ],
   "source": [
    "# Exemple d'utilisation:\n",
    "np.random.seed(42)   # on prend 42 comme graine\n",
    "\n",
    "# générer des données gaussienne 2D\n",
    "\n",
    "N = 1000\n",
    "X1,Y1 =  ut.genere_dataset_gaussian([-4,-3],[[2,0],[0,2]], [4,0],[[2,0],[0,2]],N)\n",
    "X2,Y2 =  ut.genere_dataset_gaussian([-2,4],[[2,0],[0,2]], [3,-1],[[2,0],[0,2]],N)\n",
    "\n",
    "Xdur = np.concatenate((X1,X2))\n",
    "Ydur = np.concatenate((Y1,Y2))\n",
    "\n",
    "ut.plot2DSet(Xdur,Ydur)\n"
   ]
  },
  {
   "cell_type": "code",
   "execution_count": 22,
   "metadata": {},
   "outputs": [],
   "source": [
    "# On va utiliser un chronomètre pour avoir le temps d'exécution :\n",
    "import timeit\n"
   ]
  },
  {
   "cell_type": "code",
   "execution_count": 23,
   "metadata": {},
   "outputs": [
    {
     "name": "stdout",
     "output_type": "stream",
     "text": [
      "Apprentissage  1 :\t  |Yapp|=  3600  |Ytest|=  400 \tperf=  0.99\n",
      "Apprentissage  2 :\t  |Yapp|=  3600  |Ytest|=  400 \tperf=  0.985\n",
      "Apprentissage  3 :\t  |Yapp|=  3600  |Ytest|=  400 \tperf=  0.9925\n",
      "Apprentissage  4 :\t  |Yapp|=  3600  |Ytest|=  400 \tperf=  0.9775\n",
      "Apprentissage  5 :\t  |Yapp|=  3600  |Ytest|=  400 \tperf=  0.9825\n",
      "Apprentissage  6 :\t  |Yapp|=  3600  |Ytest|=  400 \tperf=  0.965\n",
      "Apprentissage  7 :\t  |Yapp|=  3600  |Ytest|=  400 \tperf=  0.9925\n",
      "Apprentissage  8 :\t  |Yapp|=  3600  |Ytest|=  400 \tperf=  0.9775\n",
      "Apprentissage  9 :\t  |Yapp|=  3600  |Ytest|=  400 \tperf=  0.985\n",
      "Apprentissage  10 :\t  |Yapp|=  3600  |Ytest|=  400 \tperf=  0.98\n",
      "\n",
      "Temps mis: PerceptronBiais avec nb_train= 20 --> 1.31638 secondes\n",
      "Résultat global:\tmoyenne= 0.983\técart-type= 0.008\n"
     ]
    }
   ],
   "source": [
    "# Changement du learning rate : on le prend très grand !\n",
    "learning_rate = 1e-3\n",
    "\n",
    "# Graine pour les tirages aléatoires :\n",
    "np.random.seed(42)   # supprimer cette ligne une fois la mise au point terminée\n",
    "\n",
    "niter = 10 \n",
    "perf = []\n",
    "\n",
    "nb_train = 20 # Nombre de lancement de la fonction train()\n",
    "\n",
    "tic = timeit.default_timer() # heure de départ\n",
    "\n",
    "for i in range(niter):\n",
    "    Xapp,Yapp,Xtest,Ytest = ut.crossval_strat(Xdur, Ydur, niter, i)\n",
    "    cl = classif.ClassifierPerceptronBiais(2,learning_rate)\n",
    "    \n",
    "    for j in range(0,nb_train):\n",
    "        cl.train(Xapp, Yapp)\n",
    "    perf.append(cl.accuracy(Xtest, Ytest))\n",
    "    print(\"Apprentissage \",i+1,\":\\t\",\" |Yapp|= \",len(Yapp),\" |Ytest|= \",len(Ytest),\"\\tperf= \",perf[-1])\n",
    "    \n",
    "toc = timeit.default_timer() # heure d'arrivée\n",
    "\n",
    "# On transforme la liste en array numpy pour avoir les fonctions statistiques:\n",
    "perf = np.array(perf)\n",
    "\n",
    "print(f'\\nTemps mis: PerceptronBiais avec nb_train= {nb_train} --> {toc-tic:.5f} secondes')\n",
    "print(f'Résultat global:\\tmoyenne= {perf.mean():.3f}\\técart-type= {perf.std():.3f}')"
   ]
  },
  {
   "cell_type": "code",
   "execution_count": 24,
   "metadata": {
    "scrolled": false
   },
   "outputs": [
    {
     "name": "stdout",
     "output_type": "stream",
     "text": [
      "Apprentissage  1 :\t  |Yapp|=  3600  |Ytest|=  400 \tperf=  0.995\n",
      "Apprentissage  2 :\t  |Yapp|=  3600  |Ytest|=  400 \tperf=  0.995\n",
      "Apprentissage  3 :\t  |Yapp|=  3600  |Ytest|=  400 \tperf=  0.9975\n",
      "Apprentissage  4 :\t  |Yapp|=  3600  |Ytest|=  400 \tperf=  0.995\n",
      "Apprentissage  5 :\t  |Yapp|=  3600  |Ytest|=  400 \tperf=  0.99\n",
      "Apprentissage  6 :\t  |Yapp|=  3600  |Ytest|=  400 \tperf=  0.985\n",
      "Apprentissage  7 :\t  |Yapp|=  3600  |Ytest|=  400 \tperf=  0.995\n",
      "Apprentissage  8 :\t  |Yapp|=  3600  |Ytest|=  400 \tperf=  0.9825\n",
      "Apprentissage  9 :\t  |Yapp|=  3600  |Ytest|=  400 \tperf=  0.99\n",
      "Apprentissage  10 :\t  |Yapp|=  3600  |Ytest|=  400 \tperf=  0.9825\n",
      "\n",
      "Temps mis: KNN avec k= 7 --> 23.63944 secondes\n",
      "Résultat global:\tmoyenne= 0.991\técart-type= 0.005\n"
     ]
    }
   ],
   "source": [
    "# Graine pour les tirages aléatoires :\n",
    "np.random.seed(42)   # supprimer cette ligne une fois la mise au point terminée\n",
    "\n",
    "niter = 10 \n",
    "perf = []\n",
    "\n",
    "val_k = 7 # valeur de k\n",
    "\n",
    "tic = timeit.default_timer() # heure de départ\n",
    "\n",
    "for i in range(niter):\n",
    "    Xapp,Yapp,Xtest,Ytest = ut.crossval_strat(Xdur, Ydur, niter, i)\n",
    "    cl = classif.ClassifierKNN(2,val_k)\n",
    "    for j in range(0,nb_train):\n",
    "        cl.train(Xapp, Yapp)\n",
    "    perf.append(cl.accuracy(Xtest, Ytest))\n",
    "    print(\"Apprentissage \",i+1,\":\\t\",\" |Yapp|= \",len(Yapp),\" |Ytest|= \",len(Ytest),\"\\tperf= \",perf[-1])\n",
    "\n",
    "toc = timeit.default_timer() # heure d'arrivée\n",
    "\n",
    "# On transforme la liste en array numpy pour avoir les fonctions statistiques:\n",
    "perf = np.array(perf)\n",
    "\n",
    "print(f'\\nTemps mis: KNN avec k= {val_k} --> {toc-tic:.5f} secondes')\n",
    "print(f'Résultat global:\\tmoyenne= {perf.mean():.3f}\\técart-type= {perf.std():.3f}')"
   ]
  },
  {
   "cell_type": "markdown",
   "metadata": {},
   "source": [
    "# Données multiclasses\n"
   ]
  },
  {
   "cell_type": "markdown",
   "metadata": {},
   "source": [
    "Pour générer des données multiclasses, une façon très simple est d'utiliser le générateur de données gaussienne et de réétiquetter les classes des exemples.\n",
    "\n",
    "Par exemple:"
   ]
  },
  {
   "cell_type": "code",
   "execution_count": 25,
   "metadata": {},
   "outputs": [],
   "source": [
    "# Exemple d'utilisation:\n",
    "np.random.seed(42)   # on prend 42 comme graine\n",
    "\n",
    "# générer des données gaussienne 2D et réétiquetter\n",
    "N = 100\n",
    "\n",
    "X1,Y1 =  ut.genere_dataset_gaussian([-3,-3],[[1,0],[0,1]], [3,-3],[[1,0],[0,1]],N)\n",
    "Y1[Y1==-1]= 0\n",
    "# Y1[Y1==+1]= 1 # Inutile...\n",
    "\n",
    "X2,Y2 =  ut.genere_dataset_gaussian([-3,3],[[1,0],[0,1]], [3,3],[[1,0],[0,1]],N)\n",
    "Y2[Y2==-1]= 2\n",
    "Y2[Y2==+1]= 3\n",
    "\n",
    "Xmulti = np.concatenate((X1,X2))\n",
    "Ymulti = np.concatenate((Y1,Y2))"
   ]
  },
  {
   "cell_type": "markdown",
   "metadata": {},
   "source": [
    "<font color=\"RED\" size=\"+1\">[Q]</font> En vous inspirant de votre fonction `plot2DSet`, écrire la fonction `plot2DSetMulticlass` qui permet d'afficher les exemples étiquettés en plusieurs classes."
   ]
  },
  {
   "cell_type": "code",
   "execution_count": 26,
   "metadata": {},
   "outputs": [
    {
     "data": {
      "image/png": "[encoded data removed]",
      "text/plain": [
       "<Figure size 432x288 with 1 Axes>"
      ]
     },
     "metadata": {
      "needs_background": "light"
     },
     "output_type": "display_data"
    }
   ],
   "source": [
    "# Par exemple :\n",
    "ut.plot2DSetMulticlass(Xmulti,Ymulti)"
   ]
  },
  {
   "cell_type": "code",
   "execution_count": 27,
   "metadata": {},
   "outputs": [
    {
     "data": {
      "text/plain": [
       "array([[ 3.49671415, -3.1382643 ],\n",
       "       [ 3.64768854, -1.47697014],\n",
       "       [ 2.76584663, -3.23413696],\n",
       "       [ 4.57921282, -2.23256527],\n",
       "       [ 2.53052561, -2.45743996]])"
      ]
     },
     "execution_count": 27,
     "metadata": {},
     "output_type": "execute_result"
    }
   ],
   "source": [
    "# Exemples de la classe 0\n",
    "Xmulti[Ymulti==0][0:5,:]"
   ]
  },
  {
   "cell_type": "code",
   "execution_count": 28,
   "metadata": {},
   "outputs": [
    {
     "data": {
      "text/plain": [
       "array([[-2.64221264, -2.43921547],\n",
       "       [-1.91694876, -1.94619795],\n",
       "       [-4.37766937, -3.93782504],\n",
       "       [-2.48496473, -2.48621405],\n",
       "       [-2.48495231,  0.85273149]])"
      ]
     },
     "execution_count": 28,
     "metadata": {},
     "output_type": "execute_result"
    }
   ],
   "source": [
    "# Exemples de la classe 1\n",
    "Xmulti[Ymulti==1][0:5,:]"
   ]
  },
  {
   "cell_type": "code",
   "execution_count": 29,
   "metadata": {},
   "outputs": [
    {
     "data": {
      "text/plain": [
       "array([[1.40557234, 2.40062498],\n",
       "       [3.0052437 , 3.04698059],\n",
       "       [2.54993453, 3.62284993],\n",
       "       [1.93237957, 2.85762051],\n",
       "       [3.12029563, 3.51443883]])"
      ]
     },
     "execution_count": 29,
     "metadata": {},
     "output_type": "execute_result"
    }
   ],
   "source": [
    "# Exemples de la classe 2\n",
    "Xmulti[Ymulti==2][0:5,:]"
   ]
  },
  {
   "cell_type": "code",
   "execution_count": 30,
   "metadata": {},
   "outputs": [
    {
     "data": {
      "text/plain": [
       "array([[-2.24301138,  2.07783468],\n",
       "       [-2.13039408,  4.35563786],\n",
       "       [-2.5865651 ,  4.87679581],\n",
       "       [-3.7737892 ,  1.7553453 ],\n",
       "       [-4.77872025,  4.49604431]])"
      ]
     },
     "execution_count": 30,
     "metadata": {},
     "output_type": "execute_result"
    }
   ],
   "source": [
    "# Exemples de la classe 3\n",
    "Xmulti[Ymulti==3][0:5,:]"
   ]
  },
  {
   "cell_type": "code",
   "execution_count": 31,
   "metadata": {},
   "outputs": [],
   "source": [
    "# Changement du learning rate : on le prend très grand !\n",
    "learning_rate = 1e-3\n",
    "\n",
    "# Graine pour les tirages aléatoires :\n",
    "np.random.seed(42)   # supprimer cette ligne une fois la mise au point terminée\n",
    "\n",
    "# Création d'un perceptron\n",
    "perceptronV3 = classif.ClassifierPerceptronBiais(2,learning_rate)\n",
    "\n",
    "perceptmulti = classif.ClassifierMultiOAA(perceptronV3)"
   ]
  },
  {
   "cell_type": "code",
   "execution_count": 32,
   "metadata": {},
   "outputs": [
    {
     "name": "stdout",
     "output_type": "stream",
     "text": [
      "Accuracy globale:  0.9975\n"
     ]
    }
   ],
   "source": [
    "perceptmulti.train(Xmulti,Ymulti)\n",
    "print(\"Accuracy globale: \",perceptmulti.accuracy(Xmulti,Ymulti))"
   ]
  },
  {
   "cell_type": "code",
   "execution_count": 33,
   "metadata": {},
   "outputs": [
    {
     "name": "stdout",
     "output_type": "stream",
     "text": [
      "1 : ( 0 ) -->  0 ( [1.4843744652191428, -0.0032715329414116923, 0.20883093149360654, -1.528281318015313] )\n",
      "2 : ( 0 ) -->  0 ( [1.1405658179036835, -0.43491294214703313, 0.6159900151604498, -1.1867029671333227] )\n",
      "3 : ( 0 ) -->  0 ( [1.344790992826597, 0.177961730367462, -0.0014098705320311211, -1.3793806398601984] )\n",
      "4 : ( 0 ) -->  0 ( [1.517742379988568, -0.4551017234597937, 0.6894464583758992, -1.5755912880734617] )\n",
      "5 : ( 0 ) -->  0 ( [1.1165194045656952, 0.04237717679461128, 0.10984247044335937, -1.148259517482383] )\n"
     ]
    }
   ],
   "source": [
    "for i in range(0,5):\n",
    "    print(i+1,\": (\",Ymulti[i],\") --> \",perceptmulti.predict(Xmulti[i,:]), \"(\",perceptmulti.score(Xmulti[i,:]),\")\")"
   ]
  },
  {
   "cell_type": "code",
   "execution_count": 34,
   "metadata": {},
   "outputs": [],
   "source": [
    "# Changement du learning rate : on le prend très grand !\n",
    "learning_rate = 1e-3\n",
    "\n",
    "# Graine pour les tirages aléatoires :\n",
    "np.random.seed(42)   # supprimer cette ligne une fois la mise au point terminée\n",
    "\n",
    "# Création d'un KNN\n",
    "kppvMC = classif.ClassifierKNN(2,3)\n",
    "\n",
    "kppvMulti = classif.ClassifierMultiOAA(kppvMC)"
   ]
  },
  {
   "cell_type": "code",
   "execution_count": 35,
   "metadata": {},
   "outputs": [
    {
     "name": "stdout",
     "output_type": "stream",
     "text": [
      "Accuracy globale:  0.9975\n"
     ]
    }
   ],
   "source": [
    "kppvMulti.train(Xmulti,Ymulti)\n",
    "print(\"Accuracy globale: \",kppvMulti.accuracy(Xmulti,Ymulti))"
   ]
  },
  {
   "cell_type": "markdown",
   "metadata": {},
   "source": [
    "Pour avoir un affichage de la frontière de séparation des classes, il faut une version de la fonction `plot_frontiere` qui soit capable de traiter plusieurs classes, que l'on considère égales à 0, 1, 2, 3,..."
   ]
  },
  {
   "cell_type": "code",
   "execution_count": 36,
   "metadata": {},
   "outputs": [],
   "source": [
    "def plot_frontiere_multiclass(desc_set, label_set, classifier, step=30):\n",
    "    \"\"\" desc_set * label_set * Classifier * int -> NoneType\n",
    "        Remarque: le 4e argument est optionnel et donne la \"résolution\" du tracé\n",
    "        affiche la frontière de décision associée au classifieur\n",
    "        cette version reconnaît jusqu'à 4 classes (notée: 0, 1, 2 et 3)\n",
    "    \"\"\"\n",
    "    mmax=desc_set.max(0)\n",
    "    mmin=desc_set.min(0)\n",
    "    x1grid,x2grid=np.meshgrid(np.linspace(mmin[0],mmax[0],step),np.linspace(mmin[1],mmax[1],step))\n",
    "    grid=np.hstack((x1grid.reshape(x1grid.size,1),x2grid.reshape(x2grid.size,1)))\n",
    "    \n",
    "    # calcul de la prediction pour chaque point de la grille\n",
    "    res=np.array([classifier.predict(grid[i,:]) for i in range(len(grid)) ])\n",
    "    res=res.reshape(x1grid.shape)\n",
    "    # tracer des frontieres\n",
    "    # colors[0] est la couleur des -1 et colors[1] est la couleur des +1\n",
    "    plt.contourf(x1grid,x2grid,res,colors=[\"darksalmon\",'skyblue','#FFDF9E','#B1FB17'],levels=[-1,0,1,2,3,4])    "
   ]
  },
  {
   "cell_type": "code",
   "execution_count": 37,
   "metadata": {},
   "outputs": [
    {
     "data": {
      "image/png": "[encoded data removed]",
      "text/plain": [
       "<Figure size 432x288 with 1 Axes>"
      ]
     },
     "metadata": {
      "needs_background": "light"
     },
     "output_type": "display_data"
    }
   ],
   "source": [
    "# Affichage de la frontière de séparation des classes\n",
    "plot_frontiere_multiclass(Xmulti,Ymulti,kppvMulti,step=100)\n",
    "ut.plot2DSetMulticlass(Xmulti,Ymulti)"
   ]
  },
  {
   "cell_type": "code",
   "execution_count": 38,
   "metadata": {},
   "outputs": [
    {
     "data": {
      "image/png": "[encoded data removed]",
      "text/plain": [
       "<Figure size 432x288 with 1 Axes>"
      ]
     },
     "metadata": {
      "needs_background": "light"
     },
     "output_type": "display_data"
    }
   ],
   "source": [
    "# Affichage de la frontière de séparation des classes\n",
    "plot_frontiere_multiclass(Xmulti,Ymulti,perceptmulti,step=150)\n",
    "ut.plot2DSetMulticlass(Xmulti,Ymulti)\n"
   ]
  },
  {
   "cell_type": "code",
   "execution_count": 39,
   "metadata": {},
   "outputs": [
    {
     "name": "stdout",
     "output_type": "stream",
     "text": [
      "Apprentissage  1 :\t  |Yapp|=  360  |Ytest|=  40 \tperf=  0.975\n",
      "Apprentissage  2 :\t  |Yapp|=  360  |Ytest|=  40 \tperf=  1.0\n",
      "Apprentissage  3 :\t  |Yapp|=  360  |Ytest|=  40 \tperf=  1.0\n",
      "Apprentissage  4 :\t  |Yapp|=  360  |Ytest|=  40 \tperf=  1.0\n",
      "Apprentissage  5 :\t  |Yapp|=  360  |Ytest|=  40 \tperf=  1.0\n",
      "Apprentissage  6 :\t  |Yapp|=  360  |Ytest|=  40 \tperf=  1.0\n",
      "Apprentissage  7 :\t  |Yapp|=  360  |Ytest|=  40 \tperf=  1.0\n",
      "Apprentissage  8 :\t  |Yapp|=  360  |Ytest|=  40 \tperf=  1.0\n",
      "Apprentissage  9 :\t  |Yapp|=  360  |Ytest|=  40 \tperf=  1.0\n",
      "Apprentissage  10 :\t  |Yapp|=  360  |Ytest|=  40 \tperf=  1.0\n",
      "\n",
      "Temps mis: --> 0.08909 secondes\n",
      "Résultat global:\tmoyenne= 0.997\técart-type= 0.008\n"
     ]
    }
   ],
   "source": [
    "# Changement du learning rate : on le prend très grand !\n",
    "learning_rate = 1e-3\n",
    "\n",
    "# Graine pour les tirages aléatoires :\n",
    "np.random.seed(42)   # supprimer cette ligne une fois la mise au point terminée\n",
    "\n",
    "niter = 10 \n",
    "perf = []\n",
    "\n",
    "tic = timeit.default_timer() # heure de départ\n",
    "for i in range(niter):\n",
    "    Xapp,Yapp,Xtest,Ytest = ut.crossval_strat(Xmulti, Ymulti, niter, i)\n",
    "    cl = classif.ClassifierMultiOAA(classif.ClassifierPerceptronBiais(2,learning_rate))\n",
    "    cl.train(Xapp, Yapp)\n",
    "    perf.append(cl.accuracy(Xtest, Ytest))\n",
    "    print(\"Apprentissage \",i+1,\":\\t\",\" |Yapp|= \",len(Yapp),\" |Ytest|= \",len(Ytest),\"\\tperf= \",perf[-1])\n",
    "toc = timeit.default_timer() # heure d'arrivée\n",
    "\n",
    "# On transforme la liste en array numpy pour avoir les fonctions statistiques:\n",
    "perf = np.array(perf)\n",
    "\n",
    "print(f'\\nTemps mis: --> {toc-tic:.5f} secondes')\n",
    "print(f'Résultat global:\\tmoyenne= {perf.mean():.3f}\\técart-type= {perf.std():.3f}')"
   ]
  },
  {
   "cell_type": "markdown",
   "metadata": {},
   "source": [
    "# 2. Expérimentations "
   ]
  },
  {
   "cell_type": "markdown",
   "metadata": {},
   "source": [
    "Compléter ce notebook aevc des expérimentations permettant de réaliser une comparaison des algorithmes que vous avez implémentés (kppv, perceptron, kernel perceptron, adaline) sur un jeu de données réelles.\n"
   ]
  },
  {
   "cell_type": "markdown",
   "metadata": {},
   "source": [
    "Je vais dans un premier temps présenter le reste des algorithmes n'ayant pas été présentés lors de la partie **Mise en place** dans une partie **Présentation** :\n",
    "<br/> - classifieur Adaline\n",
    "<br/> - classifieur Adaline2 (analytique)\n",
    "<br/> - algorithme crossval (non stratifié)\n",
    "\n",
    "Je réaliserai ensuite des comparaisons entre les différents algorithmes implémentés sur un jeu de données réelles dans la partie **Comparaisons**."
   ]
  },
  {
   "cell_type": "markdown",
   "metadata": {},
   "source": [
    "# 2.1. Présentation"
   ]
  },
  {
   "cell_type": "markdown",
   "metadata": {},
   "source": [
    "### **Classifieur Adaline**"
   ]
  },
  {
   "cell_type": "code",
   "execution_count": 40,
   "metadata": {},
   "outputs": [],
   "source": [
    "# Selection d'une seed aléatoire\n",
    "np.random.seed()\n",
    "\n",
    "# Génération rapide d'un jeu de données 2D:\n",
    "N = 100\n",
    "X,Y =  ut.genere_dataset_gaussian([-2,-2],[[1,0],[0,1]], [2,2],[[1,0],[0,1]],N)"
   ]
  },
  {
   "cell_type": "code",
   "execution_count": 44,
   "metadata": {},
   "outputs": [
    {
     "name": "stdout",
     "output_type": "stream",
     "text": [
      "Accuracy du perceptron ( 0.001 ) après 1 train:  1.0\n",
      "Vecteur de poids trouvé:  [[-0.10196944 -0.33281411]]\n"
     ]
    },
    {
     "data": {
      "image/png": "[encoded data removed]",
      "text/plain": [
       "<Figure size 432x288 with 1 Axes>"
      ]
     },
     "metadata": {
      "needs_background": "light"
     },
     "output_type": "display_data"
    }
   ],
   "source": [
    "# On crée un perceptron Adaline allant étudier ce jeu de données sur 1 itération de train\n",
    "learning_rate = 1e-3\n",
    "adaline = classif.ClassifierADALINE(2, learning_rate, history=True)\n",
    "\n",
    "t = 1\n",
    "for i in range(t) :\n",
    "    adaline.train(X, Y)\n",
    "\n",
    "print(\"Accuracy du perceptron (\", learning_rate,\") après\", t, \"train: \", adaline.accuracy(X,Y))  \n",
    "print(\"Vecteur de poids trouvé: \", adaline.getW())\n",
    "\n",
    "ut.plot_frontiere(X,Y,adaline,step=150)\n",
    "ut.plot2DSet(X,Y)"
   ]
  },
  {
   "cell_type": "code",
   "execution_count": 45,
   "metadata": {},
   "outputs": [
    {
     "name": "stdout",
     "output_type": "stream",
     "text": [
      "Accuracy du perceptron ( 0.001 ) après 100 train:  1.0\n",
      "Vecteur de poids trouvé:  [[-0.24194637 -0.1918137 ]]\n"
     ]
    },
    {
     "data": {
      "image/png": "[encoded data removed]",
      "text/plain": [
       "<Figure size 432x288 with 1 Axes>"
      ]
     },
     "metadata": {
      "needs_background": "light"
     },
     "output_type": "display_data"
    }
   ],
   "source": [
    "# On crée un perceptron Adaline allant étudier ce jeu de données sur 100 itérations de train\n",
    "learning_rate = 1e-3\n",
    "adaline = classif.ClassifierADALINE(2, learning_rate, history=True)\n",
    "\n",
    "t = 100\n",
    "for i in range(t) :\n",
    "    adaline.train(X, Y)\n",
    "\n",
    "print(\"Accuracy du perceptron (\", learning_rate,\") après\", t, \"train: \", adaline.accuracy(X,Y))  \n",
    "print(\"Vecteur de poids trouvé: \", adaline.getW())\n",
    "\n",
    "ut.plot_frontiere(X,Y,adaline,step=150)\n",
    "ut.plot2DSet(X,Y)"
   ]
  },
  {
   "cell_type": "markdown",
   "metadata": {},
   "source": [
    "### **PerceptronAdaline2 (analytique)**"
   ]
  },
  {
   "cell_type": "code",
   "execution_count": 46,
   "metadata": {},
   "outputs": [
    {
     "name": "stdout",
     "output_type": "stream",
     "text": [
      "Accuracy du perceptron:  1.0\n",
      "Vecteur de poids trouvé:  [-0.22247808 -0.22152574]\n"
     ]
    },
    {
     "data": {
      "image/png": "[encoded data removed]",
      "text/plain": [
       "<Figure size 432x288 with 1 Axes>"
      ]
     },
     "metadata": {
      "needs_background": "light"
     },
     "output_type": "display_data"
    }
   ],
   "source": [
    "# On crée un perceptron Adaline allant étudier ce jeu de données\n",
    "adaline2 = classif.ClassifierADALINE2(2)\n",
    "\n",
    "# On ne peut train que une seule fois un PerceptronAdaline2 (le résultat sera toujours le meme)\n",
    "adaline2.train(X, Y)\n",
    "\n",
    "print(\"Accuracy du perceptron: \", adaline2.accuracy(X,Y))\n",
    "print(\"Vecteur de poids trouvé: \", adaline2.getW())\n",
    "\n",
    "ut.plot_frontiere(X, Y, adaline2, step=150)\n",
    "ut.plot2DSet(X, Y)"
   ]
  },
  {
   "cell_type": "markdown",
   "metadata": {},
   "source": [
    "Un des forces principales du classifieur ADALINE analytique est que l'entrainement de ce dernier est unique. On peut entrainer autant de fois que l'on souhaite un classifieur de ce genre, le résultat obtenu restera toujours le meme."
   ]
  },
  {
   "cell_type": "markdown",
   "metadata": {},
   "source": [
    "### **Crossval (non-stratifié)**"
   ]
  },
  {
   "cell_type": "code",
   "execution_count": 47,
   "metadata": {},
   "outputs": [
    {
     "data": {
      "image/png": "[encoded data removed]",
      "text/plain": [
       "<Figure size 432x288 with 1 Axes>"
      ]
     },
     "metadata": {
      "needs_background": "light"
     },
     "output_type": "display_data"
    }
   ],
   "source": [
    "# Selection d'une seed aléatoire\n",
    "np.random.seed()\n",
    "\n",
    "# Génération rapide d'un jeu de données 2D de grande taille\n",
    "N = 5000\n",
    "X,Y =  ut.genere_dataset_gaussian([-2,-2],[[1,0],[0,1]], [2,2],[[1,0],[0,1]],N)\n",
    "\n",
    "# On affiche la répartition des points\n",
    "ut.plot2DSet(X, Y)"
   ]
  },
  {
   "cell_type": "code",
   "execution_count": 50,
   "metadata": {},
   "outputs": [
    {
     "name": "stdout",
     "output_type": "stream",
     "text": [
      "Apprentissage  1 :\t  |Yapp|=  9000  |Ytest|=  1000 \tperf=  0.99\n",
      "Apprentissage  2 :\t  |Yapp|=  9000  |Ytest|=  1000 \tperf=  1.0\n",
      "Apprentissage  3 :\t  |Yapp|=  9000  |Ytest|=  1000 \tperf=  0.999\n",
      "Apprentissage  4 :\t  |Yapp|=  9000  |Ytest|=  1000 \tperf=  0.99\n",
      "Apprentissage  5 :\t  |Yapp|=  9000  |Ytest|=  1000 \tperf=  0.999\n",
      "Apprentissage  6 :\t  |Yapp|=  9000  |Ytest|=  1000 \tperf=  0.999\n",
      "Apprentissage  7 :\t  |Yapp|=  9000  |Ytest|=  1000 \tperf=  0.999\n",
      "Apprentissage  8 :\t  |Yapp|=  9000  |Ytest|=  1000 \tperf=  0.997\n",
      "Apprentissage  9 :\t  |Yapp|=  9000  |Ytest|=  1000 \tperf=  0.999\n",
      "Apprentissage  10 :\t  |Yapp|=  9000  |Ytest|=  1000 \tperf=  0.997\n",
      "\n",
      "Résultat global avec crossval :\tmoyenne= 0.997\técart-type= 0.004\n",
      "\n",
      "\n",
      "\n",
      "Apprentissage  1 :\t  |Yapp|=  9000  |Ytest|=  1000 \tperf=  0.999\n",
      "Apprentissage  2 :\t  |Yapp|=  9000  |Ytest|=  1000 \tperf=  0.997\n",
      "Apprentissage  3 :\t  |Yapp|=  9000  |Ytest|=  1000 \tperf=  0.991\n",
      "Apprentissage  4 :\t  |Yapp|=  9000  |Ytest|=  1000 \tperf=  0.999\n",
      "Apprentissage  5 :\t  |Yapp|=  9000  |Ytest|=  1000 \tperf=  0.998\n",
      "Apprentissage  6 :\t  |Yapp|=  9000  |Ytest|=  1000 \tperf=  0.998\n",
      "Apprentissage  7 :\t  |Yapp|=  9000  |Ytest|=  1000 \tperf=  0.998\n",
      "Apprentissage  8 :\t  |Yapp|=  9000  |Ytest|=  1000 \tperf=  0.997\n",
      "Apprentissage  9 :\t  |Yapp|=  9000  |Ytest|=  1000 \tperf=  0.998\n",
      "Apprentissage  10 :\t  |Yapp|=  9000  |Ytest|=  1000 \tperf=  0.998\n",
      "\n",
      "Résultat global avec crossval_strat :\tmoyenne= 0.997\técart-type= 0.002\n"
     ]
    }
   ],
   "source": [
    "niter = 10 \n",
    "perf = []\n",
    "\n",
    "# On utilise dans un premier temps crossval\n",
    "for i in range(niter):\n",
    "    Xapp,Yapp,Xtest,Ytest = ut.crossval(X, Y, niter, i)\n",
    "    cl = classif.ClassifierPerceptron(2,learning_rate)\n",
    "    for j in range(0,10):\n",
    "        cl.train(Xapp, Yapp)\n",
    "    perf.append(cl.accuracy(Xtest, Ytest))\n",
    "    print(\"Apprentissage \",i+1,\":\\t\",\" |Yapp|= \",len(Yapp),\" |Ytest|= \",len(Ytest),\"\\tperf= \",perf[-1])\n",
    "\n",
    "# On transforme la liste en array numpy pour avoir les fonctions statistiques:\n",
    "perf = np.array(perf)\n",
    "print(f'\\nRésultat global avec crossval :\\tmoyenne= {perf.mean():.3f}\\técart-type= {perf.std():.3f}')\n",
    "print(\"\\n\\n\")\n",
    "\n",
    "niter = 10\n",
    "perf = []\n",
    "\n",
    "# On utilise désormais crossval_strat afin de les comparer\n",
    "for i in range(niter):\n",
    "    Xapp,Yapp,Xtest,Ytest = ut.crossval_strat(X, Y, niter, i)\n",
    "    cl = classif.ClassifierPerceptron(2,learning_rate)\n",
    "    for j in range(0,10):\n",
    "        cl.train(Xapp, Yapp)\n",
    "    perf.append(cl.accuracy(Xtest, Ytest))\n",
    "    print(\"Apprentissage \",i+1,\":\\t\",\" |Yapp|= \",len(Yapp),\" |Ytest|= \",len(Ytest),\"\\tperf= \",perf[-1])\n",
    "\n",
    "# On transforme la liste en array numpy pour avoir les fonctions statistiques:\n",
    "perf = np.array(perf)\n",
    "print(f'\\nRésultat global avec crossval_strat :\\tmoyenne= {perf.mean():.3f}\\técart-type= {perf.std():.3f}')"
   ]
  },
  {
   "cell_type": "markdown",
   "metadata": {},
   "source": [
    "On remarque que la validation croisée stratifiée permet une meilleure performance en terme de précision.\n",
    "<br/>On explique cela du fait que l'apprentissage du Classifieur lors de cette dernière est realisé avec autant de valeurs de chaque classe du dataset (soit autant de +1 que de -1 dans notre cas).\n",
    "<br/>Lors de la validation croisée non-stratifiée, le Classifieur n'est pas soumis à cette condition et les valeurs d'apprentissage sont donc sélectionnées sans discrimination.\n",
    "<br/>(Le Classifieur utilisé est le Perceptron basique)"
   ]
  },
  {
   "cell_type": "markdown",
   "metadata": {},
   "source": [
    "# 2.2. Comparaisons sur données"
   ]
  },
  {
   "cell_type": "markdown",
   "metadata": {},
   "source": [
    "Afin de comparer les performances de mes algorithmes de classifieurs, je vais les utiliser sur les données du fichier '**usps.pkl**' du TME4 afin de pouvoir comparer leurs performances.\n",
    "<br/>Les comparaisons seront réalisées à l'aide du classifieur multi-classes en raison du nombre important de classes dans ces données."
   ]
  },
  {
   "cell_type": "code",
   "execution_count": 51,
   "metadata": {},
   "outputs": [
    {
     "name": "stdout",
     "output_type": "stream",
     "text": [
      "Les dimensions de X sont: (6229, 256)\n"
     ]
    }
   ],
   "source": [
    "import pickle as pkl\n",
    "\n",
    "data = pkl.load(open('data/usps.pkl', 'rb'))\n",
    "X = np.array(data['X_train'], dtype=float)\n",
    "Y = np.array(data['Y_train'], dtype=float)\n",
    "\n",
    "print(\"Les dimensions de X sont:\", X.shape)"
   ]
  },
  {
   "cell_type": "code",
   "execution_count": 175,
   "metadata": {},
   "outputs": [],
   "source": [
    "import copy\n",
    "def calcul_efficacite(classif, X, Y):\n",
    "    \n",
    "    # Parametres\n",
    "    niter = 10 # Nombre d'itération\n",
    "    perf = [] # Liste des performances des algos\n",
    "\n",
    "    # Temps de départ\n",
    "    startTime = timeit.default_timer()\n",
    "    \n",
    "    # Boucle principale\n",
    "    for i in range(niter):\n",
    "        Xapp,Yapp,Xtest,Ytest = ut.crossval_strat(X, Y, niter, i)\n",
    "        classif_en_cours = copy.deepcopy(classif)\n",
    "        for j in range(5):\n",
    "            classif_en_cours.train(Xapp, Yapp)\n",
    "        perf.append(classif_en_cours.accuracy(Xtest, Ytest))\n",
    "        print(\"Apprentissage \",i+1,\":\\t\",\" |Yapp|= \",len(Yapp),\" |Ytest|= \",len(Ytest),\"\\tperf= \",perf[-1])\n",
    "        \n",
    "    # Temps de fin\n",
    "    endTime = timeit.default_timer()\n",
    "\n",
    "    # On transforme la liste en array numpy pour avoir les fonctions statistiques:\n",
    "    perf = np.array(perf)\n",
    "\n",
    "    # Affichage\n",
    "    print(f'\\nTemps mis: --> {endTime - startTime:.5f} secondes')\n",
    "    print(f'Résultat global:\\tmoyenne= {perf.mean():.3f}\\técart-type= {perf.std():.3f}')"
   ]
  },
  {
   "cell_type": "code",
   "execution_count": 176,
   "metadata": {},
   "outputs": [],
   "source": [
    "# Paramètres\n",
    "learning_rate = 1e-3"
   ]
  },
  {
   "cell_type": "code",
   "execution_count": 189,
   "metadata": {},
   "outputs": [
    {
     "name": "stdout",
     "output_type": "stream",
     "text": [
      "Apprentissage  1 :\t  |Yapp|=  5610  |Ytest|=  619 \tperf=  0.8723747980613893\n",
      "Apprentissage  2 :\t  |Yapp|=  5610  |Ytest|=  619 \tperf=  0.8869143780290791\n",
      "Apprentissage  3 :\t  |Yapp|=  5610  |Ytest|=  619 \tperf=  0.8675282714054927\n",
      "Apprentissage  4 :\t  |Yapp|=  5610  |Ytest|=  619 \tperf=  0.901453957996769\n",
      "Apprentissage  5 :\t  |Yapp|=  5610  |Ytest|=  619 \tperf=  0.9063004846526656\n",
      "Apprentissage  6 :\t  |Yapp|=  5610  |Ytest|=  619 \tperf=  0.877221324717286\n",
      "Apprentissage  7 :\t  |Yapp|=  5610  |Ytest|=  619 \tperf=  0.8949919224555735\n",
      "Apprentissage  8 :\t  |Yapp|=  5610  |Ytest|=  619 \tperf=  0.9127625201938611\n",
      "Apprentissage  9 :\t  |Yapp|=  5610  |Ytest|=  619 \tperf=  0.8901453957996769\n",
      "Apprentissage  10 :\t  |Yapp|=  5610  |Ytest|=  619 \tperf=  0.851373182552504\n",
      "\n",
      "Temps mis: --> 6.44773 secondes\n",
      "Résultat global:\tmoyenne= 0.886\técart-type= 0.018\n"
     ]
    }
   ],
   "source": [
    "calcul_efficacite(classif.ClassifierMultiOAA(classif.ClassifierPerceptron(X.shape[1], learning_rate)), X, Y)"
   ]
  },
  {
   "cell_type": "code",
   "execution_count": 178,
   "metadata": {},
   "outputs": [
    {
     "name": "stdout",
     "output_type": "stream",
     "text": [
      "Apprentissage  1 :\t  |Yapp|=  5610  |Ytest|=  619 \tperf=  0.8966074313408724\n",
      "Apprentissage  2 :\t  |Yapp|=  5610  |Ytest|=  619 \tperf=  0.9353796445880452\n",
      "Apprentissage  3 :\t  |Yapp|=  5610  |Ytest|=  619 \tperf=  0.9079159935379645\n",
      "Apprentissage  4 :\t  |Yapp|=  5610  |Ytest|=  619 \tperf=  0.9095315024232633\n",
      "Apprentissage  5 :\t  |Yapp|=  5610  |Ytest|=  619 \tperf=  0.9192245557350566\n",
      "Apprentissage  6 :\t  |Yapp|=  5610  |Ytest|=  619 \tperf=  0.9111470113085622\n",
      "Apprentissage  7 :\t  |Yapp|=  5610  |Ytest|=  619 \tperf=  0.9192245557350566\n",
      "Apprentissage  8 :\t  |Yapp|=  5610  |Ytest|=  619 \tperf=  0.9305331179321487\n",
      "Apprentissage  9 :\t  |Yapp|=  5610  |Ytest|=  619 \tperf=  0.9143780290791599\n",
      "Apprentissage  10 :\t  |Yapp|=  5610  |Ytest|=  619 \tperf=  0.8998384491114702\n",
      "\n",
      "Temps mis: --> 7.39881 secondes\n",
      "Résultat global:\tmoyenne= 0.914\técart-type= 0.012\n"
     ]
    }
   ],
   "source": [
    "calcul_efficacite(classif.ClassifierMultiOAA(classif.ClassifierPerceptronBiais(X.shape[1], learning_rate)), X, Y)"
   ]
  },
  {
   "cell_type": "code",
   "execution_count": 179,
   "metadata": {},
   "outputs": [
    {
     "name": "stdout",
     "output_type": "stream",
     "text": [
      "Apprentissage  1 :\t  |Yapp|=  5610  |Ytest|=  619 \tperf=  0.2197092084006462\n",
      "Apprentissage  2 :\t  |Yapp|=  5610  |Ytest|=  619 \tperf=  0.2455573505654281\n",
      "Apprentissage  3 :\t  |Yapp|=  5610  |Ytest|=  619 \tperf=  0.210016155088853\n",
      "Apprentissage  4 :\t  |Yapp|=  5610  |Ytest|=  619 \tperf=  0.23747980613893377\n",
      "Apprentissage  5 :\t  |Yapp|=  5610  |Ytest|=  619 \tperf=  0.1987075928917609\n",
      "Apprentissage  6 :\t  |Yapp|=  5610  |Ytest|=  619 \tperf=  0.1825525040387722\n",
      "Apprentissage  7 :\t  |Yapp|=  5610  |Ytest|=  619 \tperf=  0.2665589660743134\n",
      "Apprentissage  8 :\t  |Yapp|=  5610  |Ytest|=  619 \tperf=  0.26009693053311794\n",
      "Apprentissage  9 :\t  |Yapp|=  5610  |Ytest|=  619 \tperf=  0.2310177705977383\n",
      "Apprentissage  10 :\t  |Yapp|=  5610  |Ytest|=  619 \tperf=  0.21163166397415187\n",
      "\n",
      "Temps mis: --> 6.87063 secondes\n",
      "Résultat global:\tmoyenne= 0.226\técart-type= 0.025\n"
     ]
    }
   ],
   "source": [
    "calcul_efficacite(classif.ClassifierMultiOAA(classif.ClassifierADALINE(X.shape[1], learning_rate)), X, Y)"
   ]
  },
  {
   "cell_type": "code",
   "execution_count": 181,
   "metadata": {},
   "outputs": [
    {
     "name": "stdout",
     "output_type": "stream",
     "text": [
      "Apprentissage  1 :\t  |Yapp|=  5610  |Ytest|=  619 \tperf=  0.8852988691437803\n",
      "Apprentissage  2 :\t  |Yapp|=  5610  |Ytest|=  619 \tperf=  0.9030694668820679\n",
      "Apprentissage  3 :\t  |Yapp|=  5610  |Ytest|=  619 \tperf=  0.9063004846526656\n",
      "Apprentissage  4 :\t  |Yapp|=  5610  |Ytest|=  619 \tperf=  0.8804523424878837\n",
      "Apprentissage  5 :\t  |Yapp|=  5610  |Ytest|=  619 \tperf=  0.8949919224555735\n",
      "Apprentissage  6 :\t  |Yapp|=  5610  |Ytest|=  619 \tperf=  0.8820678513731826\n",
      "Apprentissage  7 :\t  |Yapp|=  5610  |Ytest|=  619 \tperf=  0.9127625201938611\n",
      "Apprentissage  8 :\t  |Yapp|=  5610  |Ytest|=  619 \tperf=  0.9111470113085622\n",
      "Apprentissage  9 :\t  |Yapp|=  5610  |Ytest|=  619 \tperf=  0.8820678513731826\n",
      "Apprentissage  10 :\t  |Yapp|=  5610  |Ytest|=  619 \tperf=  0.875605815831987\n",
      "\n",
      "Temps mis: --> 9.97721 secondes\n",
      "Résultat global:\tmoyenne= 0.893\técart-type= 0.013\n"
     ]
    }
   ],
   "source": [
    "calcul_efficacite(classif.ClassifierMultiOAA(classif.ClassifierADALINE2(X.shape[1])), X, Y)"
   ]
  },
  {
   "cell_type": "code",
   "execution_count": 69,
   "metadata": {},
   "outputs": [
    {
     "name": "stdout",
     "output_type": "stream",
     "text": [
      "Apprentissage  1 :\t  |Yapp|=  5610  |Ytest|=  619 \tperf=  0.17932148626817448\n",
      "Apprentissage  2 :\t  |Yapp|=  5610  |Ytest|=  619 \tperf=  0.1825525040387722\n",
      "Apprentissage  3 :\t  |Yapp|=  5610  |Ytest|=  619 \tperf=  0.17609046849757673\n",
      "Apprentissage  4 :\t  |Yapp|=  5610  |Ytest|=  619 \tperf=  0.18739903069466882\n",
      "Apprentissage  5 :\t  |Yapp|=  5610  |Ytest|=  619 \tperf=  0.18093699515347333\n",
      "Apprentissage  6 :\t  |Yapp|=  5610  |Ytest|=  619 \tperf=  0.17124394184168013\n",
      "Apprentissage  7 :\t  |Yapp|=  5610  |Ytest|=  619 \tperf=  0.1841680129240711\n",
      "Apprentissage  8 :\t  |Yapp|=  5610  |Ytest|=  619 \tperf=  0.17609046849757673\n",
      "Apprentissage  9 :\t  |Yapp|=  5610  |Ytest|=  619 \tperf=  0.1777059773828756\n",
      "Apprentissage  10 :\t  |Yapp|=  5610  |Ytest|=  619 \tperf=  0.1777059773828756\n",
      "\n",
      "Temps mis: --> 631.80494 secondes\n",
      "Résultat global:\tmoyenne= 0.179\técart-type= 0.004\n"
     ]
    }
   ],
   "source": [
    "calcul_efficacite(classif.ClassifierMultiOAA(classif.ClassifierKNN(X.shape[1], 5)), X, Y)"
   ]
  },
  {
   "cell_type": "code",
   "execution_count": 188,
   "metadata": {},
   "outputs": [
    {
     "name": "stdout",
     "output_type": "stream",
     "text": [
      "Apprentissage  1 :\t  |Yapp|=  5610  |Ytest|=  619 \tperf=  0.17124394184168013\n",
      "Apprentissage  2 :\t  |Yapp|=  5610  |Ytest|=  619 \tperf=  0.17124394184168013\n",
      "Apprentissage  3 :\t  |Yapp|=  5610  |Ytest|=  619 \tperf=  0.17124394184168013\n",
      "Apprentissage  4 :\t  |Yapp|=  5610  |Ytest|=  619 \tperf=  0.17124394184168013\n",
      "Apprentissage  5 :\t  |Yapp|=  5610  |Ytest|=  619 \tperf=  0.17124394184168013\n",
      "Apprentissage  6 :\t  |Yapp|=  5610  |Ytest|=  619 \tperf=  0.17124394184168013\n",
      "Apprentissage  7 :\t  |Yapp|=  5610  |Ytest|=  619 \tperf=  0.17124394184168013\n",
      "Apprentissage  8 :\t  |Yapp|=  5610  |Ytest|=  619 \tperf=  0.17124394184168013\n",
      "Apprentissage  9 :\t  |Yapp|=  5610  |Ytest|=  619 \tperf=  0.17124394184168013\n",
      "Apprentissage  10 :\t  |Yapp|=  5610  |Ytest|=  619 \tperf=  0.17124394184168013\n",
      "\n",
      "Temps mis: --> 30.93586 secondes\n",
      "Résultat global:\tmoyenne= 0.171\técart-type= 0.000\n"
     ]
    }
   ],
   "source": [
    "calcul_efficacite(classif.ClassifierMultiOAA(classif.ClassifierLineaireRandom(X.shape[1])), X, Y)"
   ]
  },
  {
   "cell_type": "markdown",
   "metadata": {},
   "source": [
    "### **Résultats des comparaisons**"
   ]
  },
  {
   "cell_type": "markdown",
   "metadata": {},
   "source": [
    "Parmi les classifieurs utilisés, on remarque 4 classifieurs dont les résultats sont conformes aux attentes et 2 classifieurs dont les résultats sont anormaux.\n",
    "\n",
    "Pour les classifieurs aux résultats corrects, on retrouve :\n",
    "<br/> - classifieur Perceptron\n",
    "<br/> - classifieur PerceptronBiais\n",
    "<br/> - classifieur Adaline2\n",
    "<br/> - classifieur LineaireRandom\n",
    "\n",
    "On a pour ces classifieurs, sauf le LinaireRandom, une précision moyenne grace à la validation croisée stratifiée aux alentours des 90%, ce qui signifie qu'uniquement 1/10 des points se retrouvent mal classés après apprentissage.\n",
    "<br/> On remarque que le classifieur PerceptronBiais affiche un meilleur résultat (91.4% de précision) que le classifieur Perceptron classique (88.6% de précision). On explique cette difference du fait que l'entrainement du PerceptronBiais est plus rigoureux que celui du Perceptron, puisqu'il considère qu'un point n'est bien classé lors de l'apprentissage que lorsqu'il remplit la condition : **w * x * y > 1**.\n",
    "<br/> Le classifieur Adaline2 (89.3% de précision) affichera toujours le meme résultat en raison de sa méthode d'apprentissage (calcul matriciel). \n",
    "<br/> Le classifieur LineaireRandom est un cas à part puisque la mise en place des valeurs de son vecteur de poids est totalement aléatoire et de ce fait, il n'est pas possible d'obtenir une précision stable lors de l'utilisation de l'algorithme.\n",
    "\n",
    "Pour les classifieurs aux résultats anormaux, on retrouve :\n",
    "<br/> - classifieur PerceptronKNN\n",
    "<br/> - classifieur Adaline\n",
    "\n",
    "La raison pour laquelle ces classifieurs n'affichent pas des résultats convenables est surement lié à la manière dont je les ai codé.\n",
    "<br/>Lors de l'étude de données à 2 classes, ces deux classifieurs affichent des résultats de précision similaires aux 4 autres évoqués plus haut (à l'exception du LineaireRandom) comme peuvent le montrer les résultats des tests lors de la partie 1 du bilan.\n",
    "<br/> J'ai surement du commettre des erreurs lors de la conception de mes algorithmes, nottament lors du traitement d'un nombre de classes supérieur à 2. Malgré plusieurs tentatives de correction et après avoir demandé de l'aide auprès de certains de mes camarades, je n'ai toujours pas réussi à résoudre ce problème."
   ]
  },
  {
   "cell_type": "code",
   "execution_count": null,
   "metadata": {},
   "outputs": [],
   "source": []
  }
 ],
 "metadata": {
  "kernelspec": {
   "display_name": "Python 3",
   "language": "python",
   "name": "python3"
  },
  "language_info": {
   "codemirror_mode": {
    "name": "ipython",
    "version": 3
   },
   "file_extension": ".py",
   "mimetype": "text/x-python",
   "name": "python",
   "nbconvert_exporter": "python",
   "pygments_lexer": "ipython3",
   "version": "3.9.1"
  }
 },
 "nbformat": 4,
 "nbformat_minor": 1
}
