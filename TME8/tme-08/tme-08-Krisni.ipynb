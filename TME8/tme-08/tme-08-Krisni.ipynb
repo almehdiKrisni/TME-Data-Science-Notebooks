{
 "cells": [
  {
   "cell_type": "markdown",
   "metadata": {},
   "source": [
    "IA & Data science (LU3IN0226) -- 2020-2021\n",
    "--------\n",
    "*&copy; Equipe pédagogique: Vincent Guigue, Christophe Marsala, Edoardo Sarti, Olivier Schwander.*"
   ]
  },
  {
   "cell_type": "markdown",
   "metadata": {},
   "source": [
    "# TD-TME08: algorithme des k-moyennes\n",
    "\n",
    "L'objectif de ce notebook est d'implémenter l'algorithme des K-moyennes."
   ]
  },
  {
   "cell_type": "markdown",
   "metadata": {},
   "source": [
    "<font size=\"+1\" color=\"RED\">**[Q]**</font> **Indiquer dans la boîte ci-dessous vos noms et prénoms :**"
   ]
  },
  {
   "cell_type": "markdown",
   "metadata": {},
   "source": [
    "KRISNI Almehdi - 3800519"
   ]
  },
  {
   "cell_type": "markdown",
   "metadata": {},
   "source": [
    "<font color=\"RED\" size=\"+1\">**[Q]**</font> **Renommer ce fichier ipython**\n",
    "\n",
    "Compléter le nom de ce notebook en rajoutant les noms des membres du binômes séparés par un tiret."
   ]
  },
  {
   "cell_type": "markdown",
   "metadata": {},
   "source": [
    "<font color=\"RED\" size=\"+1\">**[Q]**</font> **Mise à jour de la librairie `iads`**\n",
    "\n",
    "En premier lieu, vérifier que votre librairie `iads` est bien à jour : \n",
    "- dans le fichier `Classifieurs.py`: tous les classifieurs que vous avez implémentés depuis le début des séances. Rajouter aussi dans ce fichier la fonction `leave_one_out` écrite dans le notebook précédent.\n",
    "- de même, vérifier que votre fichier `utils.py` est aussi à jour.\n",
    "\n",
    "Une fois à jour, importer la librairie pour pouvoir l'utiliser dans ce notebook."
   ]
  },
  {
   "cell_type": "code",
   "execution_count": 1,
   "metadata": {},
   "outputs": [],
   "source": [
    "# Importation des librairies standards:\n",
    "import numpy as np\n",
    "import pandas as pd\n",
    "import matplotlib.pyplot as plt\n",
    "%matplotlib inline  \n",
    "\n",
    "# Importation de votre librairie iads:\n",
    "# La ligne suivante permet de préciser le chemin d'accès à la librairie iads\n",
    "import sys\n",
    "sys.path.append('../')   # iads doit être dans le répertoire frère du répertoire courant !\n",
    "\n",
    "# Importation de la librairie iads\n",
    "import iads as iads\n",
    "\n",
    "# importation de Classifiers\n",
    "from iads import Classifiers as cl\n",
    "\n",
    "# importation de utils\n",
    "from iads import utils as ut\n",
    "\n",
    "# commande TRES utile pour recharger automatiquement le code que vous modifiez dans les modules\n",
    "%load_ext autoreload\n",
    "%autoreload 2"
   ]
  },
  {
   "cell_type": "markdown",
   "metadata": {},
   "source": [
    "## Travail à réaliser\n",
    "Le travail à faire se décompose en 2 phases :\n",
    "- dans un premier temps, le travail porte sur la base d'apprentissage <code>base-2D.csv</code> qui contient des exemples décrits dans $R^2$. Ainsi, il est plus aisé de visualiser les résultats des fonctions à écrire ;\n",
    "- dans un second temps, les fonctions écrites dans la phase précédente sont à utiliser avec la base d'apprentissage \"base-Paris.csv\".\n",
    "\n",
    "**Attention**: vos fonctions doivent **dès leur création** pouvoir s'appliquer **quelle que soit la dimension** des exemples traités.\n"
   ]
  },
  {
   "cell_type": "markdown",
   "metadata": {},
   "source": [
    "### Données d'expérimentation\n",
    "\n",
    "Commencer par charger le fichier <code>base_2D.csv</code> qui permettra d'expérimenter vos fonctions. Dans ce qui suit, on note <code>data_2D</code> le dataframe qui contient les données de ce fichiers.\n"
   ]
  },
  {
   "cell_type": "code",
   "execution_count": 2,
   "metadata": {
    "scrolled": true
   },
   "outputs": [
    {
     "data": {
      "text/html": [
       "<div>\n",
       "<style scoped>\n",
       "    .dataframe tbody tr th:only-of-type {\n",
       "        vertical-align: middle;\n",
       "    }\n",
       "\n",
       "    .dataframe tbody tr th {\n",
       "        vertical-align: top;\n",
       "    }\n",
       "\n",
       "    .dataframe thead th {\n",
       "        text-align: right;\n",
       "    }\n",
       "</style>\n",
       "<table border=\"1\" class=\"dataframe\">\n",
       "  <thead>\n",
       "    <tr style=\"text-align: right;\">\n",
       "      <th></th>\n",
       "      <th>X</th>\n",
       "      <th>Y</th>\n",
       "    </tr>\n",
       "  </thead>\n",
       "  <tbody>\n",
       "    <tr>\n",
       "      <th>0</th>\n",
       "      <td>0.0</td>\n",
       "      <td>4.0</td>\n",
       "    </tr>\n",
       "    <tr>\n",
       "      <th>1</th>\n",
       "      <td>1.0</td>\n",
       "      <td>3.5</td>\n",
       "    </tr>\n",
       "    <tr>\n",
       "      <th>2</th>\n",
       "      <td>1.0</td>\n",
       "      <td>1.0</td>\n",
       "    </tr>\n",
       "    <tr>\n",
       "      <th>3</th>\n",
       "      <td>2.0</td>\n",
       "      <td>1.0</td>\n",
       "    </tr>\n",
       "    <tr>\n",
       "      <th>4</th>\n",
       "      <td>2.0</td>\n",
       "      <td>2.0</td>\n",
       "    </tr>\n",
       "  </tbody>\n",
       "</table>\n",
       "</div>"
      ],
      "text/plain": [
       "     X    Y\n",
       "0  0.0  4.0\n",
       "1  1.0  3.5\n",
       "2  1.0  1.0\n",
       "3  2.0  1.0\n",
       "4  2.0  2.0"
      ]
     },
     "execution_count": 2,
     "metadata": {},
     "output_type": "execute_result"
    }
   ],
   "source": [
    "data_2D = pd.read_csv(\"data/base-2D.csv\")\n",
    "data_2D[0:5] "
   ]
  },
  {
   "cell_type": "markdown",
   "metadata": {},
   "source": [
    "On convertit le dataframe en array:"
   ]
  },
  {
   "cell_type": "code",
   "execution_count": 3,
   "metadata": {},
   "outputs": [],
   "source": [
    "# Passer du dataframe à des arrays:\n",
    "data_desc = np.array(data_2D[['X','Y']])\n",
    "\n",
    "# obtenir les noms des colonnes :\n",
    "data_noms = ['X','Y']"
   ]
  },
  {
   "cell_type": "code",
   "execution_count": 4,
   "metadata": {},
   "outputs": [
    {
     "name": "stdout",
     "output_type": "stream",
     "text": [
      "Minima:  [0. 1.] \tMaxima: [7. 6.]\n"
     ]
    }
   ],
   "source": [
    "print(\"Minima: \",data_desc.min(axis=0), \"\\tMaxima:\",data_desc.max(axis=0))"
   ]
  },
  {
   "cell_type": "code",
   "execution_count": 5,
   "metadata": {},
   "outputs": [
    {
     "name": "stdout",
     "output_type": "stream",
     "text": [
      "[-7. -5.]\n"
     ]
    }
   ],
   "source": [
    "print(np.asarray([0., 1.]) - data_desc.max(axis=0))"
   ]
  },
  {
   "cell_type": "markdown",
   "metadata": {},
   "source": [
    "Dans la suite de ce notebook, on appelle \"base d'apprentissage\" l'ensemble des exemples d'apprentissage obtenus après chargement et conversion en array.\n",
    "\n",
    "**Rappel**: en apprentissage non-supervisé une base d'apprentissage ne contient que les descriptions des exemples, il n'y a pas de labels (classes) associés."
   ]
  },
  {
   "cell_type": "markdown",
   "metadata": {},
   "source": [
    "## Partie 1 : fonctions utiles"
   ]
  },
  {
   "cell_type": "markdown",
   "metadata": {},
   "source": [
    "<font size=\"+1\" color=\"RED\">**[Q]**</font> Ecrire la fonction <code>normalisation()</code>: cette fonction doit prendre en argument un <code>array A</code> et rendre l'array obtenu en normalisant <code>A</code> par la méthode vue en cours 8.\n",
    "\n",
    "*Remarque*: avec les array numpy, il n'est pas nécessaire de faire des boucles..."
   ]
  },
  {
   "cell_type": "code",
   "execution_count": 6,
   "metadata": {},
   "outputs": [],
   "source": [
    "def normalisation(A) :\n",
    "    # On renvoie l'array A normalisé\n",
    "    return np.asarray([((A[i] - A.min(axis=0)) / (A.max(axis=0) - A.min(axis=0))) for i in range(len(A))])"
   ]
  },
  {
   "cell_type": "code",
   "execution_count": 7,
   "metadata": {
    "scrolled": true
   },
   "outputs": [
    {
     "data": {
      "text/plain": [
       "<matplotlib.collections.PathCollection at 0x7fc1722e5af0>"
      ]
     },
     "execution_count": 7,
     "metadata": {},
     "output_type": "execute_result"
    },
    {
     "data": {
      "image/png": "[encoded data removed]",
      "text/plain": [
       "<Figure size 432x288 with 1 Axes>"
      ]
     },
     "metadata": {
      "needs_background": "light"
     },
     "output_type": "display_data"
    }
   ],
   "source": [
    "# Affichage des points après normalisation:\n",
    "\n",
    "data_norm = normalisation(data_desc)\n",
    "\n",
    "plt.scatter(data_norm[:,0],data_norm[:,1])"
   ]
  },
  {
   "cell_type": "markdown",
   "metadata": {},
   "source": [
    "<font size=\"+1\" color=\"RED\">**[Q]**</font> Ecrire la fonction <code>dist_vect()</code> qui calcule la distance euclidienne entre deux vecteurs représenté sous forme d'<code>array</code>."
   ]
  },
  {
   "cell_type": "code",
   "execution_count": 8,
   "metadata": {},
   "outputs": [],
   "source": [
    "def dist_vect(vect1, vect2) :\n",
    "    # Renvoie la distance vectorielle entre les vecteurs vect1 et vect2\n",
    "    return np.linalg.norm(vect1 - vect2)"
   ]
  },
  {
   "cell_type": "code",
   "execution_count": 9,
   "metadata": {},
   "outputs": [
    {
     "data": {
      "text/plain": [
       "0.17437936593905287"
      ]
     },
     "execution_count": 9,
     "metadata": {},
     "output_type": "execute_result"
    }
   ],
   "source": [
    "dist_vect(data_norm[0,:],data_norm[1,:])"
   ]
  },
  {
   "cell_type": "markdown",
   "metadata": {},
   "source": [
    "### Calcul de centroides\n",
    "\n",
    "<font size=\"+1\" color=\"RED\">**[Q]**</font> Ecrire la fonction <code>centroide()</code> qui, étant un ensemble d'exemples, contenant au moins 2 exemples donné sous la forme d'un array rend leur centroide (sous la forme d'un array)."
   ]
  },
  {
   "cell_type": "code",
   "execution_count": 10,
   "metadata": {},
   "outputs": [],
   "source": [
    "def centroide(desc) :\n",
    "    # Renvoie le centroide (sous forme d'array) d'un ensemble d'exemples\n",
    "    return np.asarray([np.mean(desc[:,i]) for i in range(len(desc[0]))])"
   ]
  },
  {
   "cell_type": "code",
   "execution_count": 11,
   "metadata": {},
   "outputs": [
    {
     "name": "stdout",
     "output_type": "stream",
     "text": [
      "Ensemble d'exemples: \n",
      " [[0.         0.6       ]\n",
      " [0.14285714 0.5       ]]\n",
      "Centroide correspondant:\n",
      " [0.07142857 0.55      ]\n"
     ]
    }
   ],
   "source": [
    "print(\"Ensemble d'exemples: \\n\",data_norm[0:2,:])\n",
    "\n",
    "print(\"Centroide correspondant:\\n\",centroide(data_norm[0:2,:]))"
   ]
  },
  {
   "cell_type": "code",
   "execution_count": 12,
   "metadata": {},
   "outputs": [
    {
     "data": {
      "text/plain": [
       "array([0.51020408, 0.45      ])"
      ]
     },
     "execution_count": 12,
     "metadata": {},
     "output_type": "execute_result"
    }
   ],
   "source": [
    "centroide(data_norm)"
   ]
  },
  {
   "cell_type": "markdown",
   "metadata": {},
   "source": [
    "Dans ce qui suit, on appelle \"ensemble de centroides\" un array contenant $K$ vecteurs de dimensions $p$."
   ]
  },
  {
   "cell_type": "markdown",
   "metadata": {},
   "source": [
    "## Partie 2: implémentation des k-moyennes"
   ]
  },
  {
   "cell_type": "markdown",
   "metadata": {},
   "source": [
    "### Inertie d'un cluster\n",
    "<font size=\"+1\" color=\"RED\">**[Q]**</font> Ecrire la fonction <code>inertie_cluster</code> qui, étant donné un array contenant un ensemble d'exemples contenant au moins 2 exemples, rend la valeur de l'inertie de cet ensemble telle qu'elle a été définie dans le cours."
   ]
  },
  {
   "cell_type": "code",
   "execution_count": 13,
   "metadata": {},
   "outputs": [],
   "source": [
    "import math as mt\n",
    "\n",
    "def inertie_cluster(desc) :\n",
    "    # Renvoie la valeur de l'inertie de l'ensemble\n",
    "    \n",
    "    # Calcul du centroide des exemples\n",
    "    centre = centroide(desc)\n",
    "    \n",
    "    # Calcul de l'inertie du cluster\n",
    "    # for i in range(len(desc)) :\n",
    "    #   print(\"centre:\", centre, \"\\tExemple:\", desc[i], \"\\tdistance =\", mt.pow(np.linalg.norm(centre - desc[i]), 2))\n",
    "    return sum([mt.pow(np.linalg.norm(desc[i] - centre), 2) for i in range(len(desc))])"
   ]
  },
  {
   "cell_type": "code",
   "execution_count": 14,
   "metadata": {},
   "outputs": [
    {
     "name": "stdout",
     "output_type": "stream",
     "text": [
      "inertie de l'ensemble : 2.975991253644316\n"
     ]
    }
   ],
   "source": [
    "np.set_printoptions(precision=3) # pour n'afficher que 3 chiffres au plus après la virgules...\n",
    "\n",
    "print(\"inertie de l'ensemble :\",inertie_cluster(data_norm))\n",
    "\n",
    "np.set_printoptions(precision=8) # On remet comme c'était avant"
   ]
  },
  {
   "cell_type": "code",
   "execution_count": 15,
   "metadata": {},
   "outputs": [
    {
     "name": "stdout",
     "output_type": "stream",
     "text": [
      "inertie de l'ensemble : 0.01520408163265306\n"
     ]
    }
   ],
   "source": [
    "print(\"inertie de l'ensemble :\",inertie_cluster(data_norm[0:2,:]))"
   ]
  },
  {
   "cell_type": "markdown",
   "metadata": {},
   "source": [
    "<font size=\"+1\" color=\"RED\">**[Q]**</font> Ecrire la fonction <code>initialisation()</code> qui étant donné un entier $K>1$ et une base d'apprentissage de $n$ exemples rend un array contenant $K$ exemples tirés aléatoirement dans la base.\n",
    "On fait l'hypothèse que $K\\leq n$.\n",
    "\n",
    "*Remarque*: étudier les fonctions de la librairie random de Python...\n"
   ]
  },
  {
   "cell_type": "code",
   "execution_count": 16,
   "metadata": {},
   "outputs": [],
   "source": [
    "import random as rd\n",
    "\n",
    "def initialisation(K, desc) :\n",
    "    # On renvoie K exemples tirés aléatoirements\n",
    "    selection = []\n",
    "    \n",
    "    while (len(selection) < K) :\n",
    "        val = rd.randint(0, len(desc) - 1)\n",
    "        if val not in selection :\n",
    "            selection.append(val)\n",
    "            \n",
    "    print(\"Sélectionnés:\", selection)\n",
    "    \n",
    "    return desc[selection]"
   ]
  },
  {
   "cell_type": "code",
   "execution_count": 17,
   "metadata": {},
   "outputs": [
    {
     "name": "stdout",
     "output_type": "stream",
     "text": [
      "Sélectionnés: [3, 11, 6]\n"
     ]
    },
    {
     "data": {
      "text/plain": [
       "array([[0.28571429, 0.        ],\n",
       "       [0.71428571, 0.8       ],\n",
       "       [0.57142857, 0.8       ]])"
      ]
     },
     "execution_count": 17,
     "metadata": {},
     "output_type": "execute_result"
    }
   ],
   "source": [
    "np.random.seed(42)   # supprimer cette ligne une fois la mise au point terminée\n",
    "\n",
    "# Par exemple (mais vous ne devriez pas pouvoir retrouver exactement les mêmes !)\n",
    "Centroides_test = initialisation(3,data_norm)\n",
    "Centroides_test"
   ]
  },
  {
   "cell_type": "code",
   "execution_count": 18,
   "metadata": {},
   "outputs": [
    {
     "data": {
      "text/plain": [
       "<matplotlib.collections.PathCollection at 0x7fc150bba250>"
      ]
     },
     "execution_count": 18,
     "metadata": {},
     "output_type": "execute_result"
    },
    {
     "data": {
      "image/png": "[encoded data removed]",
      "text/plain": [
       "<Figure size 432x288 with 1 Axes>"
      ]
     },
     "metadata": {
      "needs_background": "light"
     },
     "output_type": "display_data"
    }
   ],
   "source": [
    "plt.scatter(data_norm[:,0],data_norm[:,1],color='blue')\n",
    "plt.scatter(Centroides_test[:,0],Centroides_test[:,1],color='red')"
   ]
  },
  {
   "cell_type": "markdown",
   "metadata": {},
   "source": [
    "<font size=\"+1\" color=\"RED\">**[Q]**</font> Ecrire la fonction <code>plus_proche()</code> qui, étant donné un exemple et un array contenant un ensemble de centroides, rend l'indice du array correspondant au centroide dont l'exemple est le plus proche.\n",
    "En cas d'égalité de distance, le centroide de plus petit indice est choisi."
   ]
  },
  {
   "cell_type": "code",
   "execution_count": 19,
   "metadata": {},
   "outputs": [],
   "source": [
    "def plus_proche(exemple, centroides) :\n",
    "    # On cherche l'indice du centroide le plus proche\n",
    "    indice = 0\n",
    "    \n",
    "    # On parcourt les differents centroides afin de trouver le plus proche\n",
    "    for i in range(len(centroides)) :\n",
    "        if (np.linalg.norm(exemple - centroides[i]) < np.linalg.norm(exemple - centroides[indice])) :\n",
    "            indice = i\n",
    "            \n",
    "    return indice"
   ]
  },
  {
   "cell_type": "code",
   "execution_count": 20,
   "metadata": {},
   "outputs": [
    {
     "name": "stdout",
     "output_type": "stream",
     "text": [
      "2\n",
      "0\n",
      "0\n",
      "0\n",
      "0\n",
      "2\n",
      "2\n",
      "2\n",
      "0\n",
      "1\n",
      "0\n",
      "1\n",
      "0\n",
      "1\n"
     ]
    }
   ],
   "source": [
    "for i in range(0,len(data_norm)):\n",
    "    pproche = plus_proche(data_norm[i,:],Centroides_test)\n",
    "    print(pproche)"
   ]
  },
  {
   "cell_type": "markdown",
   "metadata": {},
   "source": [
    "### Matrice d'affectation\n",
    "\n",
    "Etant donné une base d'apprentissage, on peut représenter une partition de cette base en K clusters à l'aide d'une matrice U contenant n lignes (une par exemple) et K colonnes (une par cluster) et telle que les contraintes suivantes sont vérifiées: \n",
    "- U[i,j] = 1 si l'exemple i appartient au cluster j\n",
    "- U[i,j] = 0 si l'exemple i n'appartient pas au cluster j\n",
    "- un exemple appartient à un et un seul cluster\n",
    "- un cluster contient au moins un exemple\n",
    "\n",
    "On appelle **matrice d'affectation** une telle matrice U.\n"
   ]
  },
  {
   "cell_type": "markdown",
   "metadata": {},
   "source": [
    "<font size=\"+1\" color=\"RED\">**[Q]**</font> Donner une expression mathématique (pas du Python) des 2 dernières contraintes que vérifie une matrice d'affectation."
   ]
  },
  {
   "cell_type": "markdown",
   "metadata": {},
   "source": [
    "(à faire sur feuille)"
   ]
  },
  {
   "cell_type": "markdown",
   "metadata": {},
   "source": [
    "### Implémentation en Python\n",
    "Nous utilisons un dictionnaire pour représenter d'une matrice d'affectation: \n",
    "- les clés de ce dictionnaire correspondent aux $K$ indices des clusters\n",
    "- les valeurs correspondent à des listes d'indices d'exemples (leur indice dans la base d'apprentissage)\n",
    "\n",
    "Dans tout ce qui suit, une \"matrice d'affectation\" sera un tel dictionnaire.\n"
   ]
  },
  {
   "cell_type": "markdown",
   "metadata": {},
   "source": [
    "<font size=\"+1\" color=\"RED\">**[Q]**</font> Ecrire la fonction <code>affecte_cluster()</code> qui, étant donné une base d'apprentissage et un ensemble de $K$ centroïdes, rend la matrice d'affectation des exemples de la base aux clusters représentés par chaque centroïde."
   ]
  },
  {
   "cell_type": "code",
   "execution_count": 21,
   "metadata": {},
   "outputs": [],
   "source": [
    "def affecte_cluster(desc, centroides) :\n",
    "    # On renvoie la matrice d'affectation des exemples aux clusters\n",
    "    \n",
    "    # Préparation de la matrice\n",
    "    matrice = dict()\n",
    "    for k in range(len(centroides)) :\n",
    "        matrice[k] = list()\n",
    "        \n",
    "    # On parcout l'ensemble des exemples et on append au cluster correspondant\n",
    "    for i in range(len(desc)) :\n",
    "        indice = plus_proche(desc[i], centroides)\n",
    "        matrice[indice].append(i)\n",
    "        \n",
    "    # On convertit en nparray les données\n",
    "    for k in range(len(centroides)) :\n",
    "        matrice[k] = np.array(matrice[k])\n",
    "        \n",
    "    # On renvoie la matrice\n",
    "    return matrice"
   ]
  },
  {
   "cell_type": "code",
   "execution_count": 22,
   "metadata": {},
   "outputs": [
    {
     "data": {
      "text/plain": [
       "{0: array([ 1,  2,  3,  4,  8, 10, 12]),\n",
       " 1: array([ 9, 11, 13]),\n",
       " 2: array([0, 5, 6, 7])}"
      ]
     },
     "execution_count": 22,
     "metadata": {},
     "output_type": "execute_result"
    }
   ],
   "source": [
    "DictAffect = affecte_cluster(data_norm, Centroides_test)\n",
    "DictAffect"
   ]
  },
  {
   "cell_type": "markdown",
   "metadata": {},
   "source": [
    "### Ensemble des centroides\n",
    "Grâce à la matrice d'affectation, on peut maintenant trouver les nouveaux centroides. Ceux-ci sont déterminés en prenant les moyennes des ensembles des exemples qui sont affectés au même cluster.\n",
    "\n",
    "<font size=\"+1\" color=\"RED\">**[Q]**</font> Ecrire la fonction <code>nouveaux_centroides()</code> qui, étant donné une base d'apprentissage et une matrice d'affectation, rend l'ensemble des nouveaux centroides obtenus."
   ]
  },
  {
   "cell_type": "code",
   "execution_count": 23,
   "metadata": {},
   "outputs": [],
   "source": [
    "def nouveaux_centroides(desc, matrice) :\n",
    "    # On renvoie la position des nouveaux centroides\n",
    "    new_centroides = list()\n",
    "    \n",
    "    # On parcourt les points liés à chaque centroide\n",
    "    for k in matrice.keys() :\n",
    "        liste = matrice[k]\n",
    "        new_centroides.append(centroide(desc[matrice[k]]))\n",
    "        \n",
    "    # On renvoie les nouveaux centroides\n",
    "    return new_centroides"
   ]
  },
  {
   "cell_type": "code",
   "execution_count": 24,
   "metadata": {},
   "outputs": [
    {
     "data": {
      "text/plain": [
       "array([[0.14285714, 0.5       ],\n",
       "       [0.14285714, 0.        ],\n",
       "       [0.28571429, 0.        ],\n",
       "       [0.28571429, 0.2       ],\n",
       "       [0.64285714, 0.        ],\n",
       "       [0.71428571, 0.        ],\n",
       "       [0.85714286, 0.2       ]])"
      ]
     },
     "execution_count": 24,
     "metadata": {},
     "output_type": "execute_result"
    }
   ],
   "source": [
    "data_norm[DictAffect[0]]"
   ]
  },
  {
   "cell_type": "code",
   "execution_count": 25,
   "metadata": {},
   "outputs": [
    {
     "data": {
      "text/plain": [
       "array([0.43877551, 0.12857143])"
      ]
     },
     "execution_count": 25,
     "metadata": {},
     "output_type": "execute_result"
    }
   ],
   "source": [
    "centroide(data_norm[DictAffect[0]])"
   ]
  },
  {
   "cell_type": "code",
   "execution_count": 26,
   "metadata": {},
   "outputs": [
    {
     "data": {
      "text/plain": [
       "[array([0.43877551, 0.12857143]),\n",
       " array([0.78571429, 0.8       ]),\n",
       " array([0.42857143, 0.75      ])]"
      ]
     },
     "execution_count": 26,
     "metadata": {},
     "output_type": "execute_result"
    }
   ],
   "source": [
    "nouveaux_centroides(data_norm, DictAffect)"
   ]
  },
  {
   "cell_type": "markdown",
   "metadata": {},
   "source": [
    "### Inertie globale d'une partition\n",
    "\n",
    "<font size=\"+1\" color=\"RED\">**[Q]**</font> En utilisant la fonction `inertie_cluster()`, écrire la fonction `inertie_globale()` qui, étant donné une base d'apprentissage et une matrice d'affectation, rend la valeur de l'inertie globale du partitionnement correspondant.\n"
   ]
  },
  {
   "cell_type": "code",
   "execution_count": 27,
   "metadata": {},
   "outputs": [],
   "source": [
    "def inertie_globale(desc, matrice) :\n",
    "    # On renvoie l'inertie globale d'une base de données\n",
    "    in_glb = 0\n",
    "\n",
    "    # On parcourt la matrice d'affectation\n",
    "    for i in matrice.keys() :\n",
    "        in_glb += inertie_cluster(desc[matrice[i]])\n",
    "        \n",
    "    return in_glb"
   ]
  },
  {
   "cell_type": "code",
   "execution_count": 28,
   "metadata": {},
   "outputs": [
    {
     "name": "stdout",
     "output_type": "stream",
     "text": [
      "Inertie globale:  1.235189504373178\n"
     ]
    }
   ],
   "source": [
    "np.set_printoptions(precision=3) # pour n'afficher que 3 chiffres au plus après la virgules...\n",
    "\n",
    "print(\"Inertie globale: \",inertie_globale(data_norm,DictAffect))\n",
    "\n",
    "np.set_printoptions(precision=8) # pour n'afficher que 3 chiffres au plus après la virgules..."
   ]
  },
  {
   "cell_type": "markdown",
   "metadata": {},
   "source": [
    "### Algorithme des K-moyennes\n",
    "\n",
    "<font size=\"+1\" color=\"RED\">**[Q]**</font> En utilisant les fonctions précédentes, implémenter l'algorithme des K-moyennes.\n",
    "Pour cela, écrire une fonction <code>kmoyennes()</code> qui prend en argument un entier $K>1$, une base d'apprentissage, ainsi que deux nombres: un réel *epsilon*$>0$ et un entier *iter_max*$>1$, et qui rend un ensemble de centroides et une matrice d'affectation.\n",
    "\n",
    "Le réel *epsilon* sert de critère de convergence, et l'entier *iter_max* est utilisé pour fixer un nombre d'itérations maximal servant à arrêter le calcul."
   ]
  },
  {
   "cell_type": "code",
   "execution_count": 29,
   "metadata": {},
   "outputs": [],
   "source": [
    "import math as mt\n",
    "\n",
    "def kmoyennes(K, desc, epsilon=0.01, iter_max=1000) :\n",
    "    # On renvoie un ensemble de centroides et une matrice d'affectation\n",
    "    \n",
    "    # On initialise les K centroides\n",
    "    centroides = initialisation(K, desc)\n",
    "    \n",
    "    # On affecte les données à un cluster\n",
    "    affect = affecte_cluster(desc, centroides)\n",
    "    \n",
    "    # Historique des inerties globales\n",
    "    print(\"Iteration 0\\tInertie :\", inertie_globale(desc, affect))\n",
    "    histo_inertie_glb = [inertie_globale(desc, affect)]\n",
    "    \n",
    "    for i in range(1, iter_max) :\n",
    "        # Recalcul des centroides\n",
    "        centroides = nouveaux_centroides(desc, affect)\n",
    "        \n",
    "        # Nouvelle affectation\n",
    "        affect = affecte_cluster(desc, centroides)\n",
    "        \n",
    "        # Calcul de la nouvelle inertie globale\n",
    "        histo_inertie_glb.append(inertie_globale(desc, affect))\n",
    "        \n",
    "        # Affichage de la situation\n",
    "        difference = mt.sqrt(mt.pow(histo_inertie_glb[i] - histo_inertie_glb[i - 1], 2))\n",
    "        print(\"Iteration\", i, \"\\tInertie :\", histo_inertie_glb[i], \"\\tDifference :\", difference)\n",
    "        \n",
    "        # Vérification de epsilon\n",
    "        if (difference < epsilon) :\n",
    "            print(\"\\nSortie de l'algorithme - Difference des inerties inférieure à epsilon\\n\")\n",
    "            return centroides, affect\n",
    "        \n",
    "    print(\"\\nSortie de l'algortihme - Nombre d'itérations maximal dépassé\\n\")\n",
    "    return centroides, affect"
   ]
  },
  {
   "cell_type": "code",
   "execution_count": 30,
   "metadata": {},
   "outputs": [
    {
     "name": "stdout",
     "output_type": "stream",
     "text": [
      "Sélectionnés: [1, 6]\n",
      "Iteration 0\tInertie : 1.4718950437317784\n",
      "Iteration 1 \tInertie : 1.4718950437317784 \tDifference : 0.0\n",
      "\n",
      "Sortie de l'algorithme - Difference des inerties inférieure à epsilon\n",
      "\n",
      "Affichage des centres:  [array([0.31632653, 0.18571429]), array([0.70408163, 0.71428571])]\n",
      "Affichage des affectations:  {0: array([ 0,  1,  2,  3,  4,  8, 10]), 1: array([ 5,  6,  7,  9, 11, 12, 13])}\n"
     ]
    }
   ],
   "source": [
    "np.random.seed(42)   # supprimer cette ligne une fois la mise au point terminée\n",
    "\n",
    "les_centres, l_affectation = kmoyennes(2, data_norm, 0.05, 100)\n",
    "\n",
    "print(\"Affichage des centres: \",les_centres)\n",
    "print(\"Affichage des affectations: \",l_affectation)"
   ]
  },
  {
   "cell_type": "code",
   "execution_count": 31,
   "metadata": {},
   "outputs": [
    {
     "name": "stdout",
     "output_type": "stream",
     "text": [
      "Sélectionnés: [6, 8, 5]\n",
      "Iteration 0\tInertie : 1.1395238095238094\n",
      "Iteration 1 \tInertie : 0.8878163265306123 \tDifference : 0.2517074829931971\n",
      "Iteration 2 \tInertie : 0.7812585034013606 \tDifference : 0.10655782312925166\n",
      "Iteration 3 \tInertie : 0.7812585034013606 \tDifference : 0.0\n",
      "\n",
      "Sortie de l'algorithme - Difference des inerties inférieure à epsilon\n",
      "\n",
      "Affichage des centres:  [[0.67857143 0.8       ]\n",
      " [0.48809524 0.06666667]\n",
      " [0.07142857 0.55      ]]\n",
      "Affichage des affectations:  {0: array([ 5,  6,  7,  9, 11, 13]), 1: array([ 2,  3,  4,  8, 10, 12]), 2: array([0, 1])}\n"
     ]
    }
   ],
   "source": [
    "np.random.seed(42)   # supprimer cette ligne une fois la mise au point terminée\n",
    "\n",
    "les_centres, l_affectation = kmoyennes(3, data_norm, 0.05, 100)\n",
    "\n",
    "les_centres = np.array(les_centres)\n",
    "\n",
    "print(\"Affichage des centres: \",les_centres)\n",
    "print(\"Affichage des affectations: \",l_affectation)"
   ]
  },
  {
   "cell_type": "markdown",
   "metadata": {},
   "source": [
    "On peut réaliser un affichage couleur des centroïdes trouvés:"
   ]
  },
  {
   "cell_type": "code",
   "execution_count": 32,
   "metadata": {},
   "outputs": [
    {
     "data": {
      "text/plain": [
       "<matplotlib.collections.PathCollection at 0x7fc1724e3100>"
      ]
     },
     "execution_count": 32,
     "metadata": {},
     "output_type": "execute_result"
    },
    {
     "data": {
      "image/png": "[encoded data removed]",
      "text/plain": [
       "<Figure size 432x288 with 1 Axes>"
      ]
     },
     "metadata": {
      "needs_background": "light"
     },
     "output_type": "display_data"
    }
   ],
   "source": [
    "plt.scatter(data_norm[:,0],data_norm[:,1],color='b')\n",
    "plt.scatter(les_centres[:,0],les_centres[:,1],color='r',marker='x')"
   ]
  },
  {
   "cell_type": "markdown",
   "metadata": {},
   "source": [
    "<font size=\"+1\" color=\"RED\">**[Q]**</font> Ecrire la fonction <code>affiche_resultat()</code> qui permet d'afficher le résultat de l'algorithme en utilisant des couleurs différentes pour les clusters trouvés (pour faire simple, on peut ne considèrer que le cas où K vaut 3).\n",
    "\n",
    "*Remarque*: La librairie matplotlib permet de manipuler aisément des couleurs:\n",
    "http://matplotlib.org/api/cm_api.html"
   ]
  },
  {
   "cell_type": "code",
   "execution_count": 39,
   "metadata": {},
   "outputs": [],
   "source": [
    "import random as rd\n",
    "\n",
    "def affiche_resultat(data, centroides, affectation) :\n",
    "    # On plot en croix rouges les centroides\n",
    "    print(centroides)\n",
    "    plt.scatter(centroides[:,0], centroides[:,1], color='r', marker='x')\n",
    "    \n",
    "    # On plot chaque cluster d'une couleur différente\n",
    "    for i in range(len(centroides)) :\n",
    "        # On génère une couleur aléatoire\n",
    "        r = rd.random()\n",
    "        b = rd.random()\n",
    "        g = rd.random()\n",
    "        c = (r, b, g)\n",
    "        \n",
    "        # On récupère les points\n",
    "        data_norm = data[affectation[i]]\n",
    "        \n",
    "        # On plot le cluster\n",
    "        plt.scatter(data_norm[:,0], data_norm[:,1], color=c)"
   ]
  },
  {
   "cell_type": "code",
   "execution_count": 40,
   "metadata": {},
   "outputs": [
    {
     "name": "stdout",
     "output_type": "stream",
     "text": [
      "[[0.67857143 0.8       ]\n",
      " [0.48809524 0.06666667]\n",
      " [0.07142857 0.55      ]]\n"
     ]
    },
    {
     "data": {
      "image/png": "[encoded data removed]",
      "text/plain": [
       "<Figure size 432x288 with 1 Axes>"
      ]
     },
     "metadata": {
      "needs_background": "light"
     },
     "output_type": "display_data"
    }
   ],
   "source": [
    "affiche_resultat(data_norm,les_centres,l_affectation)"
   ]
  },
  {
   "cell_type": "markdown",
   "metadata": {},
   "source": [
    "### Expérimentations\n",
    "\n",
    "<font size=\"+1\" color=\"RED\">**[Q]**</font> Expérimenter l'algorithme des k-moyennes sur les données. Etudier l'impact du choix de $K$ sur l'inertie globale finale. Faire de même en relançant plusieurs fois l'algorithme avec la même valeur de $K$, en modifiant la valeur de epsilon ou de max_iter, etc."
   ]
  },
  {
   "cell_type": "markdown",
   "metadata": {},
   "source": [
    "## Questions de cours (à faire sur feuille)\n",
    "\n",
    "Pour vous entraîner sans machine...\n",
    "\n",
    "<font size=\"+1\" color=\"RED\">**[Q]**</font> On considère un ensemble fini $U$ d'éléments. \n",
    "- donner la fonction caractéristique de $U$\n",
    "- donner la fonction caractéristique de l'ensemble vide\n",
    "- soit $E$ et $F$ deux sous-ensembles de $U$ définis par leurs fonctions caractéristiques $\\chi_E$ et $\\chi_F$. En déduire les fonctions caractéristiques de $E\\cup F$, de $E\\cap F$ et de $E^{c}$. *(indice: penser au min et au max)*\n",
    "\n",
    "<font size=\"+1\" color=\"RED\">**[Q]**</font> Rappeler la définition d'une partition $P$ d'un ensemble $X$ en $K$ sous-ensembles. \n",
    "\n",
    "<font size=\"+1\" color=\"RED\">**[Q]**</font> Appliquer, à la main, l'algorithme des K-moyennes sur les données fournies sur le transparent 8 du cours 9 en utilisant d'abord $K=2$, puis $K=3$. Dans chacun des cas, réaliser au maximum 10 itérations de l'algorithme ($t_{max}=10$).\n",
    "Comparer les résultats obtenus.\n",
    "\n",
    "\n",
    "---"
   ]
  },
  {
   "cell_type": "code",
   "execution_count": null,
   "metadata": {},
   "outputs": [],
   "source": []
  }
 ],
 "metadata": {
  "kernelspec": {
   "display_name": "Python 3",
   "language": "python",
   "name": "python3"
  },
  "language_info": {
   "codemirror_mode": {
    "name": "ipython",
    "version": 3
   },
   "file_extension": ".py",
   "mimetype": "text/x-python",
   "name": "python",
   "nbconvert_exporter": "python",
   "pygments_lexer": "ipython3",
   "version": "3.9.1"
  }
 },
 "nbformat": 4,
 "nbformat_minor": 1
}
