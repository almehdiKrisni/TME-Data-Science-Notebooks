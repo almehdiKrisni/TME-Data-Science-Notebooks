{
 "cells": [
  {
   "cell_type": "markdown",
   "metadata": {},
   "source": [
    "IA & Data science (LU3IN0226) -- 2020-2021\n",
    "--------\n",
    "*&copy; Equipe pédagogique: Vincent Guigue, Christophe Marsala, Edoardo Sarti, Olivier Schwander.*\n"
   ]
  },
  {
   "cell_type": "markdown",
   "metadata": {},
   "source": [
    "#  Semaine 2 : programmation du perceptron de Rosenblatt"
   ]
  },
  {
   "cell_type": "markdown",
   "metadata": {},
   "source": [
    "<font size=\"+1\" color=\"RED\">**[Q]**</font> **Indiquer dans la boîte ci-dessous vos noms et prénoms :**"
   ]
  },
  {
   "cell_type": "markdown",
   "metadata": {},
   "source": [
    "KRISNI Almehdi - 3800519"
   ]
  },
  {
   "cell_type": "markdown",
   "metadata": {},
   "source": [
    "<font color=\"RED\" size=\"+1\">**[Q]**</font> **Renommer ce fichier ipython**\n",
    "\n",
    "Tout en haut de cette page, cliquer sur <tt>tme-02</tt> et rajouter à la suite de <tt>tme-02</tt> les noms des membres du binômes séparés par un tiret."
   ]
  },
  {
   "cell_type": "markdown",
   "metadata": {},
   "source": [
    "<font color=\"RED\" size=\"+1\">IMPORTANT: soumission de votre fichier final</font>\n",
    "\n",
    "**Nom à donner au fichier à poster** : *tme-02-Nom1_Nom2.ipynb* \n",
    "- *Nom1* et *Nom2* : noms des membres du binôme\n",
    "- ne pas compresser ou faire une archive: il faut rendre le fichier ipython tel quel, éventuellement, si vous avez d'autres fichiers vous les rendez séparément.\n",
    "\n",
    "**Echéancier pour la soumission de votre compte-rendu:**\n",
    "- le compte-rendu d'une séance doit être remis avant le début de la séance de la semaine suivante.\n"
   ]
  },
  {
   "cell_type": "markdown",
   "metadata": {},
   "source": [
    "## Présentation ##\n",
    "\n",
    "Dans ce TME, nous allons mettre en place une \"architecture\" de code nous permettant petit à petit de tester tout au long du semestre différents modèles d'apprentissage supervisé. Dans nos séances, nous allons nous restreindre au cas binaire où les étiquettes des exemples sont $+1$ ou $-1$.\n",
    "\n",
    "\n",
    "### Objectifs de ce TME\n",
    "\n",
    "Le travail à réaliser est le suivant :\n",
    "- continuer à apprendre à (bien) utiliser jupyter notebook\n",
    "- générer aléatoirement des datasets jouets pour expérimenter\n",
    "- se familiariser avec la classe `Classifier` et implémenter un premier classifieur simple\n",
    "- implémenter l'algorithme du perceptron de Rosenblatt\n",
    "- réaliser des expérimentations pour étudier les performances de cet algorithme"
   ]
  },
  {
   "cell_type": "markdown",
   "metadata": {},
   "source": [
    "Les imports suivants seront généralement nécessaires pour nos séances:"
   ]
  },
  {
   "cell_type": "code",
   "execution_count": 1,
   "metadata": {},
   "outputs": [],
   "source": [
    "import numpy as np\n",
    "import pandas as pd\n",
    "from datetime import datetime as dt\n",
    "import matplotlib.pyplot as plt\n",
    "import math as mt\n",
    "%matplotlib inline  "
   ]
  },
  {
   "cell_type": "markdown",
   "metadata": {},
   "source": [
    "**Remarques :**\n",
    "Sauf indication contraire, les vecteurs et les matrices seront représentés par des `np.ndarray` numpy.\n",
    "\n",
    "La construction la plus simple d'un `np.ndarray` se fait en utilisant la fonction `np.array()` de numpy.\n",
    "\n",
    "La concaténation de vecteurs pour contruire une matrice s'obtient à l'aide de la fonction `vstack` de numpy."
   ]
  },
  {
   "cell_type": "code",
   "execution_count": 2,
   "metadata": {},
   "outputs": [
    {
     "name": "stdout",
     "output_type": "stream",
     "text": [
      "Type de vecteur_1:  <class 'numpy.ndarray'>\n",
      "vecteur_1 :  [0.  1.5 4.2]\n",
      "Type de vecteur_2:  <class 'numpy.ndarray'>\n",
      "vecteur_2 :  [ 1.1   3.8  20.01]\n",
      "Type de vecteur_3:  <class 'numpy.ndarray'>\n",
      "vecteur_3 :  [ 1.1   5.3  24.21]\n",
      "Type de matrice_1:  <class 'numpy.ndarray'>\n",
      "matrice_1 : \n",
      " [[ 0.    1.5   4.2 ]\n",
      " [ 1.1   3.8  20.01]\n",
      " [ 1.1   5.3  24.21]]\n"
     ]
    }
   ],
   "source": [
    "# Exemples de vecteurs (des ndarray)\n",
    "\n",
    "vecteur_1 = np.array([0, 1.5, 4.2])\n",
    "print(\"Type de vecteur_1: \",type(vecteur_1))\n",
    "print(\"vecteur_1 : \",vecteur_1)\n",
    "\n",
    "vecteur_2 = np.array([1.1, 3.8, 20.01])\n",
    "print(\"Type de vecteur_2: \",type(vecteur_2))\n",
    "print(\"vecteur_2 : \",vecteur_2)\n",
    "\n",
    "vecteur_3 = vecteur_1 + vecteur_2\n",
    "print(\"Type de vecteur_3: \",type(vecteur_3))\n",
    "print(\"vecteur_3 : \",vecteur_3)\n",
    "\n",
    "# Exemple d'utilisation de vstack (pour plus de détails, voir la doc numpy sur le web)\n",
    "matrice_1 = np.vstack( (vecteur_1, vecteur_2, vecteur_3) )\n",
    "print(\"Type de matrice_1: \",type(matrice_1))\n",
    "print(\"matrice_1 : \\n\",matrice_1)\n"
   ]
  },
  {
   "cell_type": "markdown",
   "metadata": {},
   "source": [
    "## Étape 1: dataset\n",
    "\n",
    "La première étape consiste à construire un ensemble d'exemples d'apprentissage que l'on appelle par la suite simplement *dataset*. Un dataset est un ensemble de couples $\\{(x_1,y_1),...,(x_n,y_n)\\}$. \n",
    "\n",
    "Pour nos implémentations, les $x_i$ et $y_i$ seront des tableaux qui seront stockés sous la forme de <code>ndarray</code> Numpy.\n"
   ]
  },
  {
   "cell_type": "markdown",
   "metadata": {},
   "source": [
    "### Génération de données ''Jouet''\n",
    "\n",
    "Nous allons pour l'instant nous intéresser à des datasets \"jouet\" générés selon des distributions choisies à la main. \n",
    "\n",
    "Pour pouvoir visualiser nos données, nous allons nous restreindre à des dataset en 2 dimensions pour la description (entrée $x_i$ ) et l'étiquette (sortie $y_i$). \n",
    "On aura donc ici: $x_i \\in \\mathbb{R}^2$ et $y_i \\in \\{-1;+1\\}$."
   ]
  },
  {
   "cell_type": "markdown",
   "metadata": {},
   "source": [
    "#### Tirage aléatoire selon une loi uniforme\n",
    "\n",
    "Commençons par un dataset dont les exemples sont générés par un tirage aléatoire selon une loi uniforme.\n",
    "\n",
    "Pour cela, nous utiliserons la fonction `numpy.random.uniform`:\n",
    "\n",
    "https://docs.scipy.org/doc/numpy-1.15.0/reference/generated/numpy.random.uniform.html\n",
    "\n",
    "Cette fonction renvoie :\n",
    "- soit un nombre réel obtenu par un tirage aléatoire\n",
    "- soit `ndarray` dont les dimensions ont été précisées et qui contient un ensemble de nombres réels tirés aléatoirement"
   ]
  },
  {
   "cell_type": "code",
   "execution_count": 3,
   "metadata": {},
   "outputs": [
    {
     "data": {
      "text/plain": [
       "0.41871967757760076"
      ]
     },
     "execution_count": 3,
     "metadata": {},
     "output_type": "execute_result"
    }
   ],
   "source": [
    "np.random.uniform()  # rend un réel aléatoire de l'intervalle [0.0, 1.0[ (tirage uniforme)"
   ]
  },
  {
   "cell_type": "code",
   "execution_count": 4,
   "metadata": {},
   "outputs": [
    {
     "data": {
      "text/plain": [
       "3.267925642266217"
      ]
     },
     "execution_count": 4,
     "metadata": {},
     "output_type": "execute_result"
    }
   ],
   "source": [
    "np.random.uniform(-7,5) # rend un réel aléatoire de l'intervalle [-7, 5[ (tirage uniforme)"
   ]
  },
  {
   "cell_type": "code",
   "execution_count": 5,
   "metadata": {},
   "outputs": [
    {
     "data": {
      "text/plain": [
       "array([[-2.1171661 , -1.29353066, -0.22079532],\n",
       "       [ 3.77103565, -6.83018263, -5.2244101 ],\n",
       "       [-4.52953244,  0.58339321, -2.74549736],\n",
       "       [ 4.038018  , -6.88150095, -2.3143046 ]])"
      ]
     },
     "execution_count": 5,
     "metadata": {},
     "output_type": "execute_result"
    }
   ],
   "source": [
    "np.random.uniform(-7,5,(4,3)) # rend un tableau de 4x3 réels aléatoires pris dans [-7, 5[ (tirage uniforme)"
   ]
  },
  {
   "cell_type": "markdown",
   "metadata": {},
   "source": [
    "Pour générer aléatoirement les étiquettes (aussi appelées <i>labels</i> ou <i>classes</i>) (qui sont donc des valeurs de {-1, +1}), une contrainte supplémentaire s'ajoute: on souhaite que dans le dataset, il y ait autant d'exemples de chaque classe.\n",
    "\n",
    "Ainsi, si on veut générer un ensemble de 20 labels de telle sorte qu'il y ait exactement 10 valeurs -1 et 10 valeurs +1 dans cet ensemble, la méthode la plus simple est de construire une liste en additionnant une liste de 10 valeurs -1 et une liste de 10 valeurs +1. Pour notre implémentation, cette liste doit ensuite être convertie en `ndarray`."
   ]
  },
  {
   "cell_type": "code",
   "execution_count": 6,
   "metadata": {},
   "outputs": [
    {
     "name": "stdout",
     "output_type": "stream",
     "text": [
      "type : <class 'numpy.ndarray'>\n"
     ]
    },
    {
     "data": {
      "text/plain": [
       "array([-1, -1, -1, -1, -1, -1, -1, -1, -1, -1,  1,  1,  1,  1,  1,  1,  1,\n",
       "        1,  1,  1])"
      ]
     },
     "execution_count": 6,
     "metadata": {},
     "output_type": "execute_result"
    }
   ],
   "source": [
    "Lnd = np.asarray([-1 for i in range(0,10)] + [+1 for i in range(0,10)])\n",
    "print(\"type :\", type(Lnd))\n",
    "Lnd"
   ]
  },
  {
   "cell_type": "markdown",
   "metadata": {},
   "source": [
    "Lors de la mise au point d'un programme qui utilise l'aléatoire, il est important de pouvoir travailler sur des séquences aléatoires qui soient toujours les mêmes.\n",
    "Pour cela, on doit préciser une initialisation de la séquence aléatoire, cela se fait en utilisant la commande `numpy.random.seed` :\n",
    "\n",
    "https://docs.scipy.org/doc/numpy-1.15.1/reference/generated/numpy.random.seed.html\n",
    "\n",
    "Cette fonction permet de donner une valeur (que l'on nomme la *graine* de la séquence) pour initialiser la séquence de tirages aléatoires, ainsi, avec la même valeur donnée on obtiendra toujours la même séquence de tirages aléatoires.\n",
    "\n",
    "Par exemple :"
   ]
  },
  {
   "cell_type": "code",
   "execution_count": 7,
   "metadata": {},
   "outputs": [
    {
     "data": {
      "text/plain": [
       "array([-2.50919762,  9.01428613,  4.63987884,  1.97316968, -6.87962719,\n",
       "       -6.88010959, -8.83832776,  7.32352292,  2.02230023,  4.16145156])"
      ]
     },
     "execution_count": 7,
     "metadata": {},
     "output_type": "execute_result"
    }
   ],
   "source": [
    "np.random.seed(42)\n",
    "np.random.uniform(-10,10,10)"
   ]
  },
  {
   "cell_type": "code",
   "execution_count": 8,
   "metadata": {},
   "outputs": [
    {
     "data": {
      "text/plain": [
       "array([-4.98152753, -9.07808359,  3.53632482, -9.13061029, -7.67152594,\n",
       "        2.07731378, -6.18138674,  3.37031435,  8.34895698, -1.62439826])"
      ]
     },
     "execution_count": 8,
     "metadata": {},
     "output_type": "execute_result"
    }
   ],
   "source": [
    "np.random.seed(41)\n",
    "np.random.uniform(-10,10,10)"
   ]
  },
  {
   "cell_type": "markdown",
   "metadata": {},
   "source": [
    "<font color=\"RED\" size=\"+1\">**[Q]**</font> En utilisant la fonction précédente, créer 2 variables :\n",
    "- `data_desc` : qui est un tableau de 100 exemples de dimension 2 dont les valeurs pour chaque dimension sont tirées aléatoirement dans l'intervalle [-5,5[ \n",
    "- `data_label` : qui est un tableau de 100 entiers de {-1,+1} tirés aléatoirement de façon uniformes et tel qu'il y ait autant de valeurs +1 que de valeurs -1."
   ]
  },
  {
   "cell_type": "code",
   "execution_count": 9,
   "metadata": {},
   "outputs": [
    {
     "name": "stdout",
     "output_type": "stream",
     "text": [
      "data_desc :\n",
      "[[-1.25459881  4.50714306]\n",
      " [ 2.31993942  0.98658484]\n",
      " [-3.4398136  -3.4400548 ]\n",
      " [-4.41916388  3.66176146]\n",
      " [ 1.01115012  2.08072578]\n",
      " [-4.79415506  4.69909852]\n",
      " [ 3.32442641 -2.87660889]\n",
      " [-3.18175033 -3.1659549 ]\n",
      " [-1.95757757  0.24756432]\n",
      " [-0.68054981 -2.0877086 ]\n",
      " [ 1.11852895 -3.60506139]\n",
      " [-2.07855351 -1.33638157]\n",
      " [-0.43930016  2.85175961]\n",
      " [-3.00326218  0.14234438]\n",
      " [ 0.92414569 -4.53549587]\n",
      " [ 1.07544852 -3.29475876]\n",
      " [-4.34948407  4.48885537]\n",
      " [ 4.65632033  3.08397348]\n",
      " [-1.95386231 -4.02327886]\n",
      " [ 1.84233027 -0.59847506]\n",
      " [-3.77961765 -0.0482309 ]\n",
      " [-4.65611479  4.09320402]\n",
      " [-2.41220018  1.62522284]\n",
      " [-1.88288924  0.20068021]\n",
      " [ 0.46710279 -3.15145544]\n",
      " [ 4.69584628  2.75132823]\n",
      " [ 4.39498942  3.9482735 ]\n",
      " [ 0.97899979  4.21874235]\n",
      " [-4.11507498 -3.04017138]\n",
      " [-4.54772711 -1.74669669]\n",
      " [-1.1132271  -2.28650968]\n",
      " [ 3.28737509 -1.43246673]\n",
      " [-2.1906549   0.42696083]\n",
      " [-3.59075775  3.02196981]\n",
      " [-4.25449356  4.86886937]\n",
      " [ 2.72244769 -3.01284318]\n",
      " [-4.94477883  3.15461428]\n",
      " [ 2.06857344  2.29007168]\n",
      " [ 2.71270347 -4.25955348]\n",
      " [-1.41534271 -3.8413094 ]\n",
      " [ 3.63103426  1.23298127]\n",
      " [-1.69101975 -4.3644165 ]\n",
      " [-1.89017678 -1.74816678]\n",
      " [ 2.29606178  1.37557471]\n",
      " [ 3.87212743 -0.27785075]\n",
      " [-3.80405754  2.13244787]\n",
      " [ 2.60785049  0.61277198]\n",
      " [ 2.7096718  -0.06204404]\n",
      " [ 0.22732829 -0.72458982]\n",
      " [-4.74580873 -3.92108573]\n",
      " [-4.68570814  1.36410411]\n",
      " [-1.85644019  0.08570691]\n",
      " [ 4.07566474 -2.50707771]\n",
      " [-0.89617077  2.55551139]\n",
      " [-2.71201835 -4.2302009 ]\n",
      " [-2.10248547 -3.38778713]\n",
      " [ 4.29697652  3.0812038 ]\n",
      " [ 1.33403757  3.7146059 ]\n",
      " [ 3.03672077 -3.13429941]\n",
      " [ 3.92558998  0.39342242]\n",
      " [ 3.07440155  3.960913  ]\n",
      " [-1.81996525 -3.89948075]\n",
      " [-2.72064837 -0.72892211]\n",
      " [ 3.18014766  3.60730583]\n",
      " [-4.93047869  0.10747303]\n",
      " [-0.82588997 -2.7789219 ]\n",
      " [-3.80134633 -1.62384829]\n",
      " [ 4.42909704 -1.76797068]\n",
      " [ 0.18790622  2.03018959]\n",
      " [-1.36370398  4.71782083]\n",
      " [ 4.62447295 -2.48217704]\n",
      " [-0.02751494 -1.9912169 ]\n",
      " [-2.15159506 -4.63113053]\n",
      " [ 1.09564334  0.02679023]\n",
      " [-4.48521249 -2.21353536]\n",
      " [ 4.08265886 -2.60438109]\n",
      " [-3.55105128 -0.1054724 ]\n",
      " [ 4.85650454 -2.57944728]\n",
      " [ 1.72135547  2.61619615]\n",
      " [-2.62362456  2.28216349]\n",
      " [-1.32216867  1.32305831]\n",
      " [ 1.33529711  0.35774684]\n",
      " [-4.0971023   3.35302496]\n",
      " [-1.79219935 -3.1348149 ]\n",
      " [-4.59224858  0.90892943]\n",
      " [ 1.77564362 -4.83412171]\n",
      " [ 0.12093058 -2.73504225]\n",
      " [ 1.4517279  -3.25633571]\n",
      " [ 1.90937738 -1.13264654]\n",
      " [ 4.36729989 -3.62479056]\n",
      " [-1.58933649 -3.86526479]\n",
      " [ 4.24693618  3.77339353]\n",
      " [-2.42058372  1.59984046]\n",
      " [ 3.172222    0.55200812]\n",
      " [ 0.29650578 -2.58147709]\n",
      " [-4.06897232  3.97215758]\n",
      " [ 4.00418057  1.33101457]\n",
      " [-1.60970209 -1.50790425]\n",
      " [ 2.25955679  3.9711026 ]\n",
      " [ 3.87086424  2.79875546]]\n",
      "data_label :\n",
      "[ 1 -1  1  1 -1 -1 -1  1 -1  1  1  1 -1 -1  1 -1 -1  1  1 -1 -1 -1  1  1\n",
      "  1 -1  1 -1  1  1 -1 -1 -1 -1  1  1 -1 -1 -1  1 -1  1  1 -1 -1  1  1 -1\n",
      "  1 -1  1 -1 -1  1 -1  1 -1 -1  1  1  1 -1  1 -1  1  1  1  1 -1 -1  1  1\n",
      "  1 -1  1 -1 -1 -1 -1 -1 -1  1  1 -1 -1  1  1 -1  1  1  1 -1 -1  1  1 -1\n",
      " -1  1  1 -1]\n"
     ]
    }
   ],
   "source": [
    "np.random.seed(42)   # on prend 42 comme graine\n",
    "\n",
    "# Création de data_desc\n",
    "data_desc = np.random.uniform(-5, 5, (100, 2))\n",
    "print(\"data_desc :\")\n",
    "print(data_desc)\n",
    "\n",
    "# Création de data_label\n",
    "nb_val = 100 # Afin d'avoir autant de -1 que de +1, il vaut mieux utiliser une valeur paire\n",
    "data_label = np.asarray([-1 for i in range(0,int(nb_val / 2))] + [+1 for i in range(0,int(nb_val / 2))])\n",
    "np.random.shuffle(data_label)\n",
    "print(\"data_label :\")\n",
    "print(data_label)"
   ]
  },
  {
   "cell_type": "code",
   "execution_count": 10,
   "metadata": {},
   "outputs": [
    {
     "data": {
      "text/plain": [
       "array([[-1.25459881,  4.50714306],\n",
       "       [ 2.31993942,  0.98658484],\n",
       "       [-3.4398136 , -3.4400548 ],\n",
       "       [-4.41916388,  3.66176146],\n",
       "       [ 1.01115012,  2.08072578]])"
      ]
     },
     "execution_count": 10,
     "metadata": {},
     "output_type": "execute_result"
    }
   ],
   "source": [
    "data_desc[0:5,:]"
   ]
  },
  {
   "cell_type": "code",
   "execution_count": 11,
   "metadata": {},
   "outputs": [
    {
     "data": {
      "text/plain": [
       "array([4.85650454, 4.86886937])"
      ]
     },
     "execution_count": 11,
     "metadata": {},
     "output_type": "execute_result"
    }
   ],
   "source": [
    "# maximum des valeurs par colonne:\n",
    "data_desc.max(0)\n",
    "\n",
    "# Si on veut se placer sur les colonnes, on utilise le paramètre 0. Si on veut se placer sur les lignes, on utilise\n",
    "# le paramètre 1."
   ]
  },
  {
   "cell_type": "code",
   "execution_count": 12,
   "metadata": {},
   "outputs": [
    {
     "data": {
      "text/plain": [
       "array([-4.94477883, -4.83412171])"
      ]
     },
     "execution_count": 12,
     "metadata": {},
     "output_type": "execute_result"
    }
   ],
   "source": [
    "# minimum des valeurs par colonne:\n",
    "data_desc.min(0)"
   ]
  },
  {
   "cell_type": "code",
   "execution_count": 13,
   "metadata": {},
   "outputs": [
    {
     "data": {
      "text/plain": [
       "array([ 1, -1,  1,  1, -1])"
      ]
     },
     "execution_count": 13,
     "metadata": {},
     "output_type": "execute_result"
    }
   ],
   "source": [
    "data_label[0:5]"
   ]
  },
  {
   "cell_type": "markdown",
   "metadata": {},
   "source": [
    "<font color=\"RED\" size=\"+1\">**[Q]**</font> Ecrire la fonction `genere_dataset` qui prend en argument le nombre de dimenstions $p$, le nombre $n$  d'exemples de chaque classe, ainsi que 2 valeurs pour les bornes inférieure et supérieure des valeurs de description, et qui renvoie un tuple dont le premier composant est un `ndarray` contenant les vecteurs de description et le deuxième composant est un `ndarray` contenant les labels correspondant (en respectant l'équirépartition des labels).\n",
    "On fera l'hypothèse que $n$ est toujours un nombre pair."
   ]
  },
  {
   "cell_type": "code",
   "execution_count": 14,
   "metadata": {},
   "outputs": [],
   "source": [
    "# ------------------------ A COMPLETER :\n",
    "\n",
    "def genere_dataset_uniform(p, n, borne_min, borne_max) :\n",
    "    # Création des valeurs de descriptions\n",
    "    desc_val = np.random.uniform(borne_min, borne_max, (n, p))\n",
    "    \n",
    "    # Création des labels correspondants\n",
    "    desc_label = np.asarray([-1 for i in range(n)] + [+1 for i in range(n)])\n",
    "    np.random.shuffle(desc_label)\n",
    "    \n",
    "    # Retour du tuple\n",
    "    return (desc_val, desc_label)"
   ]
  },
  {
   "cell_type": "code",
   "execution_count": 15,
   "metadata": {},
   "outputs": [],
   "source": [
    "np.random.seed(42)   # on prend 42 comme graine\n",
    "\n",
    "# Génération d'un dataset de 20 exemples :\n",
    "d_desc, d_lab = genere_dataset_uniform(2,10,-5,5)"
   ]
  },
  {
   "cell_type": "code",
   "execution_count": 16,
   "metadata": {},
   "outputs": [
    {
     "data": {
      "text/plain": [
       "array([[-1.25459881,  4.50714306],\n",
       "       [ 2.31993942,  0.98658484],\n",
       "       [-3.4398136 , -3.4400548 ],\n",
       "       [-4.41916388,  3.66176146],\n",
       "       [ 1.01115012,  2.08072578]])"
      ]
     },
     "execution_count": 16,
     "metadata": {},
     "output_type": "execute_result"
    }
   ],
   "source": [
    "d_desc[0:5,:]"
   ]
  },
  {
   "cell_type": "code",
   "execution_count": 17,
   "metadata": {},
   "outputs": [
    {
     "data": {
      "text/plain": [
       "array([-1,  1, -1, -1, -1])"
      ]
     },
     "execution_count": 17,
     "metadata": {},
     "output_type": "execute_result"
    }
   ],
   "source": [
    "d_lab[0:5]"
   ]
  },
  {
   "cell_type": "markdown",
   "metadata": {},
   "source": [
    "\n",
    "Un dataset en 2 dimensions peut être affiché en utilisant les fonctions de la librairie `matplotlib` et plus précisément la fonction `matplotlib.pyplot.scatter` permettant de dessiner un nuage de points: \n",
    "\n",
    "http://matplotlib.org/api/pyplot_api.html#matplotlib.pyplot.scatter\n",
    "\n",
    "Par exemple :"
   ]
  },
  {
   "cell_type": "code",
   "execution_count": 18,
   "metadata": {},
   "outputs": [
    {
     "data": {
      "text/plain": [
       "<matplotlib.collections.PathCollection at 0x7fb840d111c0>"
      ]
     },
     "execution_count": 18,
     "metadata": {},
     "output_type": "execute_result"
    },
    {
     "data": {
      "image/png": "[encoded data removed]",
      "text/plain": [
       "<Figure size 432x288 with 1 Axes>"
      ]
     },
     "metadata": {
      "needs_background": "light"
     },
     "output_type": "display_data"
    }
   ],
   "source": [
    "# Affichage de l'ensemble des exemples :\n",
    "plt.scatter(data_desc[:,0],data_desc[:,1],marker='o')"
   ]
  },
  {
   "cell_type": "markdown",
   "metadata": {},
   "source": [
    "Il est intéressant de  faire un affichage des points qui tient compte de leur étiquette et utiliser des couleurs différentes pour afficher les points. Pour faire cela, il faut commencer par séparer les exemples selon leur étiquette : ceux de label -1 et ceux de label +1. On utilise pour cela la puissance des `ndarray` pour faire des sélections (slices)."
   ]
  },
  {
   "cell_type": "code",
   "execution_count": 19,
   "metadata": {},
   "outputs": [],
   "source": [
    "# Extraction des exemples de classe -1:\n",
    "data_negatifs = data_desc[data_label == -1]\n",
    "# Extraction des exemples de classe +1:\n",
    "data_positifs = data_desc[data_label == +1]"
   ]
  },
  {
   "cell_type": "markdown",
   "metadata": {},
   "source": [
    "On peut alors afficher les points en leur donnant une couleur (''marker'') différente."
   ]
  },
  {
   "cell_type": "code",
   "execution_count": 20,
   "metadata": {
    "scrolled": true
   },
   "outputs": [
    {
     "data": {
      "text/plain": [
       "<matplotlib.collections.PathCollection at 0x7fb840db4e80>"
      ]
     },
     "execution_count": 20,
     "metadata": {},
     "output_type": "execute_result"
    },
    {
     "data": {
      "image/png": "[encoded data removed]",
      "text/plain": [
       "<Figure size 432x288 with 1 Axes>"
      ]
     },
     "metadata": {
      "needs_background": "light"
     },
     "output_type": "display_data"
    }
   ],
   "source": [
    "# Affichage de l'ensemble des exemples :\n",
    "plt.scatter(data_negatifs[:,0],data_negatifs[:,1],marker='o') # 'o' pour la classe -1\n",
    "plt.scatter(data_positifs[:,0],data_positifs[:,1],marker='x') # 'x' pour la classe +1"
   ]
  },
  {
   "cell_type": "markdown",
   "metadata": {},
   "source": [
    "<font color=\"RED\" size=\"+1\">**[Q]**</font> En utilisant les instructions précédentes, écrire la fonction `plot2DSet` qui, étant donné deux `ndarray`, un donnant des descriptions et l'autre les labels correspondants, affiche une représentation graphique de ce jeu de données."
   ]
  },
  {
   "cell_type": "code",
   "execution_count": 21,
   "metadata": {},
   "outputs": [],
   "source": [
    "# ------------------------ A COMPLETER :\n",
    "\n",
    "def plot2DSet(data_desc, data_label) :\n",
    "    \n",
    "    # Extraction des exemples de classe -1:\n",
    "    data_negatifs = data_desc[data_label == -1]\n",
    "    \n",
    "    # Extraction des exemples de classe +1:\n",
    "    data_positifs = data_desc[data_label == +1]\n",
    "    \n",
    "    # Affichage de l'ensemble des exemples :\n",
    "    plt.scatter(data_negatifs[:,0],data_negatifs[:,1],marker='o') # 'o' pour la classe -1\n",
    "    plt.scatter(data_positifs[:,0],data_positifs[:,1],marker='x') # 'x' pour la classe +1"
   ]
  },
  {
   "cell_type": "code",
   "execution_count": 22,
   "metadata": {
    "scrolled": true
   },
   "outputs": [
    {
     "data": {
      "image/png": "[encoded data removed]",
      "text/plain": [
       "<Figure size 432x288 with 1 Axes>"
      ]
     },
     "metadata": {
      "needs_background": "light"
     },
     "output_type": "display_data"
    }
   ],
   "source": [
    "# si tout est ok, l'appel suivant affiche exactement la même chose que précédemment\n",
    "plot2DSet(data_desc,data_label)"
   ]
  },
  {
   "cell_type": "markdown",
   "metadata": {},
   "source": [
    "#### Tirage aléatoire selon une loi normale\n",
    "\n",
    "\n",
    "Pour obtenir un dataset plus ''réaliste'', la loi uniforme n'est pas idéale, il est préférable de générer des dataset en utilisant un tirage aléatoire selon une loi normale (ie. représentée par une gaussienne).\n",
    "\n",
    "Pour cela, nous utiliserons la fonction `numpy.random.multivariate_normal` :\n",
    "\n",
    "https://docs.scipy.org/doc/numpy-1.15.0/reference/generated/numpy.random.multivariate_normal.html?highlight=gaussian\n"
   ]
  },
  {
   "cell_type": "markdown",
   "metadata": {},
   "source": [
    "Dans ce qui suit, on considère toujours un dataset en 2 dimensions (entrée) et 1 dimension (sortie) comme précédemment.\n",
    "\n",
    "La façon de procéder avec un tel tirage est différente de celle utilisée dans le cas uniforme: \n",
    "- on commence par tirer aléatoirement tous les exemples de la classe -1\n",
    "- puis on tire aléatoirement tous les exemples de la classe +1\n",
    "- on fusionne ces 2 ensembles en les mettant bout à bout\n",
    "- le tableau des labels est donc facile à construire: d'abord les -1 puis les +1\n"
   ]
  },
  {
   "cell_type": "markdown",
   "metadata": {},
   "source": [
    "<font color=\"RED\" size=\"+1\">**[Q]**</font> Ecrire la fonction <tt>genere_dataset_gaussian</tt> qui, étant donné 5 arguments:\n",
    "- `positive_center` est le centre de la gaussienne des points positifs (vecteur de taille 2)\n",
    "- `positive_sigma` est la variance de la gaussienne des points positifs (sous forme de matrice 2*2)\n",
    "- `negative_center` est le centre de la gaussienne des points négative (vecteur de taille 2)\n",
    "- `negative_sigma` est la variance de la gaussienne des points négative (sous forme de matrice 2*2)\n",
    "- `nb_points` est le nombre de points de chaque classe à générer\n",
    "\n",
    "rend un dataset généré aléatoirement en suivant une loi normale."
   ]
  },
  {
   "cell_type": "code",
   "execution_count": 23,
   "metadata": {},
   "outputs": [
    {
     "name": "stdout",
     "output_type": "stream",
     "text": [
      "[[ 1.09512578  2.66465434]\n",
      " [ 0.8597815   1.9668066 ]\n",
      " [ 0.25092348  1.22161799]\n",
      " [ 1.94884286  3.58085059]\n",
      " [ 0.63182906  2.37556463]\n",
      " [-0.19315823  1.5909481 ]\n",
      " [ 0.55325853  3.52424163]\n",
      " [ 1.3229998   0.60658306]\n",
      " [-1.17833425  0.95610359]\n",
      " [ 1.17269371  2.32419877]]\n"
     ]
    }
   ],
   "source": [
    "mean = (1, 2)\n",
    "cov = [[1, 0], [0, 1]]\n",
    "x = np.random.multivariate_normal(mean, cov, 10)\n",
    "print(x)"
   ]
  },
  {
   "cell_type": "code",
   "execution_count": 24,
   "metadata": {},
   "outputs": [],
   "source": [
    "# ------------------------ A COMPLETER :\n",
    "\n",
    "def genere_dataset_gaussian(positive_center, positive_sigma, negative_center, negative_sigma, nb_points) :\n",
    "    \n",
    "    # Création des descriptions négatives\n",
    "    negative_data_desc = np.random.multivariate_normal(negative_center, negative_sigma, nb_points)\n",
    "    \n",
    "    # Création des descriptions positives\n",
    "    positive_data_desc = np.random.multivariate_normal(positive_center, positive_sigma, nb_points)\n",
    "    \n",
    "    # Fusion des descriptions\n",
    "    data_desc = np.concatenate((negative_data_desc, positive_data_desc), axis=0)\n",
    "    \n",
    "    # Création des labels\n",
    "    label_desc = np.asarray([-1 for i in range(nb_points)] + [+1 for i in range(nb_points)])\n",
    "    \n",
    "    # Retour du tuple des données\n",
    "    return (data_desc, label_desc)"
   ]
  },
  {
   "cell_type": "code",
   "execution_count": 25,
   "metadata": {},
   "outputs": [
    {
     "name": "stdout",
     "output_type": "stream",
     "text": [
      "Taille du dataset généré : (20, 2) exemples\n"
     ]
    },
    {
     "data": {
      "image/png": "[encoded data removed]",
      "text/plain": [
       "<Figure size 432x288 with 1 Axes>"
      ]
     },
     "metadata": {
      "needs_background": "light"
     },
     "output_type": "display_data"
    }
   ],
   "source": [
    "# Exemple d'utilisation:\n",
    "\n",
    "data_desc, data_label = genere_dataset_gaussian(np.array([1,1]),np.array([[1,0],[0,1]]),np.array([-1,-1]),np.array([[1,0],[0,1]]),10)\n",
    "\n",
    "print(\"Taille du dataset généré :\", np.shape(data_desc), \"exemples\")\n",
    "\n",
    "# Affichage :\n",
    "plot2DSet(data_desc,data_label)\n"
   ]
  },
  {
   "cell_type": "code",
   "execution_count": 26,
   "metadata": {},
   "outputs": [
    {
     "data": {
      "text/plain": [
       "40"
      ]
     },
     "execution_count": 26,
     "metadata": {},
     "output_type": "execute_result"
    }
   ],
   "source": [
    "data_desc.size"
   ]
  },
  {
   "cell_type": "markdown",
   "metadata": {},
   "source": [
    "## Étape 2: les classifieurs\n",
    "\n",
    "Un classifieur (binaire dans ce cours) permet, pour chaque point d'entrée donné, de calculer un score (qui est une valeur de $\\mathbb{R}$). Si le score est strictement négatif, la donnée est associée à l'étiquette $-1$, sinon elle est associée à l'étiquette $+1$. \n",
    "\n",
    "\n",
    "### Représentation orientée objets\n",
    "\n",
    "Pour implémenter nos algorithmes d'apprentissage et pour représenter les données, nous allons utiliser quelques éléments de programmation orientée objet (POO) qu'autorise le langage Python. \n",
    "\n",
    "Si vous ne connaissez rien à la POO, il est fortement conseillé de vous familiariser avec elle, par exemple en commençant par lire une documentation ou suivre un tutorial sur le web (par exemple, http://apprendre-python.com/page-apprendre-programmation-orientee-objet-poo-classes-python-cours-debutants).\n"
   ]
  },
  {
   "cell_type": "markdown",
   "metadata": {},
   "source": [
    "### La classe Classifier\n",
    "\n",
    "Les classifieurs que l'on va implémenter seront définis à l'aide d'une classe qui va dériver de la classe `Classifier` suivante. Cette classe est une classe \"abstraite\", elle sera dérivée par héritage pour définir des classifieurs particuliers (knn, arbres de décision, etc.).\n",
    "\n",
    "Cette classe contient 5 méthodes:\n",
    "- `__init__`: qui permet d'initialiser les paramètres du classifieur. Les classes filles étendront cette méthode en rajoutant les paramètres qui les concernent. Le paramètre obligatoire d'un classifieur est le nombre de dimensions des données qu'il aura à traiter.\n",
    "- `train`: c'est la méthodes qui permet d'entraîner le modèle, on doit donc donner en argument le dataset qui sert à l'entraînement.\n",
    "- `score`: cette méthode est utilisée une fois le classifieur entrainé. Elle prend en argument la description d'un exemple et elle rend un score (une valeur de $\\mathbb{R}$).\n",
    "- `predict`: cette méthode, comme la précédente, s'utilise une fois le classifieur entraîné. Elle rend $\\hat y$, le label (-1 ou +1) qui est prédit par le classifieur pour la description de l'exemple donnée en argument. Généralement, cette valeur de prédiction $\\hat y$ s'obtient à partir du score: si le score est strictement négatif $\\hat y$ vaut  $-1$, sinon il vaut $+1$.\n",
    "- `accuracy`: comme les 2 précédentes, cette méthode s'utilise une fois le classifieur entraîné. Elle permet de calculer la qualité du classifieur sur un dataset donné, cette qualité est mesurée par le taux de bonne classification du classifieur sur le dataset. C'est donc une valeur de $[0,1]$ qui s'obtient divisant le nombre d'exemples du dataset qui sont bien classés par le classifieur par le nombre total d'exemples du dataset.\n",
    "\n",
    "Les méthodes `train`, `score` et `predict` ne seront pas définies dans la classe `Classifier` mais dans les classes qui hériteront ce cette classe car ces méthodes dépendent du modèle que l'on choisira d'implémenter.\n",
    "\n",
    "Par contre, la fonction `accuracy` peut être définie dès maintenant dans cette classe `Classifier`.\n"
   ]
  },
  {
   "cell_type": "markdown",
   "metadata": {},
   "source": [
    "<font color=\"RED\" size=\"+1\">**[Q]**</font> Compléter la classe `Classifier` ci-dessous en donnant l'implémentation de la fonction `accuracy`. Penser à déjà bien examiner les méthodes existantes dans la classe (et que l'on peut utiliser avant qu'elles soient implémentées)."
   ]
  },
  {
   "cell_type": "code",
   "execution_count": 27,
   "metadata": {},
   "outputs": [],
   "source": [
    "# ------------------------ A COMPLETER :\n",
    "class Classifier:\n",
    "    \"\"\" Classe pour représenter un classifieur\n",
    "        Attention: cette classe est une classe abstraite, elle ne peut pas être\n",
    "        instanciée.\n",
    "    \"\"\"\n",
    "    \n",
    "    def __init__(self, input_dimension):\n",
    "        \"\"\" Constructeur de Classifier\n",
    "            Argument:\n",
    "                - intput_dimension (int) : dimension de la description des exemples\n",
    "            Hypothèse : input_dimension > 0\n",
    "        \"\"\"\n",
    "        self.nbDimensions = input_dimension\n",
    "        #raise NotImplementedError(\"Please Implement this method\")\n",
    "        \n",
    "    def train(self, desc_set, label_set):\n",
    "        \"\"\" Permet d'entrainer le modele sur l'ensemble donné\n",
    "            desc_set: ndarray avec des descriptions\n",
    "            label_set: ndarray avec les labels correspondants\n",
    "            Hypothèse: desc_set et label_set ont le même nombre de lignes\n",
    "        \"\"\"        \n",
    "        raise NotImplementedError(\"Please Implement this method\")\n",
    "    \n",
    "    def score(self,x):\n",
    "        \"\"\" rend le score de prédiction sur x (valeur réelle)\n",
    "            x: une description\n",
    "        \"\"\"\n",
    "        raise NotImplementedError(\"Please Implement this method\")\n",
    "    \n",
    "    def predict(self, x):\n",
    "        \"\"\" rend la prediction sur x (soit -1 ou soit +1)\n",
    "            x: une description\n",
    "        \"\"\"\n",
    "        raise NotImplementedError(\"Please Implement this method\")\n",
    "\n",
    "    def accuracy(self, desc_set, label_set):\n",
    "        \"\"\" Permet de calculer la qualité du système sur un dataset donné\n",
    "            desc_set: ndarray avec des descriptions\n",
    "            label_set: ndarray avec les labels correspondants\n",
    "            Hypothèse: desc_set et label_set ont le même nombre de lignes\n",
    "        \"\"\"\n",
    "        # On crée la valeur d'indice de précision\n",
    "        accuracy_value = 0\n",
    "        \n",
    "        # On vérifie si les prédictions et les valeurs brutes concordent\n",
    "        for i in range(len(label_set)) :\n",
    "            if self.predict(desc_set[i]) == label_set[i] :\n",
    "                accuracy_value += 1\n",
    "             \n",
    "        # On retourne l'indice de précision\n",
    "        return accuracy_value / len(label_set)"
   ]
  },
  {
   "cell_type": "markdown",
   "metadata": {},
   "source": [
    "### Un premier classifieur \n",
    "Nous allons maintenant définir un **classifieur linéaire aléatoire** en étendant la classe `Classifier` et en implémentant le constructeur ainsi que les 3 méthodes `predict`, `score` et `train`.\n",
    "\n",
    "Pour un classifieur linéaire aléatoire:\n",
    "- dans le constructeur, on doit générer aléatoirement un vecteur $w$ de taille `input_dimension`. Les poids seront ensuite normalisés.\n",
    "- pour ce classifieur, la méthode `train` ne fait rien. On ne mettra qu'un print permettant d'afficher le message \"Pas d'apprentissage pour ce classifieur\"\n",
    "- pour une description d'exemple $x$, la méthode `score` doit utiliser la valeur de $\\langle x | w\\rangle$ pour rendre une valeur comprise entre $+1$ et $-1$\n",
    "- pour une description d'exemple $x$, la méthode `predict` doit utiliser la valeur de $\\langle x | w\\rangle$ pour prédire le label (+1 ou -1) associé\n",
    "\n",
    "**Par rapport au cours:**\n",
    "\n",
    "Il faut être attentif aux entrées/sorties pour bien comprendre ce qui se passe. En programmation objet, on peut avoir une vision moins claire: il faut donc redoubler de vigilance.\n",
    "1. En apprentissage, on attend des exemples et leurs étiquettes attendues et on sort $w$.\n",
    "1. En prediction (= inférence), on donne $x$ et $w$ et on sort $\\hat y$.\n",
    "\n"
   ]
  },
  {
   "cell_type": "markdown",
   "metadata": {},
   "source": [
    "<font color=\"RED\" size=\"+1\">**[Q]**</font> Compléter l'implémentation suivante de la classe <code>ClassifierLineaireRandom</code> qui hérite de la classe `Classifier` et permet de définir un classifieur linéaire aléatoire.\n",
    "\n",
    "Les entrées/sorties sont les bonnes à chaque étape... Mais il n'y a pas d'apprentissage: $w$ est donc aléatoire (mais il doit être à la bonne dimension pour les calculs soient possibles) et déterminé à la création du classifieur."
   ]
  },
  {
   "cell_type": "code",
   "execution_count": 28,
   "metadata": {},
   "outputs": [],
   "source": [
    "# ------------------------ A COMPLETER :\n",
    "class ClassifierLineaireRandom(Classifier):\n",
    "    \"\"\" Classe pour représenter un classifieur linéaire aléatoire\n",
    "        Cette classe hérite de la classe Classifier\n",
    "    \"\"\"\n",
    "    \n",
    "    def __init__(self, input_dimension):\n",
    "        \"\"\" Constructeur de Classifier\n",
    "            Argument:\n",
    "                - intput_dimension (int) : dimension de la description des exemples\n",
    "            Hypothèse : input_dimension > 0\n",
    "        \"\"\"\n",
    "        self.nbDimensions = input_dimension\n",
    "        self.w = np.asarray([np.random.uniform() for i in range(self.nbDimensions)])\n",
    "        \n",
    "    def train(self, desc_set, label_set):\n",
    "        \"\"\" Permet d'entrainer le modele sur l'ensemble donné\n",
    "            desc_set: ndarray avec des descriptions\n",
    "            label_set: ndarray avec les labels correspondants\n",
    "            Hypothèse: desc_set et label_set ont le même nombre de lignes\n",
    "        \"\"\"        \n",
    "        print(\"Pas d'apprentissage pour ce classifieur\")\n",
    "    \n",
    "    def score(self,x):\n",
    "        \"\"\" rend le score de prédiction sur x (valeur réelle)\n",
    "            x: une description\n",
    "        \"\"\"\n",
    "        # Création de la valeur du score de prédiction\n",
    "        prediction_score = 0.0\n",
    "        \n",
    "        # On effectue le calcul entre les vecteurs x et w\n",
    "        for i in range(x.size):\n",
    "            prediction_score += np.vdot(self.w[i],x[i])\n",
    "            \n",
    "        # Retour du score de prédiction\n",
    "        return prediction_score\n",
    "    \n",
    "    def predict(self, x):\n",
    "        \"\"\" rend la prediction sur x (soit -1 ou soit +1)\n",
    "            x: une description\n",
    "        \"\"\"\n",
    "        \n",
    "        # Création de la valeur de prediction\n",
    "        prediction = self.score(x)\n",
    "        \n",
    "        # On retourne la prédiction appropriée\n",
    "        if (prediction < 0) :\n",
    "            return -1\n",
    "        else :\n",
    "            return 1\n",
    "    "
   ]
  },
  {
   "cell_type": "markdown",
   "metadata": {},
   "source": [
    "Utilisation de la classe ainsi créée:"
   ]
  },
  {
   "cell_type": "code",
   "execution_count": 29,
   "metadata": {},
   "outputs": [
    {
     "name": "stdout",
     "output_type": "stream",
     "text": [
      "Pas d'apprentissage pour ce classifieur\n",
      "Classification du dataset:\n",
      "\t-0.254 -2.837 : -1 ---> -1 [-2.79197]\n",
      "\t-0.436 -0.974 : -1 ---> -1 [-1.08960]\n",
      "\t-0.527 -0.341 : -1 ---> -1 [-0.52132]\n",
      "\t+1.341 +0.071 : -1 ---> +1 [+0.56965]\n",
      "\t-0.904 -0.581 : -1 ---> -1 [-0.89070]\n",
      "\t-1.953 -2.048 : -1 ---> -1 [-2.67843]\n",
      "\t-2.876 -2.367 : -1 ---> -1 [-3.32719]\n",
      "\t-0.364 -1.907 : -1 ---> -1 [-1.94896]\n",
      "\t-0.524 +0.304 : -1 ---> +1 [+0.09245]\n",
      "\t-0.788 -0.403 : -1 ---> -1 [-0.67839]\n",
      "\t+0.104 +0.888 : +1 ---> +1 [+0.88307]\n",
      "\t+2.469 -0.124 : +1 ---> +1 [+0.80693]\n",
      "\t+1.950 +2.727 : +1 ---> +1 [+3.32249]\n",
      "\t+1.458 -0.684 : +1 ---> -1 [-0.10453]\n",
      "\t+1.327 +0.919 : +1 ---> +1 [+1.37055]\n",
      "\t+1.468 +1.736 : +1 ---> +1 [+2.20030]\n",
      "\t+0.220 +0.156 : +1 ---> +1 [+0.23092]\n",
      "\t+0.849 +0.034 : +1 ---> +1 [+0.35090]\n",
      "\t+1.150 +0.887 : +1 ---> +1 [+1.27379]\n",
      "\t+3.634 -0.025 : +1 ---> +1 [+1.33705]\n",
      "Taux de bonne classification sur le dataset:  0.85\n"
     ]
    }
   ],
   "source": [
    "# Pour avoir les mêmes valeurs aléatoires :\n",
    "np.random.seed(42)   # supprimer cette ligne une fois la mise au point terminée\n",
    "\n",
    "# Création d'un classifieur linéaire aléatoire de dimension 2:\n",
    "un_classifieur = ClassifierLineaireRandom(2)\n",
    "\n",
    "# Par définition, ce classifieur n'a pas besoin d'entraînement\n",
    "un_classifieur.train(data_desc,data_label)\n",
    "\n",
    "# Classification du dataset (contrôle de predict et score):\n",
    "print(\"Classification du dataset:\")\n",
    "for i in range(data_desc.shape[0]):\n",
    "    print(\"\\t{0:+.3f} {1:+.3f} : {2:+} ---> {3:+} [{4:+.5f}]\".format(data_desc[i,:][0], data_desc[i,:][1], \\\n",
    "                                                                  data_label[i], \\\n",
    "                                                                  un_classifieur.predict(data_desc[i,:]), \\\n",
    "                                                                  un_classifieur.score(data_desc[i,:])) )\n",
    "\n",
    "# Affichage du taux de bonne classification    \n",
    "print(\"Taux de bonne classification sur le dataset: \", un_classifieur.accuracy(data_desc,data_label))   \n"
   ]
  },
  {
   "cell_type": "markdown",
   "metadata": {},
   "source": [
    "<font color=\"RED\" size=\"+1\">**[Q]**</font> Calculer la performance (*accuracy*) d'un classifieur linéaire aléatoire sur un dataset de 100 points générés aléatoirement."
   ]
  },
  {
   "cell_type": "code",
   "execution_count": 30,
   "metadata": {},
   "outputs": [
    {
     "name": "stdout",
     "output_type": "stream",
     "text": [
      "Pas d'apprentissage pour ce classifieur\n",
      "Classification du dataset:\n",
      "\t+2.320 +0.987 : +1 ---> +1 [+1.68107]\n",
      "\t-3.440 -3.440 : -1 ---> -1 [-3.48417]\n",
      "\t-4.419 +3.662 : +1 ---> -1 [-0.42327]\n",
      "\t+1.011 +2.081 : +1 ---> +1 [+1.56056]\n",
      "\t-4.794 +4.699 : +1 ---> -1 [-0.09478]\n",
      "\t+3.324 -2.877 : -1 ---> +1 [+0.25725]\n",
      "\t-3.182 -3.166 : -1 ---> -1 [-3.21474]\n",
      "\t-1.958 +0.248 : +1 ---> -1 [-0.87683]\n",
      "\t-0.681 -2.088 : -1 ---> -1 [-1.39501]\n",
      "\t+1.119 -3.605 : +1 ---> -1 [-1.23605]\n",
      "\t-2.079 -1.336 : +1 ---> -1 [-1.73307]\n",
      "\t-0.439 +2.852 : -1 ---> +1 [+1.20557]\n",
      "\t-3.003 +0.142 : -1 ---> -1 [-1.46431]\n",
      "\t+0.924 -4.535 : -1 ---> -1 [-1.80207]\n",
      "\t+1.075 -3.295 : -1 ---> -1 [-1.10245]\n",
      "\t-4.349 +4.489 : -1 ---> +1 [+0.02716]\n",
      "\t+4.656 +3.084 : -1 ---> +1 [+3.92764]\n",
      "\t-1.954 -4.023 : +1 ---> -1 [-3.01683]\n",
      "\t+1.842 -0.598 : +1 ---> +1 [+0.64192]\n",
      "\t-3.780 -0.048 : -1 ---> -1 [-1.95687]\n",
      "\t-4.656 +4.093 : -1 ---> -1 [-0.32806]\n",
      "\t-2.412 +1.625 : +1 ---> -1 [-0.41838]\n",
      "\t-1.883 +0.201 : +1 ---> -1 [-0.86216]\n",
      "\t+0.467 -3.151 : +1 ---> -1 [-1.34166]\n",
      "\t+4.696 +2.751 : -1 ---> +1 [+3.78102]\n",
      "\t+4.395 +3.948 : -1 ---> +1 [+4.22747]\n",
      "\t+0.979 +4.219 : +1 ---> +1 [+2.61637]\n",
      "\t-4.115 -3.040 : -1 ---> -1 [-3.62891]\n",
      "\t-4.548 -1.747 : +1 ---> -1 [-3.20144]\n",
      "\t-1.113 -2.287 : +1 ---> -1 [-1.71596]\n",
      "\t+3.287 -1.432 : -1 ---> +1 [+0.96257]\n",
      "\t-2.191 +0.427 : +1 ---> -1 [-0.90605]\n",
      "\t-3.591 +3.022 : -1 ---> -1 [-0.32054]\n",
      "\t-4.254 +4.869 : -1 ---> +1 [+0.26631]\n",
      "\t+2.722 -3.013 : -1 ---> -1 [-0.11889]\n",
      "\t-4.945 +3.155 : +1 ---> -1 [-0.94638]\n",
      "\t+2.069 +2.290 : +1 ---> +1 [+2.20626]\n",
      "\t+2.713 -4.260 : +1 ---> -1 [-0.74912]\n",
      "\t-1.415 -3.841 : -1 ---> -1 [-2.65020]\n",
      "\t+3.631 +1.233 : -1 ---> +1 [+2.47506]\n",
      "\t-1.691 -4.364 : -1 ---> -1 [-3.05352]\n",
      "\t-1.890 -1.748 : -1 ---> -1 [-1.84326]\n",
      "\t+2.296 +1.376 : +1 ---> +1 [+1.86395]\n",
      "\t+3.872 -0.278 : +1 ---> +1 [+1.84064]\n",
      "\t-3.804 +2.132 : -1 ---> -1 [-0.87572]\n",
      "\t+2.608 +0.613 : -1 ---> +1 [+1.64082]\n",
      "\t+2.710 -0.062 : +1 ---> +1 [+1.35445]\n",
      "\t+0.227 -0.725 : +1 ---> -1 [-0.24715]\n",
      "\t-4.746 -3.921 : -1 ---> -1 [-4.39322]\n",
      "\t-4.686 +1.364 : +1 ---> -1 [-1.71188]\n",
      "\t-1.856 +0.086 : -1 ---> -1 [-0.90629]\n",
      "\t+4.076 -2.507 : +1 ---> +1 [+0.82672]\n",
      "\t-0.896 +2.556 : -1 ---> +1 [+0.82338]\n",
      "\t-2.712 -4.230 : -1 ---> -1 [-3.50828]\n",
      "\t-2.102 -3.388 : +1 ---> -1 [-2.77412]\n",
      "\t+4.297 +3.081 : -1 ---> +1 [+3.74250]\n",
      "\t+1.334 +3.715 : +1 ---> +1 [+2.54509]\n",
      "\t+3.037 -3.134 : -1 ---> -1 [-0.01910]\n",
      "\t+3.926 +0.393 : -1 ---> +1 [+2.20463]\n",
      "\t+3.074 +3.961 : +1 ---> +1 [+3.55853]\n",
      "\t-1.820 -3.899 : +1 ---> -1 [-2.88628]\n",
      "\t-2.721 -0.729 : +1 ---> -1 [-1.75675]\n",
      "\t+3.180 +3.607 : -1 ---> +1 [+3.43527]\n",
      "\t-4.930 +0.107 : +1 ---> -1 [-2.46726]\n",
      "\t-0.826 -2.779 : -1 ---> -1 [-1.81599]\n",
      "\t-3.801 -1.624 : +1 ---> -1 [-2.75818]\n",
      "\t+4.429 -1.768 : +1 ---> +1 [+1.37812]\n",
      "\t+0.188 +2.030 : +1 ---> +1 [+1.11426]\n",
      "\t-1.364 +4.718 : +1 ---> +1 [+1.66874]\n",
      "\t+4.624 -2.482 : -1 ---> +1 [+1.11984]\n",
      "\t-0.028 -1.991 : -1 ---> -1 [-1.01270]\n",
      "\t-2.152 -4.631 : +1 ---> -1 [-3.42279]\n",
      "\t+1.096 +0.027 : +1 ---> +1 [+0.57368]\n",
      "\t-4.485 -2.214 : +1 ---> -1 [-3.40360]\n",
      "\t+4.083 -2.604 : -1 ---> +1 [+0.78150]\n",
      "\t-3.551 -0.105 : +1 ---> -1 [-1.86870]\n",
      "\t+4.857 -2.579 : -1 ---> +1 [+1.18970]\n",
      "\t+1.721 +2.616 : -1 ---> +1 [+2.19227]\n",
      "\t-2.624 +2.282 : -1 ---> -1 [-0.19703]\n",
      "\t-1.322 +1.323 : -1 ---> -1 [-0.01255]\n",
      "\t+1.335 +0.358 : -1 ---> +1 [+0.86221]\n",
      "\t-4.097 +3.353 : -1 ---> -1 [-0.41343]\n",
      "\t-1.792 -3.135 : +1 ---> -1 [-2.48859]\n",
      "\t-4.592 +0.909 : +1 ---> -1 [-1.89237]\n",
      "\t+1.776 -4.834 : -1 ---> -1 [-1.51643]\n",
      "\t+0.121 -2.735 : -1 ---> -1 [-1.30983]\n",
      "\t+1.452 -3.256 : +1 ---> -1 [-0.89078]\n",
      "\t+1.909 -1.133 : +1 ---> +1 [+0.40830]\n",
      "\t+4.367 -3.625 : -1 ---> +1 [+0.41529]\n",
      "\t-1.589 -3.865 : +1 ---> -1 [-2.75119]\n",
      "\t+4.247 +3.773 : +1 ---> +1 [+4.06406]\n",
      "\t-2.421 +1.600 : +1 ---> -1 [-0.43540]\n",
      "\t+3.172 +0.552 : -1 ---> +1 [+1.89893]\n",
      "\t+0.297 -2.581 : +1 ---> -1 [-1.14304]\n",
      "\t-4.069 +3.972 : -1 ---> -1 [-0.08854]\n",
      "\t+4.004 +1.331 : +1 ---> +1 [+2.71503]\n",
      "\t-1.610 -1.508 : +1 ---> -1 [-1.57935]\n",
      "\t+2.260 +3.971 : -1 ---> +1 [+3.14698]\n",
      "\t+3.871 +2.799 : -1 ---> +1 [+3.38296]\n",
      "\t+1.420 -4.159 : +1 ---> -1 [-1.35934]\n",
      "Taux de bonne classification sur le dataset:  0.45\n"
     ]
    }
   ],
   "source": [
    "# ------------------------ A COMPLETER :\n",
    "\n",
    "# On crée 100 points aléatoires\n",
    "data_desc_100 = np.random.uniform(-5, 5, (100, 2))\n",
    "\n",
    "# On crée 100 étiquettes aléatoires\n",
    "data_label_100 = np.asarray([-1 for i in range(50)] + [1 for i in range(50)])\n",
    "np.random.shuffle(data_label_100)\n",
    "\n",
    "# On crée un classifieur linéaire aléatoire\n",
    "classifieur_l_a = ClassifierLineaireRandom(2)\n",
    "\n",
    "# On entraine le classifieur\n",
    "classifieur_l_a.train(data_desc_100, data_label_100)\n",
    "\n",
    "# Classification du dataset (contrôle de predict et score):\n",
    "print(\"Classification du dataset:\")\n",
    "for i in range(data_desc_100.shape[0]):\n",
    "    print(\"\\t{0:+.3f} {1:+.3f} : {2:+} ---> {3:+} [{4:+.5f}]\".format(data_desc_100[i,:][0], data_desc_100[i,:][1], \\\n",
    "                                                                  data_label_100[i], \\\n",
    "                                                                  classifieur_l_a.predict(data_desc_100[i,:]), \\\n",
    "                                                                  classifieur_l_a.score(data_desc_100[i,:])) )\n",
    "\n",
    "# Affichage du taux de bonne classification    \n",
    "print(\"Taux de bonne classification sur le dataset: \", classifieur_l_a.accuracy(data_desc_100,data_label_100))"
   ]
  },
  {
   "cell_type": "markdown",
   "metadata": {},
   "source": [
    "Nous allons maintenant essayer d'analyser le comportement du classifieur. La première étape consiste à analyser graphiquement la décision par rapport aux données. <BR>\n",
    "**ATTENTION** Ce n'est possible qu'en 2 dimensions\n",
    "\n",
    "\n",
    "Voici une fonction qui permet de dessiner la frontière de décision d'un classifieur. La valeur `step` permet de choisir la précision de tracé du dessin.\n",
    "Le code est entièrement fourni mais pour information, l'idée est la suivante:\n",
    "1. générer une grille de points sur tout l'espace;\n",
    "1. évaluer le classifieur sur toute la grille;\n",
    "1. interpoler un niveau de couleur sur tout l'espace représentant les valeurs du classifieur."
   ]
  },
  {
   "cell_type": "code",
   "execution_count": 31,
   "metadata": {},
   "outputs": [],
   "source": [
    "def plot_frontiere(desc_set, label_set, classifier, step=30):\n",
    "    \"\"\" desc_set * label_set * Classifier * int -> NoneType\n",
    "        Remarque: le 4e argument est optionnel et donne la \"résolution\" du tracé\n",
    "        affiche la frontière de décision associée au classifieur\n",
    "    \"\"\"\n",
    "    mmax=desc_set.max(0)\n",
    "    mmin=desc_set.min(0)\n",
    "    x1grid,x2grid=np.meshgrid(np.linspace(mmin[0],mmax[0],step),np.linspace(mmin[1],mmax[1],step))\n",
    "    grid=np.hstack((x1grid.reshape(x1grid.size,1),x2grid.reshape(x2grid.size,1)))\n",
    "    \n",
    "    # calcul de la prediction pour chaque point de la grille\n",
    "    res=np.array([classifier.predict(grid[i,:]) for i in range(len(grid)) ])\n",
    "    res=res.reshape(x1grid.shape)\n",
    "    # tracer des frontieres\n",
    "    plt.contourf(x1grid,x2grid,res,colors=[\"red\",\"cyan\"],levels=[-1000,0,1000])"
   ]
  },
  {
   "cell_type": "code",
   "execution_count": 32,
   "metadata": {},
   "outputs": [
    {
     "data": {
      "image/png": "[encoded data removed]",
      "text/plain": [
       "<Figure size 432x288 with 1 Axes>"
      ]
     },
     "metadata": {
      "needs_background": "light"
     },
     "output_type": "display_data"
    }
   ],
   "source": [
    "# Affichage de la frontière de séparation des classes\n",
    "plot_frontiere(data_desc,data_label,un_classifieur)\n",
    "plot2DSet(data_desc,data_label)"
   ]
  },
  {
   "cell_type": "markdown",
   "metadata": {},
   "source": [
    "Afin de proposer une second vision du classifieur, on propose de tracer les points en 2D et la décision $f(x)$ dans une troisième dimension, comme nous l'avons vu en cours.\n",
    "\n",
    "La vision induite est intéressante pédagogiquement... Mais il faut comprendre que l'usage de l'objet classifieur va être différent: il faut utiliser la fonction ```score``` et pas la fonction ```predict```: attention a bien avoir tout défini dans votre classifieur."
   ]
  },
  {
   "cell_type": "code",
   "execution_count": 33,
   "metadata": {},
   "outputs": [],
   "source": [
    "from matplotlib import cm\n",
    "def plot_frontiere_V2(desc_set, label_set, classifier, step=30):\n",
    "    \"\"\" desc_set * label_set * Classifier * int -> NoneType\n",
    "        Remarque: le 4e argument est optionnel et donne la \"résolution\" du tracé\n",
    "        affiche la frontière de décision associée au classifieur\n",
    "    \"\"\"\n",
    "    mmax=desc_set.max(0)\n",
    "    mmin=desc_set.min(0)\n",
    "    x1grid,x2grid=np.meshgrid(np.linspace(mmin[0],mmax[0],step),np.linspace(mmin[1],mmax[1],step))\n",
    "    grid=np.hstack((x1grid.reshape(x1grid.size,1),x2grid.reshape(x2grid.size,1)))\n",
    "    \n",
    "    # calcul de la prediction pour chaque point de la grille\n",
    "    res=np.array([classifier.score(grid[i,:]) for i in range(len(grid)) ])\n",
    "    res=res.reshape(x1grid.shape)\n",
    "    # tracer f en 3D:\n",
    "    fig = plt.gcf()\n",
    "    ax = fig.gca(projection='3d')\n",
    "    ax.set_xlabel('X_1')\n",
    "    ax.set_ylabel('X_2')\n",
    "    ax.set_zlabel('f(X)')\n",
    "\n",
    "    surf = ax.plot_surface(x1grid,x2grid,res, cmap=cm.coolwarm, linewidth=0, antialiased=False)\n",
    "    negatifs = desc_set[label_set == -1]\n",
    "    # Ensemble des exemples de classe +1:\n",
    "    positifs = desc_set[label_set == +1]\n",
    "    # Affichage de l'ensemble des exemples :\n",
    "    ax.scatter(negatifs[:,0],negatifs[:,1],-1,marker='o', c='b') # 'o' pour la classe -1\n",
    "    ax.scatter(positifs[:,0],positifs[:,1],1,marker='x',c='r') # 'x' pour la classe +1\n",
    "    ax.view_init(40, 170) # a régler en fonction des données"
   ]
  },
  {
   "cell_type": "code",
   "execution_count": 34,
   "metadata": {},
   "outputs": [
    {
     "data": {
      "image/png": "[encoded data removed]",
      "text/plain": [
       "<Figure size 432x288 with 1 Axes>"
      ]
     },
     "metadata": {
      "needs_background": "light"
     },
     "output_type": "display_data"
    }
   ],
   "source": [
    "plt.figure()\n",
    "plot_frontiere_V2(data_desc,data_label,un_classifieur)"
   ]
  },
  {
   "cell_type": "markdown",
   "metadata": {},
   "source": [
    "Afin de comprendre le pourquoi du comment, analysons les poids du classifieur:\n",
    "1. Récupération de $w$ dans l'objet classifieur.\n",
    "1. ```print```\n",
    "1. Quelle dimension fait monter $f(x)$, quelle dimension fait baisser $f(x)$?"
   ]
  },
  {
   "cell_type": "code",
   "execution_count": 35,
   "metadata": {},
   "outputs": [
    {
     "name": "stdout",
     "output_type": "stream",
     "text": [
      "0.3745401188473625\n",
      "0.8745401188473625\n",
      "-0.1254598811526375\n"
     ]
    },
    {
     "data": {
      "image/png": "[encoded data removed]",
      "text/plain": [
       "<Figure size 432x288 with 1 Axes>"
      ]
     },
     "metadata": {
      "needs_background": "light"
     },
     "output_type": "display_data"
    },
    {
     "data": {
      "image/png": "[encoded data removed]",
      "text/plain": [
       "<Figure size 432x288 with 1 Axes>"
      ]
     },
     "metadata": {
      "needs_background": "light"
     },
     "output_type": "display_data"
    },
    {
     "data": {
      "image/png": "[encoded data removed]",
      "text/plain": [
       "<Figure size 432x288 with 1 Axes>"
      ]
     },
     "metadata": {
      "needs_background": "light"
     },
     "output_type": "display_data"
    }
   ],
   "source": [
    "plt.figure()\n",
    "plot_frontiere_V2(data_desc,data_label,un_classifieur)\n",
    "print(un_classifieur.w[0])\n",
    "\n",
    "# On recupere le w du Classifier\n",
    "recupere_w = un_classifieur.w\n",
    "\n",
    "# On ajoute 0.5 au x de w et on affiche\n",
    "recupere_w[0] += 0.5\n",
    "un_classifieur.w = recupere_w\n",
    "plt.figure()\n",
    "plot_frontiere_V2(data_desc,data_label,un_classifieur)\n",
    "print(un_classifieur.w[0])\n",
    "\n",
    "# On diminue 0.5 au x de w et on affiche\n",
    "recupere_w[0] -= 1.\n",
    "un_classifieur.w = recupere_w\n",
    "plt.figure()\n",
    "plot_frontiere_V2(data_desc,data_label,un_classifieur)\n",
    "print(un_classifieur.w[0])"
   ]
  },
  {
   "cell_type": "markdown",
   "metadata": {},
   "source": [
    "<font color=\"RED\" size=\"+1\">**[Q]**</font> Afin de vérifier que vous avez bien compris les éléments présentés, nous vous proposons une petite expérience supplémentaire:\n",
    "1. Tirer un jeu de données (unique)\n",
    "1. Construire 100 classifieurs linéaires aléatoires sur ces données\n",
    "1. En évaluant le taux de bonne classification, isoler le meilleur classifieur\n",
    "1. Evaluer qualitativement le classifieur (forme de la frontière)\n",
    "1. Analyser pourquoi ce classifieur marche par rapport à la nature des données (même question que ci-dessus)\n",
    "1. Vérifier votre intuition en construisant à la main le vecteur $w$ d'un classifieur et en vérifiant qu'il a bien de bonne performances"
   ]
  },
  {
   "cell_type": "code",
   "execution_count": 36,
   "metadata": {},
   "outputs": [
    {
     "name": "stdout",
     "output_type": "stream",
     "text": [
      "0.57\n",
      "Vecteur w du meilleur classifieur =  [0.26867248 0.02218474]\n"
     ]
    },
    {
     "data": {
      "image/png": "[encoded data removed]",
      "text/plain": [
       "<Figure size 432x288 with 1 Axes>"
      ]
     },
     "metadata": {
      "needs_background": "light"
     },
     "output_type": "display_data"
    },
    {
     "data": {
      "image/png": "[encoded data removed]",
      "text/plain": [
       "<Figure size 432x288 with 1 Axes>"
      ]
     },
     "metadata": {
      "needs_background": "light"
     },
     "output_type": "display_data"
    }
   ],
   "source": [
    "# On tire un jeu de données\n",
    "# 1) On crée 100 points aléatoires\n",
    "data_desc_100 = np.random.uniform(-5, 5, (100, 2))\n",
    "\n",
    "# On crée 100 étiquettes aléatoires\n",
    "data_label_100 = np.asarray([-1 for i in range(50)] + [1 for i in range(50)])\n",
    "np.random.shuffle(data_label_100)\n",
    "\n",
    "# 2) Création de la liste de classifieurs\n",
    "liste_classifieur = list()\n",
    "for i in range(100) :\n",
    "    liste_classifieur.append(ClassifierLineaireRandom(2))\n",
    "    \n",
    "# 3) On isole le meilleur classifieur\n",
    "best_classifieur = liste_classifieur[0]\n",
    "for i in range(len(liste_classifieur)) :\n",
    "    if (best_classifieur.accuracy(data_desc_100, data_label_100) < liste_classifieur[i].accuracy(data_desc_100, data_label_100)) :\n",
    "        best_classifeur = liste_classifieur[i]\n",
    "        \n",
    "# On print le taux de bonne classification\n",
    "print(best_classifieur.accuracy(data_desc_100, data_label_100))\n",
    "\n",
    "# 4) On affiche le classifieur sous forme de graphe\n",
    "plot_frontiere(data_desc_100 ,data_label_100 ,best_classifieur)\n",
    "plot2DSet(data_desc,data_label)\n",
    "plt.figure()\n",
    "plot_frontiere_V2(data_desc_100, data_label_100, best_classifieur)\n",
    "\n",
    "# 5) On affiche le vecteur w du classifieur\n",
    "print(\"Vecteur w du meilleur classifieur = \", best_classifieur.w)"
   ]
  },
  {
   "cell_type": "markdown",
   "metadata": {},
   "source": [
    "# les $k$-plus proches voisins (*$k$-ppv* ou *$k$-NN*)\n",
    "\n",
    "\n",
    "Le classifieur des $k$-plus proches voisins est très intuitif: il s'agit de prédire la classe majoritaire dans le voisinage d'un point en examinant ses $k$ plus proches voisins (en anglais: $k$ nearest neighbors).\n",
    "La figure ci-dessous illustre bien le principe général de l'algorithme:\n",
    "\n",
    "<a href=\"https://fr.wikipedia.org/wiki/Méthode_des_k_plus_proches_voisins#/media/Fichier:KnnClassification.svg\"><img src='ressources/Knn.png' width=300px></a>\n",
    "\n",
    "Cet algorithme d'apprentissage est particulier: il n'y a pas d'apprentissage, il faut juste stocker tous les points d'apprentissage pour les réutiliser plus tard !! \n",
    "En contrepartie, l'inférence coute très cher: il faut analyser tout le dataset pour chaque prédiction afin de trouver les $k$ plus proches voisins de l'exemple à prédire."
   ]
  },
  {
   "cell_type": "markdown",
   "metadata": {},
   "source": [
    "Description de la classe `ClassifierKNN` (qui étend `Classifier`):\n",
    "- dans le constructeur, on précise, en plus de la dimension du dataset, le nombre de voisins à utiliser (valeur de $k$)\n",
    "- dans la méthode `train`, on donne le dataset qui doit servir de dataset de référence et qui va donc être stocké\n",
    "- dans la méthode `score`, pour une description d'exemple $x$ donnée :\n",
    "    - 1) on construit le tableau des distances entre $x$ et les exemples du dataset de référence, \n",
    "    - 2) on trie ce tableau grâce à la méthode `numpy.argsort`,\n",
    "    - 3) le score qui doit être rendu est alors **la proportion de classe +1** parmi les $k$ plus proches voisins de $x$. Ce score est donc un nombre réel de $[0,1]$ qui vaut $0.0$ si tous les $k$ voisins de $x$ sont de la classe $-1$ et qui vaut $1.0$ si tous les $k$ voisins de $x$ sont de laclasse $+1$. <br/> Par conséquent, si $k$ vaut $1$ (on ne regarde que le plus proche voisin), la méthode `score` rend donc soit $0.0$ soit $1.0$ selon la classe de ce voisin.\n",
    "- dans la méthode `predict`, pour une description d'exemple $x$ donnée, on utilise le score rendu par la fonction précédente pour rendre la classe de l'exemple, c'est-à-dire soit $-1$ soit $+1$. "
   ]
  },
  {
   "cell_type": "markdown",
   "metadata": {},
   "source": [
    "<font color=\"RED\" size=\"+1\">**[Q]**</font> Compléter le code de la classe `ClassifierKNN` "
   ]
  },
  {
   "cell_type": "code",
   "execution_count": 37,
   "metadata": {},
   "outputs": [],
   "source": [
    "class ClassifierKNN(Classifier):\n",
    "    \"\"\" Classe pour représenter un classifieur par K plus proches voisins.\n",
    "        Cette classe hérite de la classe Classifier\n",
    "    \"\"\"\n",
    "\n",
    "    #TODO: A Compléter\n",
    "    \n",
    "    def __init__(self, input_dimension, k):\n",
    "        \"\"\" Constructeur de Classifier\n",
    "            Argument:\n",
    "                - intput_dimension (int) : dimension d'entrée des exemples\n",
    "                - k (int) : nombre de voisins à considérer\n",
    "            Hypothèse : input_dimension > 0\n",
    "        \"\"\"\n",
    "        self.input_dimension = input_dimension\n",
    "        self.k = k\n",
    "        \n",
    "    def score(self,x):\n",
    "        \"\"\" rend la proportion de +1 parmi les k ppv de x (valeur réelle)\n",
    "            x: une description : un ndarray\n",
    "        \"\"\"\n",
    "        # On crée le tableau des distances entre les descriptions et x\n",
    "        tab_distance = np.asarray([mt.sqrt(mt.pow(x[0] - self.desc_set[i][0], 2) + mt.pow(x[1] - self.desc_set[i][1], 2)) for i in range(100)])\n",
    "                          \n",
    "        # On obtient le tableau des ordres en fonction de la distance (min à max)\n",
    "        ordre_distance = np.argsort(tab_distance)\n",
    "\n",
    "        # On renvoie le nombre de voisins +1 parmi les k plus proches voisins\n",
    "        nbv = 0\n",
    "        for i in range(self.k) :\n",
    "            for j in range(len(ordre_distance)) :\n",
    "                if (ordre_distance[j] == i) :\n",
    "                    if (self.label_set[ordre_distance[j]] > 0) :\n",
    "                        nbv += 1\n",
    "                        \n",
    "        # On retourne la proportion\n",
    "        return nbv / self.k\n",
    "    \n",
    "    def predict(self, x):\n",
    "        \"\"\" rend la prediction sur x (-1 ou +1)\n",
    "            x: une description : un ndarray\n",
    "        \"\"\"\n",
    "        if self.score(x) >= 0.5 :\n",
    "            return 1\n",
    "        else :\n",
    "            return -1\n",
    "\n",
    "    def train(self, desc_set, label_set):\n",
    "        \"\"\" Permet d'entrainer le modele sur l'ensemble donné\n",
    "            desc_set: ndarray avec des descriptions\n",
    "            label_set: ndarray avec les labels correspondants\n",
    "            Hypothèse: desc_set et label_set ont le même nombre de lignes\n",
    "        \"\"\"        \n",
    "        self.desc_set = desc_set\n",
    "        self.label_set = label_set"
   ]
  },
  {
   "cell_type": "markdown",
   "metadata": {},
   "source": [
    "<font color=\"RED\" size=\"+1\">**[Q]**</font> Evaluer la classe précédente sur les données jouets que vous avez utilisé jusqu'ici.\n",
    "\n",
    "Analyser graphiquement les performances du modèle en fonction de $k$."
   ]
  },
  {
   "cell_type": "code",
   "execution_count": 38,
   "metadata": {},
   "outputs": [
    {
     "name": "stdout",
     "output_type": "stream",
     "text": [
      "Coordonnees de x : (0, 0)\n",
      "Score de x avec 25 voisins = 0.44\n",
      "Prediction de x avec 25 voisins = -1\n"
     ]
    },
    {
     "data": {
      "image/png": "[encoded data removed]",
      "text/plain": [
       "<Figure size 432x288 with 1 Axes>"
      ]
     },
     "metadata": {
      "needs_background": "light"
     },
     "output_type": "display_data"
    }
   ],
   "source": [
    "# On crée 100 points aléatoires\n",
    "data_desc_100 = np.random.uniform(-5, 5, (100, 2))\n",
    "\n",
    "# On crée 100 étiquettes aléatoires\n",
    "data_label_100 = np.asarray([-1 for i in range(50)] + [1 for i in range(50)])\n",
    "np.random.shuffle(data_label_100)\n",
    "\n",
    "# Création du classifieur\n",
    "classifieur_knn = ClassifierKNN(2, 25)\n",
    "classifieur_knn2 = ClassifierKNN(2, 50)\n",
    "classifieur_knn3 = ClassifierKNN(2, 75)\n",
    "\n",
    "# On entraine le classifieur\n",
    "classifieur_knn.train(data_desc_100, data_label_100)\n",
    "classifieur_knn2.train(data_desc_100, data_label_100)\n",
    "classifieur_knn3.train(data_desc_100, data_label_100)\n",
    "\n",
    "# On print le score de x\n",
    "x = (0, 0)\n",
    "print(\"Coordonnees de x :\", x)\n",
    "print(\"Score de x avec\", classifieur_knn.k, \"voisins =\", classifieur_knn.score(x))\n",
    "print(\"Prediction de x avec\", classifieur_knn.k, \"voisins =\", classifieur_knn.predict(x))\n",
    "\n",
    "plot_frontiere(data_desc_100, data_label_100, classifieur_knn)\n",
    "plot2DSet(data_desc_100,data_label_100)"
   ]
  },
  {
   "cell_type": "code",
   "execution_count": 39,
   "metadata": {},
   "outputs": [
    {
     "name": "stdout",
     "output_type": "stream",
     "text": [
      "Coordonnees de x : (0, 0)\n",
      "Score de x avec 50 voisins = 0.5\n",
      "Prediction de x avec 50 voisins = 1\n"
     ]
    },
    {
     "data": {
      "image/png": "[encoded data removed]",
      "text/plain": [
       "<Figure size 432x288 with 1 Axes>"
      ]
     },
     "metadata": {
      "needs_background": "light"
     },
     "output_type": "display_data"
    }
   ],
   "source": [
    "print(\"Coordonnees de x :\", x)\n",
    "print(\"Score de x avec\", classifieur_knn2.k, \"voisins =\", classifieur_knn2.score(x))\n",
    "print(\"Prediction de x avec\", classifieur_knn2.k, \"voisins =\", classifieur_knn2.predict(x))\n",
    "\n",
    "plot_frontiere(data_desc_100, data_label_100, classifieur_knn2)\n",
    "plot2DSet(data_desc_100,data_label_100)"
   ]
  },
  {
   "cell_type": "code",
   "execution_count": 256,
   "metadata": {},
   "outputs": [
    {
     "name": "stdout",
     "output_type": "stream",
     "text": [
      "Coordonnees de x : (0, 0)\n",
      "Score de x avec 75 voisins = 0.5066666666666667\n",
      "Prediction de x avec 75 voisins = 1\n"
     ]
    },
    {
     "data": {
      "image/png": "[encoded data removed]",
      "text/plain": [
       "<Figure size 432x288 with 1 Axes>"
      ]
     },
     "metadata": {
      "needs_background": "light"
     },
     "output_type": "display_data"
    }
   ],
   "source": [
    "print(\"Coordonnees de x :\", x)\n",
    "print(\"Score de x avec\", classifieur_knn3.k, \"voisins =\", classifieur_knn3.score(x))\n",
    "print(\"Prediction de x avec\", classifieur_knn3.k, \"voisins =\", classifieur_knn3.predict(x))\n",
    "\n",
    "plot_frontiere(data_desc_100, data_label_100, classifieur_knn3)\n",
    "plot2DSet(data_desc_100,data_label_100)"
   ]
  },
  {
   "cell_type": "markdown",
   "metadata": {},
   "source": [
    "## Données réelles UCI & USPS\n",
    "\n",
    "Plusieurs datasets sont récupérables directement en python depuis la bibliothèque scikit-learn:\n",
    "https://scikit-learn.org/stable/modules/classes.html?highlight=dataset#module-sklearn.datasets\n",
    "\n",
    "Il est aussi possible de jouer avec les données USPS (chiffres manuscrits) qui ont été présentées en cours.\n",
    "Dans la suite, nous vous proposons une petite étude sur USPS.\n"
   ]
  },
  {
   "cell_type": "markdown",
   "metadata": {},
   "source": [
    "<font color=\"RED\" size=\"+1\">**[Q]**</font> Charger les données (le code est fourni) puis isoler les 1 et les 2 pour créer un problème binaire.\n",
    "\n",
    "Pour cette sélection de données en numpy, il peut être intéressant de faire appel à `np.where`"
   ]
  },
  {
   "cell_type": "code",
   "execution_count": 260,
   "metadata": {},
   "outputs": [],
   "source": [
    "import pickle as pkl\n",
    "\n",
    "data = pkl.load(open('ressources/usps.pkl', 'rb'))\n",
    "X = np.array(data['X_train'], dtype=float) # conversion de type pour une meilleure compatibilité\n",
    "Y = np.array(data['Y_train'], dtype=float)\n",
    "\n",
    "# ------------------------ A COMPLETER :\n",
    "# reduction du jeu de donnée\n",
    "\n",
    "X12 = np.array([ X[i] for i in np.where((Y==1) | (Y==2))[0]]) \n",
    "Y12 = np.array([ Y[i] for i in np.where((Y==1) | (Y==2))[0]])\n",
    "\n"
   ]
  },
  {
   "cell_type": "markdown",
   "metadata": {},
   "source": [
    "<font color=\"RED\" size=\"+1\">**[Q]**</font> Prise en main des données:\n",
    "1. Afficher les dimensions des données\n",
    "1. Afficher la première image du jeu de données en utilisant `reshape` et `imshow` comme vu en cours.\n",
    "1. Donner l'histogramme d'illumination du premier pixel (0) puis pour le pixel 219. Analyser le résultat\n",
    "1. Sur le pixel 219, afficher l'histogramme des illuminations pour la classe 1 et pour la classe 2: vous semble-il possible de classer les données sur la base de cette seule information? Quel serait le taux de bonne classification?\n"
   ]
  },
  {
   "cell_type": "code",
   "execution_count": 277,
   "metadata": {},
   "outputs": [
    {
     "name": "stdout",
     "output_type": "stream",
     "text": [
      "1) La dimension des données est : (6229, 6229)\n",
      "256\n"
     ]
    }
   ],
   "source": [
    "# ------------------------ A COMPLETER :\n",
    "\n",
    "# On affiche la dimension des données\n",
    "print(\"1) La dimension des données est :\", (len(X), len(Y)))\n",
    "\n",
    "# On affiche la premiere image du jeu\n",
    "print(len(X[0]))"
   ]
  },
  {
   "cell_type": "markdown",
   "metadata": {},
   "source": [
    "<font color=\"RED\" size=\"+1\">**[Q]**</font> Construire un classifieur aléatoire pour ces données en utilisant le code précédent. Evaluer les performances.\n",
    "\n",
    "Le but de cette question est de vérifier que votre code n'est pas dépendant des dimensions des données: il doit s'adapter aux 256 dimensions des chiffres."
   ]
  },
  {
   "cell_type": "code",
   "execution_count": null,
   "metadata": {},
   "outputs": [],
   "source": [
    "# ------------------------ A COMPLETER :\n",
    "\n"
   ]
  },
  {
   "cell_type": "markdown",
   "metadata": {},
   "source": [
    "<font color=\"RED\" size=\"+1\">**[Q]**</font> Application du classifieur des $k$-plus proches voisins sur `X12` avec $k=5$. Evaluer les performances de votre classifieur"
   ]
  },
  {
   "cell_type": "code",
   "execution_count": null,
   "metadata": {},
   "outputs": [],
   "source": [
    "# ------------------------ A COMPLETER :\n",
    "\n"
   ]
  },
  {
   "cell_type": "markdown",
   "metadata": {},
   "source": [
    "<font color=\"RED\" size=\"+1\">**[Q]**</font> Que se passe-t-il si on prend $k=1$? Que va donner le taux de bonne classification? \n",
    "\n",
    "Ce résultat est-il satisfaisant? \n",
    "Note: il existe dans les données chargées précédemment, des données `X_test`. Estimer maintenant la performance du classifieur sur ces données."
   ]
  },
  {
   "cell_type": "code",
   "execution_count": null,
   "metadata": {},
   "outputs": [],
   "source": [
    "# ------------------------ A COMPLETER :\n",
    "\n"
   ]
  },
  {
   "cell_type": "markdown",
   "metadata": {},
   "source": [
    "<font color=\"RED\" size=\"+1\">**[Q]**</font> Proposer une nouvelle version de classifieur $k$-ppv capable de fonctionner pour des problèmes multi-classes, c'est-à-dire quand il existe $C$ classes. Tester les performances de ce nouveau classifieur sur les données USPS.\n",
    "\n",
    "Tenter des modifications sur les données (binarisation, suppression des colonnes de trop forte entropie...) et étudier l'impact sur les performances."
   ]
  },
  {
   "cell_type": "code",
   "execution_count": null,
   "metadata": {},
   "outputs": [],
   "source": [
    "# ------------------------ A COMPLETER :\n",
    "\n"
   ]
  },
  {
   "cell_type": "code",
   "execution_count": null,
   "metadata": {},
   "outputs": [],
   "source": [
    "np.unique([1, 2, 4, 4, 1, 0], return_counts=True)"
   ]
  },
  {
   "cell_type": "code",
   "execution_count": null,
   "metadata": {},
   "outputs": [],
   "source": []
  }
 ],
 "metadata": {
  "kernelspec": {
   "display_name": "Python 3",
   "language": "python",
   "name": "python3"
  },
  "language_info": {
   "codemirror_mode": {
    "name": "ipython",
    "version": 3
   },
   "file_extension": ".py",
   "mimetype": "text/x-python",
   "name": "python",
   "nbconvert_exporter": "python",
   "pygments_lexer": "ipython3",
   "version": "3.9.1"
  }
 },
 "nbformat": 4,
 "nbformat_minor": 1
}
